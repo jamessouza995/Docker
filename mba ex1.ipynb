{
 "cells": [
  {
   "cell_type": "code",
   "execution_count": 4,
   "metadata": {},
   "outputs": [
    {
     "name": "stdout",
     "output_type": "stream",
     "text": [
      "  hue__tmp_olist_customers_dataset.customer_id  \\\n",
      "0           \"06b8999e2fba1a1fbc88172c00ba8bc7\"   \n",
      "1           \"18955e83d337fd6b2def6b18a428ac77\"   \n",
      "2           \"4e7b3e00288586ebd08712fdd0374a03\"   \n",
      "3             b2b6027bc5c5109e529d4dc6358b12c3   \n",
      "4           \"4f2d8ab171c80ec8364f7c12e35b23ad\"   \n",
      "\n",
      "  hue__tmp_olist_customers_dataset.customer_unique_id  \\\n",
      "0                 \"861eff4711a542e4b93843c6dd7febb0\"    \n",
      "1                 \"290c77bc529b7ac935b93aa66c333dc3\"    \n",
      "2                 \"060e732b5b29e8181a18229c7b0b2b5e\"    \n",
      "3                 \"259dac757896d24d7702b9acbbff3f3c\"    \n",
      "4                 \"345ecd01c38d18a9036ed96c73b8d066\"    \n",
      "\n",
      "  hue__tmp_olist_customers_dataset.customer_zip_code_prefix  \\\n",
      "0                                               None          \n",
      "1                                               None          \n",
      "2                                               None          \n",
      "3                                               None          \n",
      "4                                               None          \n",
      "\n",
      "  hue__tmp_olist_customers_dataset.customer_city  \\\n",
      "0                                         franca   \n",
      "1                          sao bernardo do campo   \n",
      "2                                      sao paulo   \n",
      "3                                mogi das cruzes   \n",
      "4                                       campinas   \n",
      "\n",
      "  hue__tmp_olist_customers_dataset.customer_state  \n",
      "0                                              SP  \n",
      "1                                              SP  \n",
      "2                                              SP  \n",
      "3                                              SP  \n",
      "4                                              SP  \n"
     ]
    }
   ],
   "source": [
    "import pyhive \n",
    "import pandas as pd\n",
    "\n",
    "conn = hive.Connection(host=\"hive-server\", port=10000, username=\"\")\n",
    "\n",
    "df = pd.read_sql(\"SELECT * FROM raw.hue__tmp_olist_customers_dataset LIMIT 50\", conn)\n",
    "\n",
    "print (df.head())"
   ]
  },
  {
   "cell_type": "code",
   "execution_count": 9,
   "metadata": {},
   "outputs": [
    {
     "name": "stdout",
     "output_type": "stream",
     "text": [
      "Confidence Cambio, Calçada Compartilhada Av São Luís, República, São Paulo, Região Imediata de São Paulo, Região Metropolitana de São Paulo, Região Geográfica Intermediária de São Paulo, São Paulo, Região Sudeste, 01046-001, Brasil\n"
     ]
    }
   ],
   "source": [
    "from geopy.geocoders import Nominatim\n",
    "geolocator = Nominatim(user_agent=\"default\")\n",
    "location = geolocator.reverse(\"-23.54612896641469, -46.64295148361138\")\n",
    "print(location.address)\n"
   ]
  },
  {
   "cell_type": "code",
   "execution_count": 10,
   "metadata": {},
   "outputs": [
    {
     "name": "stdout",
     "output_type": "stream",
     "text": [
      "{'bairro': 'República', 'cep': '01046-001', 'cidade': 'São Paulo', 'logradouro': 'Avenida São Luís - lado ímpar', 'uf': 'SP', 'complemento': ''}\n"
     ]
    }
   ],
   "source": [
    "from pycep_correios import get_address_from_cep, WebService\n",
    "\n",
    "address = get_address_from_cep('01046-001', webservice=WebService.APICEP)\n",
    "\n",
    "print(address)"
   ]
  },
  {
   "cell_type": "code",
   "execution_count": 6,
   "metadata": {},
   "outputs": [
    {
     "name": "stdout",
     "output_type": "stream",
     "text": [
      "{'bairro': 'Santo Antônio', 'cep': '37503130', 'cidade': 'Itajubá', 'logradouro': 'Rua Geraldino Campista', 'uf': 'MG', 'complemento': '- até 214/215'}\n"
     ]
    }
   ],
   "source": [
    "from pycep_correios import get_address_from_cep, WebService\n",
    "\n",
    "address = get_address_from_cep('37503-130', webservice=WebService.CORREIOS)\n",
    "\n",
    "print (address)"
   ]
  },
  {
   "cell_type": "code",
   "execution_count": null,
   "metadata": {},
   "outputs": [],
   "source": [
    "from pyhive import hive\n",
    "from LogHandler import logger\n",
    "import pandas as pd\n",
    "import os\n",
    "from dotenv import load_dotenv\n",
    "load_dotenv(\".env\")\n",
    "\n",
    "host_name = os.getenv(\"localhost\")\n",
    "port=os.getenv(\"10000\")\n",
    "user=os.getenv(\"hive\")"
   ]
  },
  {
   "cell_type": "code",
   "execution_count": null,
   "metadata": {},
   "outputs": [],
   "source": [
    "import java.sql.Connection;\n",
    "import java.sql.Statement;\n",
    "import java.sql.DriverManager;\n",
    "\n",
    "object HiveJDBCConnect extends App{\n",
    "\tvar con = null;\n",
    "\ttry {\n",
    "\t\tval conStr = \"jdbc:hive2://localhost:10000/default\";\n",
    "\t\tClass.forName(\"org.apache.hive.jdbc.HiveDriver\");\n",
    "\t\tcon = DriverManager.getConnection(conStr, \"\", \"\");\n",
    "\t\tval stmt = con.createStatement();\n",
    "\t\tstmt.executeQuery(\"Show databases\");\n",
    "\t\tSystem.out.println(\"show database successfully\");\n",
    "\t} catch (Exception ex) {\n",
    "\t\tex.printStackTrace();\n",
    "\t} finally {\n",
    "\t\ttry {\n",
    "\t\t\tif (con != null)\n",
    "\t\t\t\tcon.close();\n",
    "\t\t} catch (Exception ex) {\n",
    "\t\t}\n",
    "\t}\n",
    "}\n",
    "\n"
   ]
  },
  {
   "cell_type": "code",
   "execution_count": 3,
   "metadata": {},
   "outputs": [
    {
     "name": "stdout",
     "output_type": "stream",
     "text": [
      "<pyhive.hive.Connection object at 0x7fe7bb103e10>\n"
     ]
    }
   ],
   "source": [
    "from pyhive import hive\n",
    "import pandas as pd\n",
    "import os\n",
    "import sasl\n",
    "\n",
    "\n",
    "\n",
    "host_name = os.getenv(\"hive-server\")\n",
    "port=os.getenv(\"10000\")\n",
    "user=os.getenv(\"hive\")\n",
    "password=os.getenv(\"\")\n",
    "database=os.getenv(\"raw\")\n",
    "\n",
    "\n",
    "\n",
    "\n",
    "\n",
    "conn = hive.connect(host='hive-server', port='10000')\n",
    "\n",
    "\n",
    "print(conn)\n"
   ]
  },
  {
   "cell_type": "code",
   "execution_count": 1,
   "metadata": {},
   "outputs": [
    {
     "ename": "TypeError",
     "evalue": "Class org.apache.hive.jdbc.HiveDriver is not found\n",
     "output_type": "error",
     "traceback": [
      "\u001b[0;31m---------------------------------------------------------------------------\u001b[0m",
      "\u001b[0;31mTypeError\u001b[0m                                 Traceback (most recent call last)",
      "\u001b[0;32m<ipython-input-1-30365c5739bf>\u001b[0m in \u001b[0;36m<module>\u001b[0;34m()\u001b[0m\n\u001b[1;32m      1\u001b[0m \u001b[0;32mfrom\u001b[0m \u001b[0mhivejdbc\u001b[0m \u001b[0;32mimport\u001b[0m \u001b[0mconnect\u001b[0m\u001b[0;34m\u001b[0m\u001b[0;34m\u001b[0m\u001b[0m\n\u001b[0;32m----> 2\u001b[0;31m \u001b[0mconn\u001b[0m \u001b[0;34m=\u001b[0m \u001b[0mconnect\u001b[0m\u001b[0;34m(\u001b[0m\u001b[0;34m'hive-server'\u001b[0m\u001b[0;34m,\u001b[0m \u001b[0;34m'default'\u001b[0m\u001b[0;34m)\u001b[0m\u001b[0;34m\u001b[0m\u001b[0;34m\u001b[0m\u001b[0m\n\u001b[0m",
      "\u001b[0;32m/opt/anaconda3/lib/python3.6/site-packages/pyjdbc/connect.py\u001b[0m in \u001b[0;36m__call__\u001b[0;34m(self, *args, **kwargs)\u001b[0m\n\u001b[1;32m    725\u001b[0m         \u001b[0;34m:\u001b[0m\u001b[0;32mreturn\u001b[0m\u001b[0;34m:\u001b[0m \u001b[0mPython\u001b[0m \u001b[0mJdbcConnection\u001b[0m \u001b[0minstance\u001b[0m\u001b[0;34m\u001b[0m\u001b[0;34m\u001b[0m\u001b[0m\n\u001b[1;32m    726\u001b[0m         \"\"\"\n\u001b[0;32m--> 727\u001b[0;31m         \u001b[0;32mreturn\u001b[0m \u001b[0mself\u001b[0m\u001b[0;34m.\u001b[0m\u001b[0mconnect\u001b[0m\u001b[0;34m(\u001b[0m\u001b[0;34m*\u001b[0m\u001b[0margs\u001b[0m\u001b[0;34m,\u001b[0m \u001b[0;34m**\u001b[0m\u001b[0mkwargs\u001b[0m\u001b[0;34m)\u001b[0m\u001b[0;34m\u001b[0m\u001b[0;34m\u001b[0m\u001b[0m\n\u001b[0m",
      "\u001b[0;32m/opt/anaconda3/lib/python3.6/site-packages/pyjdbc/connect.py\u001b[0m in \u001b[0;36mconnect\u001b[0;34m(self, *args, **kwargs)\u001b[0m\n\u001b[1;32m    715\u001b[0m         \"\"\"\n\u001b[1;32m    716\u001b[0m         \u001b[0marguments\u001b[0m \u001b[0;34m=\u001b[0m \u001b[0mself\u001b[0m\u001b[0;34m.\u001b[0m\u001b[0mparse_args\u001b[0m\u001b[0;34m(\u001b[0m\u001b[0;34m*\u001b[0m\u001b[0margs\u001b[0m\u001b[0;34m,\u001b[0m \u001b[0;34m**\u001b[0m\u001b[0mkwargs\u001b[0m\u001b[0;34m)\u001b[0m\u001b[0;34m\u001b[0m\u001b[0;34m\u001b[0m\u001b[0m\n\u001b[0;32m--> 717\u001b[0;31m         \u001b[0mdriver_class\u001b[0m \u001b[0;34m=\u001b[0m \u001b[0mself\u001b[0m\u001b[0;34m.\u001b[0m\u001b[0mload_driver\u001b[0m\u001b[0;34m(\u001b[0m\u001b[0;34m)\u001b[0m\u001b[0;34m\u001b[0m\u001b[0;34m\u001b[0m\u001b[0m\n\u001b[0m\u001b[1;32m    718\u001b[0m         \u001b[0;32mreturn\u001b[0m \u001b[0mself\u001b[0m\u001b[0;34m.\u001b[0m\u001b[0mget_connection\u001b[0m\u001b[0;34m(\u001b[0m\u001b[0mdriver_class\u001b[0m\u001b[0;34m,\u001b[0m \u001b[0marguments\u001b[0m\u001b[0;34m)\u001b[0m\u001b[0;34m\u001b[0m\u001b[0;34m\u001b[0m\u001b[0m\n\u001b[1;32m    719\u001b[0m \u001b[0;34m\u001b[0m\u001b[0m\n",
      "\u001b[0;32m/opt/anaconda3/lib/python3.6/site-packages/pyjdbc/connect.py\u001b[0m in \u001b[0;36mload_driver\u001b[0;34m(self)\u001b[0m\n\u001b[1;32m    659\u001b[0m             \u001b[0;31m# try to load the driver normally, this assumes the classpath has been set for us by the user\u001b[0m\u001b[0;34m\u001b[0m\u001b[0;34m\u001b[0m\u001b[0;34m\u001b[0m\u001b[0m\n\u001b[1;32m    660\u001b[0m             \u001b[0;32mtry\u001b[0m\u001b[0;34m:\u001b[0m\u001b[0;34m\u001b[0m\u001b[0;34m\u001b[0m\u001b[0m\n\u001b[0;32m--> 661\u001b[0;31m                 \u001b[0mdriver\u001b[0m \u001b[0;34m=\u001b[0m \u001b[0mJClass\u001b[0m\u001b[0;34m(\u001b[0m\u001b[0mself\u001b[0m\u001b[0;34m.\u001b[0m\u001b[0mdriver_class\u001b[0m\u001b[0;34m)\u001b[0m\u001b[0;34m\u001b[0m\u001b[0;34m\u001b[0m\u001b[0m\n\u001b[0m\u001b[1;32m    662\u001b[0m             \u001b[0;32mexcept\u001b[0m \u001b[0mJClass\u001b[0m\u001b[0;34m(\u001b[0m\u001b[0;34m'java.lang.ClassNotFoundException'\u001b[0m\u001b[0;34m)\u001b[0m\u001b[0;34m:\u001b[0m\u001b[0;34m\u001b[0m\u001b[0;34m\u001b[0m\u001b[0m\n\u001b[1;32m    663\u001b[0m                 raise DriverNotFoundError('The driver class \"{}\" could not be found on '\n",
      "\u001b[0;32m/opt/anaconda3/lib/python3.6/site-packages/jpype/_jclass.py\u001b[0m in \u001b[0;36m__new__\u001b[0;34m(cls, jc, loader, initialize)\u001b[0m\n\u001b[1;32m     97\u001b[0m \u001b[0;34m\u001b[0m\u001b[0m\n\u001b[1;32m     98\u001b[0m         \u001b[0;31m# Pass to class factory to create the type\u001b[0m\u001b[0;34m\u001b[0m\u001b[0;34m\u001b[0m\u001b[0;34m\u001b[0m\u001b[0m\n\u001b[0;32m---> 99\u001b[0;31m         \u001b[0;32mreturn\u001b[0m \u001b[0m_jpype\u001b[0m\u001b[0;34m.\u001b[0m\u001b[0m_getClass\u001b[0m\u001b[0;34m(\u001b[0m\u001b[0mjc\u001b[0m\u001b[0;34m)\u001b[0m\u001b[0;34m\u001b[0m\u001b[0;34m\u001b[0m\u001b[0m\n\u001b[0m\u001b[1;32m    100\u001b[0m \u001b[0;34m\u001b[0m\u001b[0m\n\u001b[1;32m    101\u001b[0m \u001b[0;34m\u001b[0m\u001b[0m\n",
      "\u001b[0;31mTypeError\u001b[0m: Class org.apache.hive.jdbc.HiveDriver is not found\n"
     ]
    }
   ],
   "source": [
    "from hivejdbc import connect\n",
    "conn = connect('hive-server', 'default')"
   ]
  },
  {
   "cell_type": "code",
   "execution_count": null,
   "metadata": {},
   "outputs": [],
   "source": []
  },
  {
   "cell_type": "code",
   "execution_count": null,
   "metadata": {},
   "outputs": [],
   "source": []
  },
  {
   "cell_type": "code",
   "execution_count": null,
   "metadata": {},
   "outputs": [],
   "source": []
  },
  {
   "cell_type": "code",
   "execution_count": null,
   "metadata": {},
   "outputs": [],
   "source": []
  }
 ],
 "metadata": {
  "kernelspec": {
   "display_name": "Python 3",
   "language": "python",
   "name": "python3"
  },
  "language_info": {
   "codemirror_mode": {
    "name": "ipython",
    "version": 3
   },
   "file_extension": ".py",
   "mimetype": "text/x-python",
   "name": "python",
   "nbconvert_exporter": "python",
   "pygments_lexer": "ipython3",
   "version": "3.6.10"
  }
 },
 "nbformat": 4,
 "nbformat_minor": 2
}
