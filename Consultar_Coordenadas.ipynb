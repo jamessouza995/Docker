{
 "cells": [
  {
   "cell_type": "code",
   "execution_count": 1,
   "id": "7070e106",
   "metadata": {},
   "outputs": [],
   "source": [
    "import pandas as pd\n",
    "from geopy.geocoders import Nominatim\n",
    "import time"
   ]
  },
  {
   "cell_type": "code",
   "execution_count": 3,
   "id": "6103e762",
   "metadata": {},
   "outputs": [],
   "source": [
    "df = pd.read_csv('databr/olist_geolocation_dataset.csv')\n",
    "df['coord'] = df.geolocation_lat.astype(str) + ', ' + df.geolocation_lng.astype(str)\n",
    "df = df.drop_duplicates(subset=['geolocation_zip_code_prefix'])"
   ]
  },
  {
   "cell_type": "code",
   "execution_count": null,
   "id": "1de73026",
   "metadata": {},
   "outputs": [],
   "source": [
    "from geopy.extra.rate_limiter import RateLimiter\n",
    "geocode = RateLimiter(geolocator.geocode, min_delay_seconds=1)\n",
    "start = time.time()\n",
    "df['location'] = df['coord'].apply(geocode)\n",
    "end = time.time()\n",
    "df.to_csv('cep/ceps.csv')\n",
    "print(end-start)"
   ]
  }
 ],
 "metadata": {
  "kernelspec": {
   "display_name": "Python 3 (ipykernel)",
   "language": "python",
   "name": "python3"
  },
  "language_info": {
   "codemirror_mode": {
    "name": "ipython",
    "version": 3
   },
   "file_extension": ".py",
   "mimetype": "text/x-python",
   "name": "python",
   "nbconvert_exporter": "python",
   "pygments_lexer": "ipython3",
   "version": "3.10.2"
  }
 },
 "nbformat": 4,
 "nbformat_minor": 5
}
