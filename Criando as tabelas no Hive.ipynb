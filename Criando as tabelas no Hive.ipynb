{
 "cells": [
  {
   "cell_type": "code",
   "execution_count": 1,
   "metadata": {},
   "outputs": [],
   "source": [
    "from pyspark.sql import SparkSession\n",
    "from pyspark.sql import Row\n",
    "spark = SparkSession \\\n",
    "    .builder \\\n",
    "    .appName(\"fiap mba\") \\\n",
    "    .enableHiveSupport() \\\n",
    "    .getOrCreate()"
   ]
  },
  {
   "cell_type": "markdown",
   "metadata": {},
   "source": [
    "## Criando um database"
   ]
  },
  {
   "cell_type": "code",
   "execution_count": 38,
   "metadata": {},
   "outputs": [
    {
     "data": {
      "text/plain": [
       "DataFrame[]"
      ]
     },
     "execution_count": 38,
     "metadata": {},
     "output_type": "execute_result"
    }
   ],
   "source": [
    "spark.sql(\"CREATE DATABASE IF NOT EXISTS olist LOCATION '/user/hive/warehouse/gold/'\")"
   ]
  },
  {
   "cell_type": "code",
   "execution_count": 2,
   "metadata": {},
   "outputs": [
    {
     "name": "stdout",
     "output_type": "stream",
     "text": [
      "+------------+\n",
      "|databaseName|\n",
      "+------------+\n",
      "|     default|\n",
      "|       olist|\n",
      "|        test|\n",
      "+------------+\n",
      "\n"
     ]
    }
   ],
   "source": [
    "spark.sql('show databases').show()"
   ]
  },
  {
   "cell_type": "code",
   "execution_count": 3,
   "metadata": {},
   "outputs": [
    {
     "data": {
      "text/plain": [
       "DataFrame[]"
      ]
     },
     "execution_count": 3,
     "metadata": {},
     "output_type": "execute_result"
    }
   ],
   "source": [
    "spark.sql(\"use olist\")"
   ]
  },
  {
   "cell_type": "code",
   "execution_count": 4,
   "metadata": {},
   "outputs": [
    {
     "name": "stdout",
     "output_type": "stream",
     "text": [
      "+--------+--------------------+-----------+\n",
      "|database|           tableName|isTemporary|\n",
      "+--------+--------------------+-----------+\n",
      "|   olist|     olist_customers|      false|\n",
      "|   olist|   olist_order_items|      false|\n",
      "|   olist|olist_order_payments|      false|\n",
      "|   olist| olist_order_reviews|      false|\n",
      "|   olist|        olist_orders|      false|\n",
      "|   olist|olist_product_cat...|      false|\n",
      "|   olist|      olist_products|      false|\n",
      "|   olist|       olist_sellers|      false|\n",
      "+--------+--------------------+-----------+\n",
      "\n"
     ]
    }
   ],
   "source": [
    "spark.sql(\"show tables in olist\").show()"
   ]
  },
  {
   "cell_type": "markdown",
   "metadata": {},
   "source": [
    "## Criando as tabelas"
   ]
  },
  {
   "cell_type": "code",
   "execution_count": 42,
   "metadata": {},
   "outputs": [],
   "source": [
    "from os import listdir\n",
    "from os.path import isfile, join\n",
    "\n",
    "onlyfiles = ['olist_customers',\n",
    "'olist_order_items',\n",
    "'olist_order_payments',\n",
    "'olist_order_reviews',\n",
    "'olist_orders',\n",
    "'olist_products',\n",
    "'olist_sellers',\n",
    "'olist_product_category_name_translation']\n",
    "\n",
    "for f in onlyfiles:\n",
    "    \n",
    "    file_path = \"/user/hive/warehouse/silver/\" + f + \".parquet\"\n",
    "\n",
    "    df = (\n",
    "        spark.read\n",
    "        .format(\"parquet\")\n",
    "        .load(file_path)\n",
    "    )\n",
    "\n",
    "    df.createOrReplaceTempView(\"mytempTable\")\n",
    "    sqlContext.sql(\"create table olist.\" + f + \" as select * from mytempTable\");\n",
    "   "
   ]
  },
  {
   "cell_type": "code",
   "execution_count": 5,
   "metadata": {},
   "outputs": [
    {
     "name": "stdout",
     "output_type": "stream",
     "text": [
      "+--------+--------------------+-----------+\n",
      "|database|           tableName|isTemporary|\n",
      "+--------+--------------------+-----------+\n",
      "|   olist|     olist_customers|      false|\n",
      "|   olist|   olist_order_items|      false|\n",
      "|   olist|olist_order_payments|      false|\n",
      "|   olist| olist_order_reviews|      false|\n",
      "|   olist|        olist_orders|      false|\n",
      "|   olist|olist_product_cat...|      false|\n",
      "|   olist|      olist_products|      false|\n",
      "|   olist|       olist_sellers|      false|\n",
      "+--------+--------------------+-----------+\n",
      "\n"
     ]
    }
   ],
   "source": [
    "spark.sql(\"show tables in olist\").show()"
   ]
  },
  {
   "cell_type": "code",
   "execution_count": null,
   "metadata": {},
   "outputs": [],
   "source": []
  }
 ],
 "metadata": {
  "kernelspec": {
   "display_name": "PySpark",
   "language": "python",
   "name": "pyspark"
  },
  "language_info": {
   "codemirror_mode": {
    "name": "ipython",
    "version": 3
   },
   "file_extension": ".py",
   "mimetype": "text/x-python",
   "name": "python",
   "nbconvert_exporter": "python",
   "pygments_lexer": "ipython3",
   "version": "3.6.10"
  }
 },
 "nbformat": 4,
 "nbformat_minor": 2
}
