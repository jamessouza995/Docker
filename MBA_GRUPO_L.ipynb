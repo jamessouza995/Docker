{
 "cells": [
  {
   "cell_type": "code",
   "execution_count": 1,
   "metadata": {},
   "outputs": [
    {
     "name": "stdout",
     "output_type": "stream",
     "text": [
      "Collecting kaggle\n",
      "  Downloading kaggle-1.5.12.tar.gz (58 kB)\n",
      "\u001b[K     |████████████████████████████████| 58 kB 350 kB/s eta 0:00:01     |██████████████████████▎         | 40 kB 751 kB/s eta 0:00:01\n",
      "\u001b[?25hRequirement already satisfied: six>=1.10 in /opt/anaconda3/lib/python3.6/site-packages (from kaggle) (1.14.0)\n",
      "Requirement already satisfied: certifi in /opt/anaconda3/lib/python3.6/site-packages (from kaggle) (2019.11.28)\n",
      "Requirement already satisfied: python-dateutil in /opt/anaconda3/lib/python3.6/site-packages (from kaggle) (2.8.1)\n",
      "Requirement already satisfied: requests in /opt/anaconda3/lib/python3.6/site-packages (from kaggle) (2.18.4)\n",
      "Collecting tqdm\n",
      "  Downloading tqdm-4.64.0-py2.py3-none-any.whl (78 kB)\n",
      "\u001b[K     |████████████████████████████████| 78 kB 1.1 MB/s eta 0:00:01\n",
      "\u001b[?25hCollecting python-slugify\n",
      "  Downloading python_slugify-6.1.1-py2.py3-none-any.whl (9.1 kB)\n",
      "Requirement already satisfied: urllib3 in /opt/anaconda3/lib/python3.6/site-packages (from kaggle) (1.22)\n",
      "Requirement already satisfied: chardet<3.1.0,>=3.0.2 in /opt/anaconda3/lib/python3.6/site-packages (from requests->kaggle) (3.0.4)\n",
      "Requirement already satisfied: idna<2.7,>=2.5 in /opt/anaconda3/lib/python3.6/site-packages (from requests->kaggle) (2.6)\n",
      "Collecting importlib-resources; python_version < \"3.7\"\n",
      "  Downloading importlib_resources-5.4.0-py3-none-any.whl (28 kB)\n",
      "Collecting text-unidecode>=1.3\n",
      "  Downloading text_unidecode-1.3-py2.py3-none-any.whl (78 kB)\n",
      "\u001b[K     |████████████████████████████████| 78 kB 2.1 MB/s eta 0:00:01\n",
      "\u001b[?25hCollecting zipp>=3.1.0; python_version < \"3.10\"\n",
      "  Downloading zipp-3.6.0-py3-none-any.whl (5.3 kB)\n",
      "Building wheels for collected packages: kaggle\n",
      "  Building wheel for kaggle (setup.py) ... \u001b[?25ldone\n",
      "\u001b[?25h  Created wheel for kaggle: filename=kaggle-1.5.12-py3-none-any.whl size=73053 sha256=3ed9cd76355f9ba30a7eb88a3af236a4ab51dde864d04769eccf4385e9a138c9\n",
      "  Stored in directory: /root/.cache/pip/wheels/77/47/e4/44a4ba1b7dfd53faaa35f59f1175e123b213ff401a8a56876b\n",
      "Successfully built kaggle\n",
      "Installing collected packages: zipp, importlib-resources, tqdm, text-unidecode, python-slugify, kaggle\n",
      "Successfully installed importlib-resources-5.4.0 kaggle-1.5.12 python-slugify-6.1.1 text-unidecode-1.3 tqdm-4.64.0 zipp-3.6.0\n"
     ]
    }
   ],
   "source": [
    "!pip install kaggle"
   ]
  },
  {
   "cell_type": "code",
   "execution_count": 3,
   "metadata": {},
   "outputs": [
    {
     "name": "stdout",
     "output_type": "stream",
     "text": [
      "mkdir: cannot create directory ‘/root/.kaggle’: File exists\r\n"
     ]
    }
   ],
   "source": [
    "!mkdir ~/.kaggle"
   ]
  },
  {
   "cell_type": "code",
   "execution_count": 7,
   "metadata": {},
   "outputs": [],
   "source": [
    "!cp /tmp/kaggle.json ~/.kaggle/kaggle.json"
   ]
  },
  {
   "cell_type": "code",
   "execution_count": 8,
   "metadata": {},
   "outputs": [
    {
     "name": "stdout",
     "output_type": "stream",
     "text": [
      "kaggle.json\r\n"
     ]
    }
   ],
   "source": [
    "!cd /root/.kaggle/ && ls"
   ]
  },
  {
   "cell_type": "code",
   "execution_count": 9,
   "metadata": {},
   "outputs": [
    {
     "name": "stdout",
     "output_type": "stream",
     "text": [
      "Warning: Your Kaggle API key is readable by other users on this system! To fix this, you can run 'chmod 600 /root/.kaggle/kaggle.json'\n",
      "ref                                                    title                                              size  lastUpdated          downloadCount  voteCount  usabilityRating  \n",
      "-----------------------------------------------------  ------------------------------------------------  -----  -------------------  -------------  ---------  ---------------  \n",
      "datasets/olistbr/brazilian-ecommerce                   Brazilian E-Commerce Public Dataset by Olist       43MB  2021-10-01 19:08:27         119734       2190  1.0              \n",
      "datasets/olistbr/marketing-funnel-olist                Marketing Funnel by Olist                         278KB  2018-11-16 14:00:20           8280        220  1.0              \n",
      "datasets/fredericods/ptbr-sentiment-analysis-datasets  Brazilian Portuguese Sentiment Analysis Datasets  877MB  2021-06-23 00:37:01            160          6  0.4117647        \n",
      "datasets/datacertlaboratoria/capstone                  Proyecto 6: Capstone                                1KB  2022-03-16 17:59:36              9          0  1.0              \n"
     ]
    }
   ],
   "source": [
    "!kaggle datasets list -s 'olistbr/brazilian-ecommerce'"
   ]
  },
  {
   "cell_type": "code",
   "execution_count": 10,
   "metadata": {},
   "outputs": [
    {
     "name": "stdout",
     "output_type": "stream",
     "text": [
      "Warning: Your Kaggle API key is readable by other users on this system! To fix this, you can run 'chmod 600 /root/.kaggle/kaggle.json'\n",
      "Downloading brazilian-ecommerce.zip to /mnt/notebooks\n",
      " 98%|█████████████████████████████████████▍| 42.0M/42.6M [00:04<00:00, 10.4MB/s]\n",
      "100%|██████████████████████████████████████| 42.6M/42.6M [00:04<00:00, 9.76MB/s]\n"
     ]
    }
   ],
   "source": [
    "!kaggle datasets download -d olistbr/brazilian-ecommerce"
   ]
  },
  {
   "cell_type": "code",
   "execution_count": 13,
   "metadata": {},
   "outputs": [
    {
     "name": "stdout",
     "output_type": "stream",
     "text": [
      "Get:1 http://security.debian.org stretch/updates InRelease [53.0 kB]\n",
      "Ign:2 http://deb.debian.org/debian stretch InRelease    \n",
      "Get:3 http://deb.debian.org/debian stretch-updates InRelease [93.6 kB]\n",
      "Get:4 http://deb.debian.org/debian stretch Release [118 kB]      \n",
      "Get:5 http://deb.debian.org/debian stretch Release.gpg [3177 B]\n",
      "Get:6 http://security.debian.org stretch/updates/main amd64 Packages [968 kB]\n",
      "Get:7 http://deb.debian.org/debian stretch/main amd64 Packages [9610 kB]\n",
      "Fetched 10.8 MB in 4s (2333 kB/s)    \n",
      "Reading package lists... Done\n",
      "Reading package lists... Done\n",
      "Building dependency tree       \n",
      "Reading state information... Done\n",
      "Suggested packages:\n",
      "  zip\n",
      "The following NEW packages will be installed:\n",
      "  unzip\n",
      "0 upgraded, 1 newly installed, 0 to remove and 53 not upgraded.\n",
      "Need to get 172 kB of archives.\n",
      "After this operation, 559 kB of additional disk space will be used.\n",
      "Get:1 http://deb.debian.org/debian stretch/main amd64 unzip amd64 6.0-21+deb9u2 [172 kB]\n",
      "Fetched 172 kB in 0s (669 kB/s)\n",
      "debconf: delaying package configuration, since apt-utils is not installed\n",
      "Selecting previously unselected package unzip.\n",
      "(Reading database ... 10795 files and directories currently installed.)\n",
      "Preparing to unpack .../unzip_6.0-21+deb9u2_amd64.deb ...\n",
      "Unpacking unzip (6.0-21+deb9u2) ...\n",
      "Processing triggers for mime-support (3.60) ...\n",
      "Setting up unzip (6.0-21+deb9u2) ...\n"
     ]
    }
   ],
   "source": [
    "!apt-get update && apt-get install unzip"
   ]
  },
  {
   "cell_type": "code",
   "execution_count": 14,
   "metadata": {},
   "outputs": [
    {
     "name": "stdout",
     "output_type": "stream",
     "text": [
      "Archive:  /mnt/notebooks/brazilian-ecommerce.zip\n",
      "  inflating: /data/./olist_customers_dataset.csv  \n",
      "  inflating: /data/./olist_geolocation_dataset.csv  \n",
      "  inflating: /data/./olist_order_items_dataset.csv  \n",
      "  inflating: /data/./olist_order_payments_dataset.csv  \n",
      "  inflating: /data/./olist_order_reviews_dataset.csv  \n",
      "  inflating: /data/./olist_orders_dataset.csv  \n",
      "  inflating: /data/./olist_products_dataset.csv  \n",
      "  inflating: /data/./olist_sellers_dataset.csv  \n",
      "  inflating: /data/./product_category_name_translation.csv  \n"
     ]
    }
   ],
   "source": [
    "!mkdir /data/ && unzip /mnt/notebooks/brazilian-ecommerce.zip -d /data/."
   ]
  },
  {
   "cell_type": "code",
   "execution_count": null,
   "metadata": {},
   "outputs": [],
   "source": [
    "!hdfs dfs -mkdir /user/hive/warehouse/loading_zone\n",
    "!hdfs dfs -mkdir /user/hive/warehouse/bronze\n",
    "!hdfs dfs -mkdir /user/hive/warehouse/silver\n",
    "!hdfs dfs -mkdir /user/hive/warehouse/gold\n"
   ]
  },
  {
   "cell_type": "code",
   "execution_count": 8,
   "metadata": {},
   "outputs": [],
   "source": [
    "!hdfs dfs -copyFromLocal /data/olist_customers_dataset.csv /user/hive/warehouse/loading_zone/\n",
    "!hdfs dfs -copyFromLocal /data/olist_geolocation_dataset.csv /user/hive/warehouse/loading_zone/\n",
    "!hdfs dfs -copyFromLocal /data/olist_order_items_dataset.csv /user/hive/warehouse/loading_zone/\n",
    "!hdfs dfs -copyFromLocal /data/olist_order_payments_dataset.csv /user/hive/warehouse/loading_zone/\n",
    "!hdfs dfs -copyFromLocal /data/olist_order_reviews_dataset.csv /user/hive/warehouse/loading_zone/\n",
    "!hdfs dfs -copyFromLocal /data/olist_orders_dataset.csv /user/hive/warehouse/loading_zone/\n",
    "!hdfs dfs -copyFromLocal /data/olist_products_dataset.csv /user/hive/warehouse/loading_zone/\n",
    "!hdfs dfs -copyFromLocal /data/olist_sellers_dataset.csv /user/hive/warehouse/loading_zone/\n",
    "!hdfs dfs -copyFromLocal /data/product_category_name_translation.csv /user/hive/warehouse/loading_zone/\n"
   ]
  },
  {
   "cell_type": "code",
   "execution_count": 15,
   "metadata": {},
   "outputs": [
    {
     "name": "stdout",
     "output_type": "stream",
     "text": [
      "Collecting pyspark\n",
      "  Downloading pyspark-3.2.1.tar.gz (281.4 MB)\n",
      "\u001b[K     |████████████████████████████████| 281.4 MB 25 kB/s  eta 0:00:014  |▍                               | 3.6 MB 2.4 MB/s eta 0:01:58     |▉                               | 7.3 MB 2.4 MB/s eta 0:01:56     |███▋                            | 32.1 MB 6.2 MB/s eta 0:00:41     |████                            | 35.5 MB 6.2 MB/s eta 0:00:40     |████▉                           | 42.4 MB 7.3 MB/s eta 0:00:33     |██████▌                         | 57.5 MB 19.1 MB/s eta 0:00:12     |███████▊                        | 67.9 MB 10.0 MB/s eta 0:00:22     |████████▋                       | 76.0 MB 6.4 MB/s eta 0:00:33     |█████████                       | 78.7 MB 6.4 MB/s eta 0:00:32     |█████████▋                      | 84.4 MB 2.3 MB/s eta 0:01:25     |█████████▉                      | 86.3 MB 13.4 MB/s eta 0:00:15     |██████████▋                     | 93.4 MB 9.8 MB/s eta 0:00:20     |███████████                     | 97.2 MB 9.8 MB/s eta 0:00:19     |████████████▋                   | 110.6 MB 13.4 MB/s eta 0:00:13     |█████████████▊                  | 120.3 MB 3.2 MB/s eta 0:00:50     |██████████████▉                 | 130.4 MB 3.3 MB/s eta 0:00:46     |███████████████                 | 130.9 MB 3.3 MB/s eta 0:00:45     |███████████████▋                | 137.0 MB 3.3 MB/s eta 0:00:44     |████████████████▎               | 143.4 MB 8.4 MB/s eta 0:00:17     |████████████████▌               | 145.4 MB 8.4 MB/s eta 0:00:17     |█████████████████               | 150.2 MB 11.0 MB/s eta 0:00:12     |█████████████████▏              | 150.7 MB 11.0 MB/s eta 0:00:12     |███████████████████             | 166.5 MB 5.7 MB/s eta 0:00:20     |███████████████████▏            | 168.6 MB 5.7 MB/s eta 0:00:20   | 175.3 MB 8.2 MB/s eta 0:00:13�████████▍           | 179.2 MB 8.2 MB/s eta 0:00:13     |████████████████████▋           | 181.2 MB 8.2 MB/s eta 0:00:13�████████▋           | 181.7 MB 8.2 MB/s eta 0:00:13     |█████████████████████▉          | 191.6 MB 6.9 MB/s eta 0:00:13     |██████████████████████          | 194.0 MB 6.9 MB/s eta 0:00:13     |██████████████████████▎         | 196.2 MB 6.9 MB/s eta 0:00:13�██████████▍        | 205.5 MB 10.6 MB/s eta 0:00:08     |████████████████████████▌       | 215.1 MB 7.5 MB/s eta 0:00:09     |█████████████████████████▊      | 225.9 MB 9.2 MB/s eta 0:00:06     |██████████████████████████      | 227.8 MB 9.2 MB/s eta 0:00:06�█▌     | 232.5 MB 13.5 MB/s eta 0:00:04��███     | 237.0 MB 13.5 MB/s eta 0:00:04��█████████████▎    | 239.9 MB 13.5 MB/s eta 0:00:04��███████████████████▌   | 250.8 MB 6.1 MB/s eta 0:00:06     |██████████████████████████████  | 262.8 MB 6.2 MB/s eta 0:00:03    |██████████████████████████████  | 264.0 MB 6.2 MB/s eta 0:00:03     |██████████████████████████████  | 264.5 MB 9.2 MB/s eta 0:00:021 MB 9.2 MB/s eta 0:00:025 MB 9.2 MB/s eta 0:00:02     |██████████████████████████████▍ | 267.4 MB 9.2 MB/s eta 0:00:022 MB 7.9 MB/s eta 0:00:02███████▎| 274.9 MB 7.9 MB/s eta 0:00:01████████| 280.4 MB 7.9 MB/s eta 0:00:01\n",
      "\u001b[?25hCollecting py4j==0.10.9.3\n",
      "  Downloading py4j-0.10.9.3-py2.py3-none-any.whl (198 kB)\n",
      "\u001b[K     |████████████████████████████████| 198 kB 5.9 MB/s eta 0:00:01\n",
      "\u001b[?25hBuilding wheels for collected packages: pyspark\n",
      "  Building wheel for pyspark (setup.py) ... \u001b[?25ldone\n",
      "\u001b[?25h  Created wheel for pyspark: filename=pyspark-3.2.1-py2.py3-none-any.whl size=281853644 sha256=b633c02738f8430c844d523657d44aa17ea0034205829936f7764ee2b995578f\n",
      "  Stored in directory: /root/.cache/pip/wheels/bc/fa/63/f112e9bf64fa59f349f9d37b48b70911435dc532ff49cffddc\n",
      "Successfully built pyspark\n",
      "Installing collected packages: py4j, pyspark\n",
      "Successfully installed py4j-0.10.9.3 pyspark-3.2.1\n"
     ]
    }
   ],
   "source": [
    "!pip install pyspark"
   ]
  },
  {
   "cell_type": "code",
   "execution_count": 13,
   "metadata": {},
   "outputs": [
    {
     "name": "stdout",
     "output_type": "stream",
     "text": [
      "+---------------------------+-------------------+-------------------+----------------+-----------------+\n",
      "|geolocation_zip_code_prefix|    geolocation_lat|    geolocation_lng|geolocation_city|geolocation_state|\n",
      "+---------------------------+-------------------+-------------------+----------------+-----------------+\n",
      "|                      01037| -23.54562128115268| -46.63929204800168|       sao paulo|               SP|\n",
      "|                      01046|-23.546081127035535| -46.64482029837157|       sao paulo|               SP|\n",
      "|                      01046| -23.54612896641469| -46.64295148361138|       sao paulo|               SP|\n",
      "|                      01041|  -23.5443921648681| -46.63949930627844|       sao paulo|               SP|\n",
      "|                      01035|-23.541577961711493| -46.64160722329613|       sao paulo|               SP|\n",
      "|                      01012|-23.547762303364266| -46.63536053788448|       são paulo|               SP|\n",
      "|                      01047|-23.546273112412678| -46.64122516971552|       sao paulo|               SP|\n",
      "|                      01013|-23.546923208436723|  -46.6342636964915|       sao paulo|               SP|\n",
      "|                      01029|-23.543769055769133| -46.63427784085132|       sao paulo|               SP|\n",
      "|                      01011|-23.547639550320632| -46.63603162315495|       sao paulo|               SP|\n",
      "|                      01013|-23.547325128224376| -46.63418378613892|       sao paulo|               SP|\n",
      "|                      01032| -23.53841810407414|-46.634778375266734|       sao paulo|               SP|\n",
      "|                      01014|-23.546435343326205| -46.63383023397196|       sao paulo|               SP|\n",
      "|                      01012|-23.548945985189434| -46.63467113292871|       sao paulo|               SP|\n",
      "|                      01037|-23.545187340816042| -46.63785524104107|       são paulo|               SP|\n",
      "|                      01046|-23.546081127035535| -46.64482029837157|       sao paulo|               SP|\n",
      "|                      01039|-23.541883009983316| -46.63991946670314|       sao paulo|               SP|\n",
      "|                      01024|-23.541389521053937|-46.629899087812184|       são paulo|               SP|\n",
      "|                      01009| -23.54693540437998| -46.63658792659698|       sao paulo|               SP|\n",
      "|                      01046|-23.545884279214015|-46.643163191240035|       sao paulo|               SP|\n",
      "+---------------------------+-------------------+-------------------+----------------+-----------------+\n",
      "only showing top 20 rows\n",
      "\n",
      "Record count is: 1000163\n"
     ]
    }
   ],
   "source": [
    "from pyspark.sql import SparkSession\n",
    "\n",
    "appName = \"olist_geolocation_dataset.csv\"\n",
    "master = '/user/hive/warehouse/loading_zone/'\n",
    "\n",
    "# Create Spark session\n",
    "spark = SparkSession.builder \\\n",
    "    .master(master) \\\n",
    "    .appName(appName) \\\n",
    "    .getOrCreate()\n",
    "\n",
    "# Convert list to data frame\n",
    "df = spark.read.format('csv') \\\n",
    "                .option('header',True) \\\n",
    "                .option('multiLine', True) \\\n",
    "                .load('/user/hive/warehouse/loading_zone/olist_geolocation_dataset.csv')\n",
    "df.show()\n",
    "print(f'Record count is: {df.count()}')"
   ]
  },
  {
   "cell_type": "code",
   "execution_count": null,
   "metadata": {},
   "outputs": [],
   "source": []
  }
 ],
 "metadata": {
  "kernelspec": {
   "display_name": "PySpark",
   "language": "python",
   "name": "pyspark"
  },
  "language_info": {
   "codemirror_mode": {
    "name": "ipython",
    "version": 3
   },
   "file_extension": ".py",
   "mimetype": "text/x-python",
   "name": "python",
   "nbconvert_exporter": "python",
   "pygments_lexer": "ipython3",
   "version": "3.6.10"
  }
 },
 "nbformat": 4,
 "nbformat_minor": 2
}
