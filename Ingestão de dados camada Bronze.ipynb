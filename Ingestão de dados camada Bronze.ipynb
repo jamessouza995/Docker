{
 "cells": [
  {
   "cell_type": "code",
   "execution_count": 24,
   "metadata": {},
   "outputs": [],
   "source": [
    "from os import listdir\n",
    "from os.path import isfile, join\n",
    "\n",
    "onlyfiles = ['olist_customers_dataset.csv',\n",
    "'olist_geolocation_dataset.csv',\n",
    "'olist_order_items_dataset.csv',\n",
    "'olist_order_payments_dataset.csv',\n",
    "'olist_order_reviews_dataset.csv',\n",
    "'olist_orders_dataset.csv',\n",
    "'olist_products_dataset.csv',\n",
    "'olist_sellers_dataset.csv',\n",
    "'product_category_name_translation.csv']\n",
    "\n",
    "for f in onlyfiles:\n",
    "    \n",
    "    file_path = \"/user/hive/warehouse/loading_zone/\" + f\n",
    "\n",
    "    df = (\n",
    "        spark.read\n",
    "        .format(\"csv\")\n",
    "        .options(sep=',', header=True, inferSchema= True)\n",
    "        .load(file_path)\n",
    "    )\n",
    "\n",
    "    df.write.mode('overwrite').parquet(\"/user/hive/warehouse/bronze/\" + f.replace('_dataset.csv','').replace('.csv',''))"
   ]
  }
 ],
 "metadata": {
  "kernelspec": {
   "display_name": "PySpark",
   "language": "python",
   "name": "pyspark"
  },
  "language_info": {
   "codemirror_mode": {
    "name": "ipython",
    "version": 3
   },
   "file_extension": ".py",
   "mimetype": "text/x-python",
   "name": "python",
   "nbconvert_exporter": "python",
   "pygments_lexer": "ipython3",
   "version": "3.6.10"
  }
 },
 "nbformat": 4,
 "nbformat_minor": 2
}
