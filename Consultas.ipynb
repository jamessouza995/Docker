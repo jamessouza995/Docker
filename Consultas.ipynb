{
 "cells": [
  {
   "cell_type": "code",
   "execution_count": 1,
   "metadata": {},
   "outputs": [],
   "source": [
    "from pyspark.sql import SparkSession\n",
    "from pyspark.sql import Row\n",
    "spark = SparkSession \\\n",
    "    .builder \\\n",
    "    .appName(\"fiap mba\") \\\n",
    "    .enableHiveSupport() \\\n",
    "    .getOrCreate()"
   ]
  },
  {
   "cell_type": "code",
   "execution_count": 2,
   "metadata": {},
   "outputs": [
    {
     "data": {
      "text/plain": [
       "DataFrame[]"
      ]
     },
     "execution_count": 2,
     "metadata": {},
     "output_type": "execute_result"
    }
   ],
   "source": [
    "spark.sql(\"use olist\")"
   ]
  },
  {
   "cell_type": "markdown",
   "metadata": {},
   "source": [
    "### segmentando clientes por geolocalização"
   ]
  },
  {
   "cell_type": "code",
   "execution_count": 3,
   "metadata": {},
   "outputs": [
    {
     "name": "stdout",
     "output_type": "stream",
     "text": [
      "+--------------------+----------+\n",
      "|       customer_city|quantidade|\n",
      "+--------------------+----------+\n",
      "|           sao paulo|     15540|\n",
      "|      rio de janeiro|      6882|\n",
      "|      belo horizonte|      2773|\n",
      "|            brasilia|      2131|\n",
      "|            curitiba|      1521|\n",
      "|            campinas|      1444|\n",
      "|        porto alegre|      1379|\n",
      "|            salvador|      1245|\n",
      "|           guarulhos|      1189|\n",
      "|sao bernardo do c...|       938|\n",
      "|             niteroi|       849|\n",
      "|         santo andre|       797|\n",
      "|              osasco|       746|\n",
      "|              santos|       713|\n",
      "|             goiania|       692|\n",
      "| sao jose dos campos|       691|\n",
      "|           fortaleza|       654|\n",
      "|            sorocaba|       633|\n",
      "|              recife|       613|\n",
      "|       florianopolis|       570|\n",
      "+--------------------+----------+\n",
      "only showing top 20 rows\n",
      "\n"
     ]
    }
   ],
   "source": [
    "spark.sql(\"select customer_city, count(*) as quantidade from \\\n",
    "olist.olist_customers group by customer_city order by 2 desc\").show()"
   ]
  },
  {
   "cell_type": "code",
   "execution_count": 4,
   "metadata": {},
   "outputs": [
    {
     "name": "stdout",
     "output_type": "stream",
     "text": [
      "+--------------+----------+\n",
      "|customer_state|quantidade|\n",
      "+--------------+----------+\n",
      "|            SP|     41746|\n",
      "|            RJ|     12852|\n",
      "|            MG|     11635|\n",
      "|            RS|      5466|\n",
      "|            PR|      5045|\n",
      "|            SC|      3637|\n",
      "|            BA|      3380|\n",
      "|            DF|      2140|\n",
      "|            ES|      2033|\n",
      "|            GO|      2020|\n",
      "|            PE|      1652|\n",
      "|            CE|      1336|\n",
      "|            PA|       975|\n",
      "|            MT|       907|\n",
      "|            MA|       747|\n",
      "|            MS|       715|\n",
      "|            PB|       536|\n",
      "|            PI|       495|\n",
      "|            RN|       485|\n",
      "|            AL|       413|\n",
      "+--------------+----------+\n",
      "only showing top 20 rows\n",
      "\n"
     ]
    }
   ],
   "source": [
    "spark.sql(\"select customer_state, count(*) as quantidade from \\\n",
    "olist.olist_customers group by customer_state order by 2 desc\").show()"
   ]
  },
  {
   "cell_type": "markdown",
   "metadata": {},
   "source": [
    "### Total de pedidos por período e categorias."
   ]
  },
  {
   "cell_type": "code",
   "execution_count": 19,
   "metadata": {},
   "outputs": [
    {
     "name": "stdout",
     "output_type": "stream",
     "text": [
      "+-------------------------+\n",
      "|order_purchase_year_month|\n",
      "+-------------------------+\n",
      "|                  2016-09|\n",
      "|                  2016-09|\n",
      "|                  2016-09|\n",
      "|                  2016-10|\n",
      "|                  2016-10|\n",
      "|                  2016-10|\n",
      "|                  2016-10|\n",
      "|                  2016-10|\n",
      "|                  2016-10|\n",
      "|                  2016-10|\n",
      "|                  2016-10|\n",
      "|                  2016-10|\n",
      "|                  2016-10|\n",
      "|                  2016-10|\n",
      "|                  2016-10|\n",
      "|                  2016-10|\n",
      "|                  2016-10|\n",
      "|                  2016-10|\n",
      "|                  2016-10|\n",
      "|                  2016-10|\n",
      "+-------------------------+\n",
      "only showing top 20 rows\n",
      "\n"
     ]
    }
   ],
   "source": [
    "#spark.sql(\"SELECT year(orders.order_purchase_timestamp) || '-' || LPAD(month(orders.order_purchase_timestamp), 2, '00') as order_purchase_year_month FROM olist_orders orders INNER JOIN olist_order_items order_items ON orders.order_id = order_items.order_id INNER JOIN olist_products products ON products.product_id = order_items.product_id ORDER BY order_purchase_year_month\").show()\n",
    "\n",
    "SELECT year(orders.order_purchase_timestamp) || '-' || LPAD(month(orders.order_purchase_timestamp), 2, '00') as order_purchase_year_month, \n",
    "products.product_category_name, count(*) as quantidade\n",
    "FROM olist_orders orders \n",
    "INNER JOIN olist_order_items order_items \n",
    "ON orders.order_id = order_items.order_id \n",
    "INNER JOIN olist_products products \n",
    "ON products.product_id = order_items.product_id\n",
    "group by year(orders.order_purchase_timestamp) || '-' || LPAD(month(orders.order_purchase_timestamp), 2, '00'), product_category_name\n",
    "ORDER BY order_purchase_year_month"
   ]
  },
  {
   "cell_type": "markdown",
   "metadata": {},
   "source": [
    "### Total de pagamentos por método de pagamento."
   ]
  },
  {
   "cell_type": "code",
   "execution_count": null,
   "metadata": {},
   "outputs": [],
   "source": [
    "SELECT payment_type, count(*) as quantidade\n",
    "FROM olist.olist_order_payments\n",
    "group by payment_type\n",
    "order by quantidade desc"
   ]
  },
  {
   "cell_type": "markdown",
   "metadata": {},
   "source": [
    "### Notas das avaliações."
   ]
  },
  {
   "cell_type": "code",
   "execution_count": null,
   "metadata": {},
   "outputs": [],
   "source": [
    "# limpar 5 linhas com review_score diferente de numero"
   ]
  },
  {
   "cell_type": "code",
   "execution_count": null,
   "metadata": {},
   "outputs": [],
   "source": [
    "select review_score, count(*) as quantidade\n",
    "from olist_order_reviews\n",
    "group by review_score\n",
    "order by quantidade desc"
   ]
  },
  {
   "cell_type": "markdown",
   "metadata": {},
   "source": [
    "### Vendedores x vendas"
   ]
  },
  {
   "cell_type": "code",
   "execution_count": null,
   "metadata": {},
   "outputs": [],
   "source": [
    "SELECT year(orders.order_purchase_timestamp) || '-' || LPAD(month(orders.order_purchase_timestamp), 2, '00') as order_purchase_year_month,\n",
    "sellers.seller_id, count(*) as quantidade\n",
    "FROM olist_orders orders \n",
    "INNER JOIN olist_order_items order_items \n",
    "ON orders.order_id = order_items.order_id \n",
    "INNER JOIN olist_sellers sellers \n",
    "ON sellers.seller_id = order_items.seller_id\n",
    "group by sellers.seller_id, year(orders.order_purchase_timestamp) || '-' || LPAD(month(orders.order_purchase_timestamp), 2, '00') \n",
    "ORDER BY order_purchase_year_month"
   ]
  },
  {
   "cell_type": "code",
   "execution_count": null,
   "metadata": {},
   "outputs": [],
   "source": [
    "SELECT sellers.seller_id, count(*) as quantidade\n",
    "FROM olist_orders orders \n",
    "INNER JOIN olist_order_items order_items \n",
    "ON orders.order_id = order_items.order_id \n",
    "INNER JOIN olist_sellers sellers \n",
    "ON sellers.seller_id = order_items.seller_id\n",
    "group by sellers.seller_id\n",
    "ORDER BY quantidade desc"
   ]
  },
  {
   "cell_type": "markdown",
   "metadata": {},
   "source": [
    "### Produtos mais vendidos"
   ]
  },
  {
   "cell_type": "code",
   "execution_count": null,
   "metadata": {},
   "outputs": [],
   "source": [
    "SELECT  products.product_category_name, count(*) as quantidade\n",
    "FROM olist_orders orders \n",
    "INNER JOIN olist_order_items order_items \n",
    "ON orders.order_id = order_items.order_id \n",
    "INNER JOIN olist_products products \n",
    "ON products.product_id = order_items.product_id\n",
    "group by product_category_name\n",
    "ORDER BY quantidade desc"
   ]
  },
  {
   "cell_type": "code",
   "execution_count": null,
   "metadata": {},
   "outputs": [],
   "source": [
    "### tempo médio de entrega por estado"
   ]
  },
  {
   "cell_type": "code",
   "execution_count": null,
   "metadata": {},
   "outputs": [],
   "source": [
    "### categorias que são entregues mais rápido"
   ]
  },
  {
   "cell_type": "code",
   "execution_count": null,
   "metadata": {},
   "outputs": [],
   "source": [
    "### itens por vendedor"
   ]
  }
 ],
 "metadata": {
  "kernelspec": {
   "display_name": "PySpark",
   "language": "python",
   "name": "pyspark"
  },
  "language_info": {
   "codemirror_mode": {
    "name": "ipython",
    "version": 3
   },
   "file_extension": ".py",
   "mimetype": "text/x-python",
   "name": "python",
   "nbconvert_exporter": "python",
   "pygments_lexer": "ipython3",
   "version": "3.6.10"
  }
 },
 "nbformat": 4,
 "nbformat_minor": 2
}
