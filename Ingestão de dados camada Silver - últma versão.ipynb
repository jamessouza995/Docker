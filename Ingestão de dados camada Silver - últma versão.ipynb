{
 "cells": [
  {
   "cell_type": "code",
   "execution_count": 38,
   "metadata": {},
   "outputs": [],
   "source": [
    "file_path = \"/user/hive/warehouse/bronze/olist_geolocation\"\n",
    "\n",
    "df = (\n",
    "    spark.read\n",
    "    .format(\"parquet\")\n",
    "    .load(file_path)\n",
    ")\n",
    "\n",
    "df2 = df.limit(200)"
   ]
  },
  {
   "cell_type": "code",
   "execution_count": 40,
   "metadata": {},
   "outputs": [],
   "source": [
    "from geopy.geocoders import Nominatim\n",
    "from pyspark.sql.types import StringType\n",
    "from pyspark.sql.functions import col, udf, lit, concat\n",
    "import time"
   ]
  },
  {
   "cell_type": "code",
   "execution_count": 41,
   "metadata": {},
   "outputs": [],
   "source": [
    "@udf()\n",
    "def find_city(lat, long):\n",
    "    geolocator = Nominatim(user_agent=\"MBA_FIAP\")\n",
    "    try:\n",
    "        latlong = str(lat) + \", \" + str(long)\n",
    "        location = geolocator.reverse(latlong)\n",
    "        return location.raw[\"address\"]['postcode']\n",
    "    except:\n",
    "        return 'No city'\n",
    "\n",
    "df2 = df2.withColumn('coord', find_city(df2.geolocation_lat, df2.geolocation_lng))"
   ]
  },
  {
   "cell_type": "code",
   "execution_count": 10,
   "metadata": {},
   "outputs": [
    {
     "name": "stdout",
     "output_type": "stream",
     "text": [
      "root\n",
      " |-- geolocation_zip_code_prefix: integer (nullable = true)\n",
      " |-- geolocation_lat: double (nullable = true)\n",
      " |-- geolocation_lng: double (nullable = true)\n",
      " |-- geolocation_city: string (nullable = true)\n",
      " |-- geolocation_state: string (nullable = true)\n",
      " |-- coord: string (nullable = true)\n",
      "\n"
     ]
    }
   ],
   "source": [
    "df2.printSchema()"
   ]
  },
  {
   "cell_type": "code",
   "execution_count": 42,
   "metadata": {},
   "outputs": [
    {
     "name": "stdout",
     "output_type": "stream",
     "text": [
      "+---------------------------+-------------------+-------------------+----------------+-----------------+----------+\n",
      "|geolocation_zip_code_prefix|    geolocation_lat|    geolocation_lng|geolocation_city|geolocation_state|     coord|\n",
      "+---------------------------+-------------------+-------------------+----------------+-----------------+----------+\n",
      "|                      29107| -20.34584830411424| -40.29461716546357|      vila velha|               ES|29.100-200|\n",
      "|                      29177|-20.122435947833026| -40.31909381793521|           serra|               ES| 29177-129|\n",
      "|                      29105|-20.368295871918747| -40.31092289293257|      vila velha|               ES| 29105-550|\n",
      "|                      29173| -20.19652746890127|-40.198275466345144|           serra|               ES| 29173-039|\n",
      "|                      29109|-20.355711075892653| -40.31492752529756|      vila velha|               ES| 29109-213|\n",
      "|                      29132| -20.39209755581655| -40.47152277013746|           viana|               ES| 29130-013|\n",
      "|                      29149|-20.324961338469834| -40.39177784301583|       cariacica|               ES| 29149-340|\n",
      "|                      29170|-20.162126756531503| -40.27405421346042|           serra|               ES| 29170-210|\n",
      "|                      29165|-20.197544996670242| -40.24318715069209|           serra|               ES| 29175-680|\n",
      "|                      29166| -20.22424950464167| -40.28229295126852|           serra|               ES| 29161-828|\n",
      "|                      29175| -20.14398475838655| -40.19461880500094|           serra|               ES|  29175179|\n",
      "|                      29101| -20.35101688464557| -40.28515563587741|      vila velha|               ES| 29101-777|\n",
      "|                      29122|-20.338832192869262| -40.31001365715705|      vila velha|               ES| 29122-060|\n",
      "|                      29176|-20.133376490709164|-40.299457092273144|           serra|               ES| 29176-341|\n",
      "|                      29167|-20.189776630590305| -40.25777050473186|           serra|               ES| 29168-063|\n",
      "|                      29194|-19.815405941826064|-40.273369932230686|         aracruz|               ES| 29194-518|\n",
      "|                      29142| -20.37942036369913| -40.36738044785105|       cariacica|               ES| 29142-535|\n",
      "|                      29101| -20.34771931481967| -40.28627592000644|      vila velha|               ES| 29101-750|\n",
      "|                      29101|-20.352016206537108|-40.285350513021676|      vila velha|               ES| 29101-777|\n",
      "|                      29165|-20.198638317609696| -40.25169142110471|           serra|               ES|  29165310|\n",
      "+---------------------------+-------------------+-------------------+----------------+-----------------+----------+\n",
      "only showing top 20 rows\n",
      "\n",
      "150.6296739578247\n"
     ]
    }
   ],
   "source": [
    "start = time.time()\n",
    "df2.show()\n",
    "end = time.time()\n",
    "print(end-start)"
   ]
  },
  {
   "cell_type": "code",
   "execution_count": null,
   "metadata": {},
   "outputs": [],
   "source": [
    "# Pego a latitude e a longitude do df e com isso busco o cep e o endereço\n",
    "dataCollect = df2.collect()\n",
    "for row in dataCollect:\n",
    "    v_lat_lon = (str(row['geolocation_lat']) + \", \" + str(row['geolocation_lng']))\n",
    "    print(v_lat_lon)\n",
    "\n",
    "    geolocator = Nominatim(user_agent=\"MBA_FIAP\")\n",
    "    location = geolocator.reverse(v_lat_lon)\n",
    "    cep = (location.raw['address']['postcode'])\n",
    "\n",
    "    if len(cep) < 8:\n",
    "        cep = cep.zfill(8)\n",
    "        cep = '{}-{}'.format(cep[:5], cep[5:8])\n",
    "    print(cep) \n",
    "\n",
    "    address = get_address_from_cep(cep, webservice=WebService.VIACEP)\n",
    "\n",
    "    print(address['logradouro'])\n",
    "\n",
    "    print('-----------')\n",
    "\n",
    "###### É preciso ver o que fazer quando o o retorno da geopy não for CEP\n",
    "### Crio novo df limitando a 10 rows e só do RJ pra testar\n",
    "df2 = df.filter(df.geolocation_state=='RJ').limit(10)"
   ]
  }
 ],
 "metadata": {
  "kernelspec": {
   "display_name": "PySpark",
   "language": "python",
   "name": "pyspark"
  },
  "language_info": {
   "codemirror_mode": {
    "name": "ipython",
    "version": 3
   },
   "file_extension": ".py",
   "mimetype": "text/x-python",
   "name": "python",
   "nbconvert_exporter": "python",
   "pygments_lexer": "ipython3",
   "version": "3.6.10"
  }
 },
 "nbformat": 4,
 "nbformat_minor": 2
}
