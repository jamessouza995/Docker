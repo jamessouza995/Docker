{
 "cells": [
  {
   "cell_type": "markdown",
   "metadata": {},
   "source": [
    "## Creating Spark Session"
   ]
  },
  {
   "cell_type": "code",
   "execution_count": 12,
   "metadata": {},
   "outputs": [
    {
     "name": "stdout",
     "output_type": "stream",
     "text": [
      "+--------+--------------------+-----------+\n",
      "|database|           tableName|isTemporary|\n",
      "+--------+--------------------+-----------+\n",
      "| default|hue__tmp_olist_ge...|      false|\n",
      "+--------+--------------------+-----------+\n",
      "\n"
     ]
    }
   ],
   "source": [
    "from pyspark.sql import SparkSession\n",
    "from pyspark.sql import Row\n",
    "spark = SparkSession \\\n",
    "    .builder \\\n",
    "    .appName(\"Python Spark SQL Hive integration example\") \\\n",
    "    .enableHiveSupport() \\\n",
    "    .getOrCreate()\n"
   ]
  },
  {
   "cell_type": "markdown",
   "metadata": {},
   "source": [
    "## Check tables"
   ]
  },
  {
   "cell_type": "code",
   "execution_count": 29,
   "metadata": {},
   "outputs": [
    {
     "name": "stdout",
     "output_type": "stream",
     "text": [
      "+--------+--------------------+-----------+\n",
      "|database|           tableName|isTemporary|\n",
      "+--------+--------------------+-----------+\n",
      "| default|hue__tmp_olist_ge...|      false|\n",
      "+--------+--------------------+-----------+\n",
      "\n"
     ]
    }
   ],
   "source": [
    "\n",
    "spark.sql(\"show tables\").show()"
   ]
  },
  {
   "cell_type": "code",
   "execution_count": 81,
   "metadata": {},
   "outputs": [],
   "source": [
    "df1=spark.sql(\"SELECT count (*) FROM ecommerce.hue__tmp_olist_geolocation_dataset\")\n",
    "\n"
   ]
  },
  {
   "cell_type": "code",
   "execution_count": 82,
   "metadata": {},
   "outputs": [
    {
     "name": "stdout",
     "output_type": "stream",
     "text": [
      "+--------+\n",
      "|count(1)|\n",
      "+--------+\n",
      "| 1000164|\n",
      "+--------+\n",
      "\n"
     ]
    }
   ],
   "source": [
    "df1.show()\n"
   ]
  },
  {
   "cell_type": "code",
   "execution_count": 23,
   "metadata": {},
   "outputs": [
    {
     "name": "stdout",
     "output_type": "stream",
     "text": [
      "root\n",
      " |-- geolocation_zip_code_prefix: long (nullable = true)\n",
      " |-- geolocation_lat: double (nullable = true)\n",
      " |-- geolocation_lng: double (nullable = true)\n",
      " |-- geolocation_city: string (nullable = true)\n",
      " |-- geolocation_state: string (nullable = true)\n",
      "\n"
     ]
    }
   ],
   "source": [
    "df1.printSchema()"
   ]
  },
  {
   "cell_type": "markdown",
   "metadata": {},
   "source": [
    "## Reading CSV"
   ]
  },
  {
   "cell_type": "markdown",
   "metadata": {},
   "source": [
    "### customers"
   ]
  },
  {
   "cell_type": "code",
   "execution_count": 129,
   "metadata": {},
   "outputs": [],
   "source": [
    "df_customers=spark.read.format(\"csv\").option(\"header\", True).option(\"inferSchema\", True).option(\"delimiter\", \",\").load(\"/user/hive/warehouse/loading_zone/olist_customers/olist_customers_dataset.csv\")"
   ]
  },
  {
   "cell_type": "code",
   "execution_count": 130,
   "metadata": {},
   "outputs": [
    {
     "name": "stdout",
     "output_type": "stream",
     "text": [
      "+--------------------+--------------------+------------------------+--------------------+--------------+\n",
      "|         customer_id|  customer_unique_id|customer_zip_code_prefix|       customer_city|customer_state|\n",
      "+--------------------+--------------------+------------------------+--------------------+--------------+\n",
      "|06b8999e2fba1a1fb...|861eff4711a542e4b...|                   14409|              franca|            SP|\n",
      "|18955e83d337fd6b2...|290c77bc529b7ac93...|                    9790|sao bernardo do c...|            SP|\n",
      "|4e7b3e00288586ebd...|060e732b5b29e8181...|                    1151|           sao paulo|            SP|\n",
      "|b2b6027bc5c5109e5...|259dac757896d24d7...|                    8775|     mogi das cruzes|            SP|\n",
      "|4f2d8ab171c80ec83...|345ecd01c38d18a90...|                   13056|            campinas|            SP|\n",
      "|879864dab9bc30475...|4c93744516667ad3b...|                   89254|      jaragua do sul|            SC|\n",
      "|fd826e7cf63160e53...|addec96d2e059c80c...|                    4534|           sao paulo|            SP|\n",
      "|5e274e7a0c3809e14...|57b2a98a409812fe9...|                   35182|             timoteo|            MG|\n",
      "|5adf08e34b2e99398...|1175e95fb47ddff9d...|                   81560|            curitiba|            PR|\n",
      "|4b7139f34592b3a31...|9afe194fb833f79e3...|                   30575|      belo horizonte|            MG|\n",
      "|9fb35e4ed6f0a14a4...|2a7745e1ed516b289...|                   39400|       montes claros|            MG|\n",
      "|5aa9e4fdd4dfd2095...|2a46fb94aef5cbeeb...|                   20231|      rio de janeiro|            RJ|\n",
      "|b2d1536598b73a9ab...|918dc87cd72cd9f6e...|                   18682|    lencois paulista|            SP|\n",
      "|eabebad39a88bb6f5...|295c05e81917928d7...|                    5704|           sao paulo|            SP|\n",
      "|1f1c7bf1c9b041b29...|3151a81801c838636...|                   95110|       caxias do sul|            RS|\n",
      "|206f3129c0e4d7d0b...|21f748a16f4e1688a...|                   13412|          piracicaba|            SP|\n",
      "|a7c125a0a07b75146...|5c2991dbd08bbf3cf...|                   22750|      rio de janeiro|            RJ|\n",
      "|c5c61596a3b6bd0ce...|b6e99561fe6f34a55...|                    7124|           guarulhos|            SP|\n",
      "|9b8ce803689b3562d...|7f3a72e8f988c6e73...|                    5416|           sao paulo|            SP|\n",
      "|49d0ea0986edde72d...|3e6fd6b2f0d499456...|                   68485|              pacaja|            PA|\n",
      "+--------------------+--------------------+------------------------+--------------------+--------------+\n",
      "only showing top 20 rows\n",
      "\n"
     ]
    }
   ],
   "source": [
    "df_customers.show()"
   ]
  },
  {
   "cell_type": "markdown",
   "metadata": {},
   "source": [
    "### geolocation"
   ]
  },
  {
   "cell_type": "code",
   "execution_count": 83,
   "metadata": {},
   "outputs": [],
   "source": [
    "df_geolocation=spark.read.format(\"csv\").option(\"header\", True).option(\"inferSchema\", True).option(\"delimiter\", \",\").load(\"/user/hive/warehouse/loading_zone/olist_geolocation/olist_geolocation_dataset.csv\")"
   ]
  },
  {
   "cell_type": "code",
   "execution_count": 84,
   "metadata": {},
   "outputs": [
    {
     "name": "stdout",
     "output_type": "stream",
     "text": [
      "+---------------------------+-------------------+-------------------+----------------+-----------------+\n",
      "|geolocation_zip_code_prefix|    geolocation_lat|    geolocation_lng|geolocation_city|geolocation_state|\n",
      "+---------------------------+-------------------+-------------------+----------------+-----------------+\n",
      "|                       1037| -23.54562128115268| -46.63929204800168|       sao paulo|               SP|\n",
      "|                       1046|-23.546081127035535| -46.64482029837157|       sao paulo|               SP|\n",
      "|                       1046| -23.54612896641469| -46.64295148361138|       sao paulo|               SP|\n",
      "|                       1041|  -23.5443921648681| -46.63949930627844|       sao paulo|               SP|\n",
      "|                       1035|-23.541577961711493| -46.64160722329613|       sao paulo|               SP|\n",
      "|                       1012|-23.547762303364266| -46.63536053788448|       são paulo|               SP|\n",
      "|                       1047|-23.546273112412678| -46.64122516971552|       sao paulo|               SP|\n",
      "|                       1013|-23.546923208436723|  -46.6342636964915|       sao paulo|               SP|\n",
      "|                       1029|-23.543769055769133| -46.63427784085132|       sao paulo|               SP|\n",
      "|                       1011|-23.547639550320632| -46.63603162315495|       sao paulo|               SP|\n",
      "|                       1013|-23.547325128224376| -46.63418378613892|       sao paulo|               SP|\n",
      "|                       1032| -23.53841810407414|-46.634778375266734|       sao paulo|               SP|\n",
      "|                       1014|-23.546435343326205| -46.63383023397196|       sao paulo|               SP|\n",
      "|                       1012|-23.548945985189434| -46.63467113292871|       sao paulo|               SP|\n",
      "|                       1037|-23.545187340816042| -46.63785524104107|       são paulo|               SP|\n",
      "|                       1046|-23.546081127035535| -46.64482029837157|       sao paulo|               SP|\n",
      "|                       1039|-23.541883009983316| -46.63991946670314|       sao paulo|               SP|\n",
      "|                       1024|-23.541389521053937|-46.629899087812184|       são paulo|               SP|\n",
      "|                       1009| -23.54693540437998| -46.63658792659698|       sao paulo|               SP|\n",
      "|                       1046|-23.545884279214015|-46.643163191240035|       sao paulo|               SP|\n",
      "+---------------------------+-------------------+-------------------+----------------+-----------------+\n",
      "only showing top 20 rows\n",
      "\n"
     ]
    }
   ],
   "source": [
    "df_geolocation.show()"
   ]
  },
  {
   "cell_type": "code",
   "execution_count": 85,
   "metadata": {},
   "outputs": [
    {
     "data": {
      "text/plain": [
       "1000163"
      ]
     },
     "execution_count": 85,
     "metadata": {},
     "output_type": "execute_result"
    }
   ],
   "source": [
    "df_geolocation.count()"
   ]
  },
  {
   "cell_type": "code",
   "execution_count": 87,
   "metadata": {},
   "outputs": [
    {
     "data": {
      "text/plain": [
       "[Row(geolocation_zip_code_prefix=1037, geolocation_lat=-23.54562128115268, geolocation_lng=-46.63929204800168, geolocation_city='sao paulo', geolocation_state='SP'),\n",
       " Row(geolocation_zip_code_prefix=1046, geolocation_lat=-23.546081127035535, geolocation_lng=-46.64482029837157, geolocation_city='sao paulo', geolocation_state='SP'),\n",
       " Row(geolocation_zip_code_prefix=1046, geolocation_lat=-23.54612896641469, geolocation_lng=-46.64295148361138, geolocation_city='sao paulo', geolocation_state='SP')]"
      ]
     },
     "execution_count": 87,
     "metadata": {},
     "output_type": "execute_result"
    }
   ],
   "source": [
    "df_geolocation.head(3)"
   ]
  },
  {
   "cell_type": "code",
   "execution_count": 89,
   "metadata": {},
   "outputs": [],
   "source": [
    "from pyspark.sql.functions import when\n",
    "\n",
    "df_geolocation2 = df_geolocation.withColumn(\"geolocation_city\", when(df_geolocation.geolocation_city == \"sao paulo\", \"São Paulo\")\\\n",
    ".when(df_geolocation.geolocation_city == \"são paulo\", \"São Paulo\")\\\n",
    ".otherwise(df_geolocation.geolocation_city))\n",
    "\n"
   ]
  },
  {
   "cell_type": "code",
   "execution_count": 94,
   "metadata": {},
   "outputs": [
    {
     "data": {
      "text/plain": [
       "8010"
      ]
     },
     "execution_count": 94,
     "metadata": {},
     "output_type": "execute_result"
    }
   ],
   "source": [
    "df_geolocation2.select(\"geolocation_city\").distinct().count()"
   ]
  },
  {
   "cell_type": "code",
   "execution_count": 95,
   "metadata": {},
   "outputs": [
    {
     "name": "stdout",
     "output_type": "stream",
     "text": [
      "+--------------------+\n",
      "|    geolocation_city|\n",
      "+--------------------+\n",
      "|   redencao da serra|\n",
      "|  aguas de sao pedro|\n",
      "|            itirapuã|\n",
      "|           indiaporã|\n",
      "|         paulistânia|\n",
      "|        capão bonito|\n",
      "|              taguaí|\n",
      "|                iepe|\n",
      "|         teresópolis|\n",
      "|              bacaxa|\n",
      "|divino de sao lou...|\n",
      "|divino das laranj...|\n",
      "|            vermelho|\n",
      "|            caçarema|\n",
      "|          cacaratiba|\n",
      "|                pote|\n",
      "|            camacari|\n",
      "|           itaberaba|\n",
      "|              gloria|\n",
      "|           arapiraca|\n",
      "+--------------------+\n",
      "only showing top 20 rows\n",
      "\n"
     ]
    }
   ],
   "source": [
    "df_geolocation2.select(\"geolocation_city\").distinct().show()"
   ]
  },
  {
   "cell_type": "code",
   "execution_count": 96,
   "metadata": {},
   "outputs": [
    {
     "name": "stdout",
     "output_type": "stream",
     "text": [
      "+---------------------------+-------------------+-------------------+----------------+-----------------+\n",
      "|geolocation_zip_code_prefix|    geolocation_lat|    geolocation_lng|geolocation_city|geolocation_state|\n",
      "+---------------------------+-------------------+-------------------+----------------+-----------------+\n",
      "|                       1037| -23.54562128115268| -46.63929204800168|       São Paulo|               SP|\n",
      "|                       1046|-23.546081127035535| -46.64482029837157|       São Paulo|               SP|\n",
      "|                       1046| -23.54612896641469| -46.64295148361138|       São Paulo|               SP|\n",
      "|                       1041|  -23.5443921648681| -46.63949930627844|       São Paulo|               SP|\n",
      "|                       1035|-23.541577961711493| -46.64160722329613|       São Paulo|               SP|\n",
      "|                       1012|-23.547762303364266| -46.63536053788448|       São Paulo|               SP|\n",
      "|                       1047|-23.546273112412678| -46.64122516971552|       São Paulo|               SP|\n",
      "|                       1013|-23.546923208436723|  -46.6342636964915|       São Paulo|               SP|\n",
      "|                       1029|-23.543769055769133| -46.63427784085132|       São Paulo|               SP|\n",
      "|                       1011|-23.547639550320632| -46.63603162315495|       São Paulo|               SP|\n",
      "|                       1013|-23.547325128224376| -46.63418378613892|       São Paulo|               SP|\n",
      "|                       1032| -23.53841810407414|-46.634778375266734|       São Paulo|               SP|\n",
      "|                       1014|-23.546435343326205| -46.63383023397196|       São Paulo|               SP|\n",
      "|                       1012|-23.548945985189434| -46.63467113292871|       São Paulo|               SP|\n",
      "|                       1037|-23.545187340816042| -46.63785524104107|       São Paulo|               SP|\n",
      "|                       1046|-23.546081127035535| -46.64482029837157|       São Paulo|               SP|\n",
      "|                       1039|-23.541883009983316| -46.63991946670314|       São Paulo|               SP|\n",
      "|                       1024|-23.541389521053937|-46.629899087812184|       São Paulo|               SP|\n",
      "|                       1009| -23.54693540437998| -46.63658792659698|       São Paulo|               SP|\n",
      "|                       1046|-23.545884279214015|-46.643163191240035|       São Paulo|               SP|\n",
      "+---------------------------+-------------------+-------------------+----------------+-----------------+\n",
      "only showing top 20 rows\n",
      "\n"
     ]
    }
   ],
   "source": [
    "df_geolocation2.show()"
   ]
  },
  {
   "cell_type": "code",
   "execution_count": 99,
   "metadata": {},
   "outputs": [
    {
     "data": {
      "text/plain": [
       "[Row(geolocation_zip_code_prefix=1037, geolocation_lat=-23.54562128115268, geolocation_lng=-46.63929204800168, geolocation_city='São Paulo', geolocation_state='SP', initcap(geolocation_city)='São Paulo'),\n",
       " Row(geolocation_zip_code_prefix=1046, geolocation_lat=-23.546081127035535, geolocation_lng=-46.64482029837157, geolocation_city='São Paulo', geolocation_state='SP', initcap(geolocation_city)='São Paulo'),\n",
       " Row(geolocation_zip_code_prefix=1046, geolocation_lat=-23.54612896641469, geolocation_lng=-46.64295148361138, geolocation_city='São Paulo', geolocation_state='SP', initcap(geolocation_city)='São Paulo'),\n",
       " Row(geolocation_zip_code_prefix=1041, geolocation_lat=-23.5443921648681, geolocation_lng=-46.63949930627844, geolocation_city='São Paulo', geolocation_state='SP', initcap(geolocation_city)='São Paulo'),\n",
       " Row(geolocation_zip_code_prefix=1035, geolocation_lat=-23.541577961711493, geolocation_lng=-46.64160722329613, geolocation_city='São Paulo', geolocation_state='SP', initcap(geolocation_city)='São Paulo'),\n",
       " Row(geolocation_zip_code_prefix=1012, geolocation_lat=-23.547762303364266, geolocation_lng=-46.63536053788448, geolocation_city='São Paulo', geolocation_state='SP', initcap(geolocation_city)='São Paulo'),\n",
       " Row(geolocation_zip_code_prefix=1047, geolocation_lat=-23.546273112412678, geolocation_lng=-46.64122516971552, geolocation_city='São Paulo', geolocation_state='SP', initcap(geolocation_city)='São Paulo'),\n",
       " Row(geolocation_zip_code_prefix=1013, geolocation_lat=-23.546923208436723, geolocation_lng=-46.6342636964915, geolocation_city='São Paulo', geolocation_state='SP', initcap(geolocation_city)='São Paulo'),\n",
       " Row(geolocation_zip_code_prefix=1029, geolocation_lat=-23.543769055769133, geolocation_lng=-46.63427784085132, geolocation_city='São Paulo', geolocation_state='SP', initcap(geolocation_city)='São Paulo'),\n",
       " Row(geolocation_zip_code_prefix=1011, geolocation_lat=-23.547639550320632, geolocation_lng=-46.63603162315495, geolocation_city='São Paulo', geolocation_state='SP', initcap(geolocation_city)='São Paulo'),\n",
       " Row(geolocation_zip_code_prefix=1013, geolocation_lat=-23.547325128224376, geolocation_lng=-46.63418378613892, geolocation_city='São Paulo', geolocation_state='SP', initcap(geolocation_city)='São Paulo'),\n",
       " Row(geolocation_zip_code_prefix=1032, geolocation_lat=-23.53841810407414, geolocation_lng=-46.634778375266734, geolocation_city='São Paulo', geolocation_state='SP', initcap(geolocation_city)='São Paulo'),\n",
       " Row(geolocation_zip_code_prefix=1014, geolocation_lat=-23.546435343326205, geolocation_lng=-46.63383023397196, geolocation_city='São Paulo', geolocation_state='SP', initcap(geolocation_city)='São Paulo'),\n",
       " Row(geolocation_zip_code_prefix=1012, geolocation_lat=-23.548945985189434, geolocation_lng=-46.63467113292871, geolocation_city='São Paulo', geolocation_state='SP', initcap(geolocation_city)='São Paulo'),\n",
       " Row(geolocation_zip_code_prefix=1037, geolocation_lat=-23.545187340816042, geolocation_lng=-46.63785524104107, geolocation_city='São Paulo', geolocation_state='SP', initcap(geolocation_city)='São Paulo'),\n",
       " Row(geolocation_zip_code_prefix=1046, geolocation_lat=-23.546081127035535, geolocation_lng=-46.64482029837157, geolocation_city='São Paulo', geolocation_state='SP', initcap(geolocation_city)='São Paulo'),\n",
       " Row(geolocation_zip_code_prefix=1039, geolocation_lat=-23.541883009983316, geolocation_lng=-46.63991946670314, geolocation_city='São Paulo', geolocation_state='SP', initcap(geolocation_city)='São Paulo'),\n",
       " Row(geolocation_zip_code_prefix=1024, geolocation_lat=-23.541389521053937, geolocation_lng=-46.629899087812184, geolocation_city='São Paulo', geolocation_state='SP', initcap(geolocation_city)='São Paulo'),\n",
       " Row(geolocation_zip_code_prefix=1009, geolocation_lat=-23.54693540437998, geolocation_lng=-46.63658792659698, geolocation_city='São Paulo', geolocation_state='SP', initcap(geolocation_city)='São Paulo'),\n",
       " Row(geolocation_zip_code_prefix=1046, geolocation_lat=-23.545884279214015, geolocation_lng=-46.643163191240035, geolocation_city='São Paulo', geolocation_state='SP', initcap(geolocation_city)='São Paulo'),\n",
       " Row(geolocation_zip_code_prefix=1046, geolocation_lat=-23.545165891770928, geolocation_lng=-46.643785796266464, geolocation_city='São Paulo', geolocation_state='SP', initcap(geolocation_city)='São Paulo'),\n",
       " Row(geolocation_zip_code_prefix=1020, geolocation_lat=-23.55223547100232, geolocation_lng=-46.6284406588955, geolocation_city='São Paulo', geolocation_state='SP', initcap(geolocation_city)='São Paulo'),\n",
       " Row(geolocation_zip_code_prefix=1011, geolocation_lat=-23.546690486964888, geolocation_lng=-46.635446958807194, geolocation_city='São Paulo', geolocation_state='SP', initcap(geolocation_city)='São Paulo'),\n",
       " Row(geolocation_zip_code_prefix=1043, geolocation_lat=-23.546656718016017, geolocation_lng=-46.64078762115524, geolocation_city='São Paulo', geolocation_state='SP', initcap(geolocation_city)='São Paulo'),\n",
       " Row(geolocation_zip_code_prefix=1050, geolocation_lat=-23.549773516504185, geolocation_lng=-46.64559900666509, geolocation_city='São Paulo', geolocation_state='SP', initcap(geolocation_city)='São Paulo'),\n",
       " Row(geolocation_zip_code_prefix=1045, geolocation_lat=-23.541593762969626, geolocation_lng=-46.64189378810082, geolocation_city='São Paulo', geolocation_state='SP', initcap(geolocation_city)='São Paulo'),\n",
       " Row(geolocation_zip_code_prefix=1009, geolocation_lat=-23.545429533441073, geolocation_lng=-46.63571531432852, geolocation_city='São Paulo', geolocation_state='SP', initcap(geolocation_city)='São Paulo'),\n",
       " Row(geolocation_zip_code_prefix=1007, geolocation_lat=-23.550392524842728, geolocation_lng=-46.637301640717844, geolocation_city='São Paulo', geolocation_state='SP', initcap(geolocation_city)='São Paulo'),\n",
       " Row(geolocation_zip_code_prefix=1032, geolocation_lat=-23.5398418758395, geolocation_lng=-46.63514797691531, geolocation_city='São Paulo', geolocation_state='SP', initcap(geolocation_city)='São Paulo'),\n",
       " Row(geolocation_zip_code_prefix=1041, geolocation_lat=-23.543539449073783, geolocation_lng=-46.64057731057763, geolocation_city='São Paulo', geolocation_state='SP', initcap(geolocation_city)='São Paulo'),\n",
       " Row(geolocation_zip_code_prefix=1005, geolocation_lat=-23.549819091869107, geolocation_lng=-46.63560588995324, geolocation_city='São Paulo', geolocation_state='SP', initcap(geolocation_city)='São Paulo'),\n",
       " Row(geolocation_zip_code_prefix=1037, geolocation_lat=-23.546704599774962, geolocation_lng=-46.64033633250615, geolocation_city='São Paulo', geolocation_state='SP', initcap(geolocation_city)='São Paulo'),\n",
       " Row(geolocation_zip_code_prefix=1017, geolocation_lat=-23.55001091199737, geolocation_lng=-46.63116636914989, geolocation_city='São Paulo', geolocation_state='SP', initcap(geolocation_city)='São Paulo'),\n",
       " Row(geolocation_zip_code_prefix=1046, geolocation_lat=-23.54532011933758, geolocation_lng=-46.64406863434122, geolocation_city='São Paulo', geolocation_state='SP', initcap(geolocation_city)='São Paulo'),\n",
       " Row(geolocation_zip_code_prefix=1019, geolocation_lat=-23.552151883432384, geolocation_lng=-46.63080224715792, geolocation_city='São Paulo', geolocation_state='SP', initcap(geolocation_city)='São Paulo'),\n",
       " Row(geolocation_zip_code_prefix=1032, geolocation_lat=-23.540774688874112, geolocation_lng=-46.63551484303775, geolocation_city='São Paulo', geolocation_state='SP', initcap(geolocation_city)='São Paulo'),\n",
       " Row(geolocation_zip_code_prefix=1017, geolocation_lat=-23.5492954052167, geolocation_lng=-46.63207469510652, geolocation_city='São Paulo', geolocation_state='SP', initcap(geolocation_city)='São Paulo'),\n",
       " Row(geolocation_zip_code_prefix=1050, geolocation_lat=-23.549009406053422, geolocation_lng=-46.642812281839745, geolocation_city='São Paulo', geolocation_state='SP', initcap(geolocation_city)='São Paulo'),\n",
       " Row(geolocation_zip_code_prefix=1050, geolocation_lat=-23.548755593946588, geolocation_lng=-46.642789203733535, geolocation_city='São Paulo', geolocation_state='SP', initcap(geolocation_city)='São Paulo'),\n",
       " Row(geolocation_zip_code_prefix=1027, geolocation_lat=-23.538301166801343, geolocation_lng=-46.63076391104508, geolocation_city='São Paulo', geolocation_state='SP', initcap(geolocation_city)='São Paulo'),\n",
       " Row(geolocation_zip_code_prefix=1050, geolocation_lat=-23.54985418067981, geolocation_lng=-46.643139396906825, geolocation_city='São Paulo', geolocation_state='SP', initcap(geolocation_city)='São Paulo'),\n",
       " Row(geolocation_zip_code_prefix=1013, geolocation_lat=-23.547119249235397, geolocation_lng=-46.634232699405686, geolocation_city='São Paulo', geolocation_state='SP', initcap(geolocation_city)='São Paulo'),\n",
       " Row(geolocation_zip_code_prefix=1033, geolocation_lat=-23.54032130474925, geolocation_lng=-46.636394815973325, geolocation_city='São Paulo', geolocation_state='SP', initcap(geolocation_city)='São Paulo'),\n",
       " Row(geolocation_zip_code_prefix=1009, geolocation_lat=-23.54569153926945, geolocation_lng=-46.635866061486446, geolocation_city='São Paulo', geolocation_state='SP', initcap(geolocation_city)='São Paulo'),\n",
       " Row(geolocation_zip_code_prefix=1046, geolocation_lat=-23.546081127035535, geolocation_lng=-46.64482029837157, geolocation_city='São Paulo', geolocation_state='SP', initcap(geolocation_city)='São Paulo'),\n",
       " Row(geolocation_zip_code_prefix=1050, geolocation_lat=-23.54874766250217, geolocation_lng=-46.64239136704376, geolocation_city='São Paulo', geolocation_state='SP', initcap(geolocation_city)='São Paulo'),\n",
       " Row(geolocation_zip_code_prefix=1032, geolocation_lat=-23.541191476542252, geolocation_lng=-46.63499346058632, geolocation_city='São Paulo', geolocation_state='SP', initcap(geolocation_city)='São Paulo'),\n",
       " Row(geolocation_zip_code_prefix=1020, geolocation_lat=-23.552549496537548, geolocation_lng=-46.63163152553523, geolocation_city='São Paulo', geolocation_state='SP', initcap(geolocation_city)='São Paulo'),\n",
       " Row(geolocation_zip_code_prefix=1006, geolocation_lat=-23.55052430835593, geolocation_lng=-46.63669363835193, geolocation_city='São Paulo', geolocation_state='SP', initcap(geolocation_city)='São Paulo'),\n",
       " Row(geolocation_zip_code_prefix=1034, geolocation_lat=-23.542391627195926, geolocation_lng=-46.63770927785183, geolocation_city='São Paulo', geolocation_state='SP', initcap(geolocation_city)='São Paulo')]"
      ]
     },
     "execution_count": 99,
     "metadata": {},
     "output_type": "execute_result"
    }
   ],
   "source": [
    "from pyspark.sql.functions import initcap, col\n",
    "df_geolocation2.select(\"*\", initcap(col('geolocation_city'))).head(50)"
   ]
  },
  {
   "cell_type": "code",
   "execution_count": 136,
   "metadata": {},
   "outputs": [
    {
     "name": "stdout",
     "output_type": "stream",
     "text": [
      "+---------------------------+-------------------+-------------------+----------------+-----------------+\n",
      "|geolocation_zip_code_prefix|    geolocation_lat|    geolocation_lng|geolocation_city|geolocation_state|\n",
      "+---------------------------+-------------------+-------------------+----------------+-----------------+\n",
      "|                       1037| -23.54562128115268| -46.63929204800168|       São Paulo|               SP|\n",
      "|                       1046|-23.546081127035535| -46.64482029837157|       São Paulo|               SP|\n",
      "|                       1046| -23.54612896641469| -46.64295148361138|       São Paulo|               SP|\n",
      "|                       1041|  -23.5443921648681| -46.63949930627844|       São Paulo|               SP|\n",
      "|                       1035|-23.541577961711493| -46.64160722329613|       São Paulo|               SP|\n",
      "|                       1012|-23.547762303364266| -46.63536053788448|       São Paulo|               SP|\n",
      "|                       1047|-23.546273112412678| -46.64122516971552|       São Paulo|               SP|\n",
      "|                       1013|-23.546923208436723|  -46.6342636964915|       São Paulo|               SP|\n",
      "|                       1029|-23.543769055769133| -46.63427784085132|       São Paulo|               SP|\n",
      "|                       1011|-23.547639550320632| -46.63603162315495|       São Paulo|               SP|\n",
      "|                       1013|-23.547325128224376| -46.63418378613892|       São Paulo|               SP|\n",
      "|                       1032| -23.53841810407414|-46.634778375266734|       São Paulo|               SP|\n",
      "|                       1014|-23.546435343326205| -46.63383023397196|       São Paulo|               SP|\n",
      "|                       1012|-23.548945985189434| -46.63467113292871|       São Paulo|               SP|\n",
      "|                       1037|-23.545187340816042| -46.63785524104107|       São Paulo|               SP|\n",
      "|                       1046|-23.546081127035535| -46.64482029837157|       São Paulo|               SP|\n",
      "|                       1039|-23.541883009983316| -46.63991946670314|       São Paulo|               SP|\n",
      "|                       1024|-23.541389521053937|-46.629899087812184|       São Paulo|               SP|\n",
      "|                       1009| -23.54693540437998| -46.63658792659698|       São Paulo|               SP|\n",
      "|                       1046|-23.545884279214015|-46.643163191240035|       São Paulo|               SP|\n",
      "+---------------------------+-------------------+-------------------+----------------+-----------------+\n",
      "only showing top 20 rows\n",
      "\n"
     ]
    }
   ],
   "source": [
    "df_geolocation2.show()"
   ]
  },
  {
   "cell_type": "code",
   "execution_count": 103,
   "metadata": {},
   "outputs": [],
   "source": [
    "from geopy.geocoders import Nominatim\n",
    "from geopy.extra.rate_limiter import RateLimiter\n",
    "\n",
    "geolocator = Nominatim(user_agent=\"fiap_mba\")\n",
    "geocode = RateLimiter(geolocator.geocode, min_delay_seconds = 1,   return_value_on_exception = None) \n",
    "# adding 1 second padding between calls"
   ]
  },
  {
   "cell_type": "code",
   "execution_count": null,
   "metadata": {},
   "outputs": [],
   "source": [
    "location = geocode.reverse((lat, long))"
   ]
  },
  {
   "cell_type": "code",
   "execution_count": null,
   "metadata": {},
   "outputs": [],
   "source": []
  },
  {
   "cell_type": "code",
   "execution_count": null,
   "metadata": {},
   "outputs": [],
   "source": []
  },
  {
   "cell_type": "markdown",
   "metadata": {},
   "source": [
    "## Transforming to parquet"
   ]
  },
  {
   "cell_type": "code",
   "execution_count": 66,
   "metadata": {},
   "outputs": [],
   "source": [
    "customers_parquet= df_customers.write.mode(\"overwrite\").format(\"parquet\").save(\"/user/hive/warehouse/raw_zone/\")"
   ]
  },
  {
   "cell_type": "code",
   "execution_count": 68,
   "metadata": {},
   "outputs": [],
   "source": [
    "customers_parquet"
   ]
  },
  {
   "cell_type": "markdown",
   "metadata": {},
   "source": [
    "## Using geopy"
   ]
  },
  {
   "cell_type": "code",
   "execution_count": 76,
   "metadata": {},
   "outputs": [],
   "source": [
    "from geopy.geocoders import Nominatim"
   ]
  },
  {
   "cell_type": "code",
   "execution_count": 77,
   "metadata": {},
   "outputs": [],
   "source": [
    "geolocator = Nominatim(user_agent=\"fiap_mba\")"
   ]
  },
  {
   "cell_type": "code",
   "execution_count": 78,
   "metadata": {},
   "outputs": [],
   "source": [
    "location = geolocator.reverse(\"-23.545884279214015, -46.643163191240035\")"
   ]
  },
  {
   "cell_type": "code",
   "execution_count": 79,
   "metadata": {},
   "outputs": [
    {
     "name": "stdout",
     "output_type": "stream",
     "text": [
      "Edifício Comandante Linneu Gomes, 86, Avenida São Luís, República, São Paulo, Região Imediata de São Paulo, Região Metropolitana de São Paulo, Região Geográfica Intermediária de São Paulo, São Paulo, Região Sudeste, 01046-000, Brasil\n"
     ]
    }
   ],
   "source": [
    "print(location)"
   ]
  },
  {
   "cell_type": "markdown",
   "metadata": {},
   "source": [
    "## Using pycep_correios"
   ]
  },
  {
   "cell_type": "code",
   "execution_count": 240,
   "metadata": {},
   "outputs": [],
   "source": [
    "from pycep_correios import get_address_from_cep, WebService\n",
    "\n",
    "address = get_address_from_cep('01037000', webservice=WebService.APICEP)"
   ]
  },
  {
   "cell_type": "code",
   "execution_count": 241,
   "metadata": {},
   "outputs": [
    {
     "data": {
      "text/plain": [
       "{'bairro': 'República',\n",
       " 'cep': '01037-000',\n",
       " 'cidade': 'São Paulo',\n",
       " 'logradouro': 'Rua Conselheiro Crispiniano - lado par',\n",
       " 'uf': 'SP',\n",
       " 'complemento': ''}"
      ]
     },
     "execution_count": 241,
     "metadata": {},
     "output_type": "execute_result"
    }
   ],
   "source": [
    "address"
   ]
  },
  {
   "cell_type": "code",
   "execution_count": null,
   "metadata": {},
   "outputs": [],
   "source": []
  },
  {
   "cell_type": "code",
   "execution_count": null,
   "metadata": {},
   "outputs": [],
   "source": []
  },
  {
   "cell_type": "code",
   "execution_count": 181,
   "metadata": {},
   "outputs": [],
   "source": [
    "import pandas as pd"
   ]
  },
  {
   "cell_type": "code",
   "execution_count": 182,
   "metadata": {},
   "outputs": [],
   "source": [
    "df = pd.DataFrame([\n",
    "[-87.548627, 41.728184],\n",
    "[-87.737227, 41.749111],\n",
    "[-87.743974, 41.924143],\n",
    "[-87.659294, 41.869314],\n",
    " [-87.727808, 41.877007],\n",
    "], columns=[\"Longitude\", \"Latitude\"])"
   ]
  },
  {
   "cell_type": "code",
   "execution_count": 183,
   "metadata": {},
   "outputs": [
    {
     "data": {
      "text/html": [
       "<div>\n",
       "<style scoped>\n",
       "    .dataframe tbody tr th:only-of-type {\n",
       "        vertical-align: middle;\n",
       "    }\n",
       "\n",
       "    .dataframe tbody tr th {\n",
       "        vertical-align: top;\n",
       "    }\n",
       "\n",
       "    .dataframe thead th {\n",
       "        text-align: right;\n",
       "    }\n",
       "</style>\n",
       "<table border=\"1\" class=\"dataframe\">\n",
       "  <thead>\n",
       "    <tr style=\"text-align: right;\">\n",
       "      <th></th>\n",
       "      <th>Longitude</th>\n",
       "      <th>Latitude</th>\n",
       "    </tr>\n",
       "  </thead>\n",
       "  <tbody>\n",
       "    <tr>\n",
       "      <th>0</th>\n",
       "      <td>-87.548627</td>\n",
       "      <td>41.728184</td>\n",
       "    </tr>\n",
       "    <tr>\n",
       "      <th>1</th>\n",
       "      <td>-87.737227</td>\n",
       "      <td>41.749111</td>\n",
       "    </tr>\n",
       "    <tr>\n",
       "      <th>2</th>\n",
       "      <td>-87.743974</td>\n",
       "      <td>41.924143</td>\n",
       "    </tr>\n",
       "    <tr>\n",
       "      <th>3</th>\n",
       "      <td>-87.659294</td>\n",
       "      <td>41.869314</td>\n",
       "    </tr>\n",
       "    <tr>\n",
       "      <th>4</th>\n",
       "      <td>-87.727808</td>\n",
       "      <td>41.877007</td>\n",
       "    </tr>\n",
       "  </tbody>\n",
       "</table>\n",
       "</div>"
      ],
      "text/plain": [
       "   Longitude   Latitude\n",
       "0 -87.548627  41.728184\n",
       "1 -87.737227  41.749111\n",
       "2 -87.743974  41.924143\n",
       "3 -87.659294  41.869314\n",
       "4 -87.727808  41.877007"
      ]
     },
     "execution_count": 183,
     "metadata": {},
     "output_type": "execute_result"
    }
   ],
   "source": [
    "df"
   ]
  },
  {
   "cell_type": "code",
   "execution_count": 184,
   "metadata": {},
   "outputs": [],
   "source": [
    "from tqdm import tqdm\n",
    "from geopy.geocoders import Nominatim\n",
    "from geopy.extra.rate_limiter import RateLimiter\n",
    "\n",
    "tqdm.pandas()\n",
    "geolocator = Nominatim(user_agent=\"fiap_mba2\")\n",
    "reverse = RateLimiter(geolocator.reverse, min_delay_seconds=1)\n"
   ]
  },
  {
   "cell_type": "code",
   "execution_count": 185,
   "metadata": {},
   "outputs": [
    {
     "data": {
      "text/html": [
       "<div>\n",
       "<style scoped>\n",
       "    .dataframe tbody tr th:only-of-type {\n",
       "        vertical-align: middle;\n",
       "    }\n",
       "\n",
       "    .dataframe tbody tr th {\n",
       "        vertical-align: top;\n",
       "    }\n",
       "\n",
       "    .dataframe thead th {\n",
       "        text-align: right;\n",
       "    }\n",
       "</style>\n",
       "<table border=\"1\" class=\"dataframe\">\n",
       "  <thead>\n",
       "    <tr style=\"text-align: right;\">\n",
       "      <th></th>\n",
       "      <th>Longitude</th>\n",
       "      <th>Latitude</th>\n",
       "    </tr>\n",
       "  </thead>\n",
       "  <tbody>\n",
       "    <tr>\n",
       "      <th>0</th>\n",
       "      <td>-87.548627</td>\n",
       "      <td>41.728184</td>\n",
       "    </tr>\n",
       "    <tr>\n",
       "      <th>1</th>\n",
       "      <td>-87.737227</td>\n",
       "      <td>41.749111</td>\n",
       "    </tr>\n",
       "    <tr>\n",
       "      <th>2</th>\n",
       "      <td>-87.743974</td>\n",
       "      <td>41.924143</td>\n",
       "    </tr>\n",
       "    <tr>\n",
       "      <th>3</th>\n",
       "      <td>-87.659294</td>\n",
       "      <td>41.869314</td>\n",
       "    </tr>\n",
       "    <tr>\n",
       "      <th>4</th>\n",
       "      <td>-87.727808</td>\n",
       "      <td>41.877007</td>\n",
       "    </tr>\n",
       "  </tbody>\n",
       "</table>\n",
       "</div>"
      ],
      "text/plain": [
       "   Longitude   Latitude\n",
       "0 -87.548627  41.728184\n",
       "1 -87.737227  41.749111\n",
       "2 -87.743974  41.924143\n",
       "3 -87.659294  41.869314\n",
       "4 -87.727808  41.877007"
      ]
     },
     "execution_count": 185,
     "metadata": {},
     "output_type": "execute_result"
    }
   ],
   "source": [
    "df"
   ]
  },
  {
   "cell_type": "code",
   "execution_count": 187,
   "metadata": {},
   "outputs": [
    {
     "name": "stderr",
     "output_type": "stream",
     "text": [
      "100%|██████████| 5/5 [00:05<00:00,  1.01s/it]\n"
     ]
    }
   ],
   "source": [
    "df['Location'] = df.progress_apply(\n",
    "lambda row: reverse((row['Latitude'], row['Longitude'])),\n",
    "axis=1\n",
    ")"
   ]
  },
  {
   "cell_type": "code",
   "execution_count": 188,
   "metadata": {},
   "outputs": [
    {
     "data": {
      "text/html": [
       "<div>\n",
       "<style scoped>\n",
       "    .dataframe tbody tr th:only-of-type {\n",
       "        vertical-align: middle;\n",
       "    }\n",
       "\n",
       "    .dataframe tbody tr th {\n",
       "        vertical-align: top;\n",
       "    }\n",
       "\n",
       "    .dataframe thead th {\n",
       "        text-align: right;\n",
       "    }\n",
       "</style>\n",
       "<table border=\"1\" class=\"dataframe\">\n",
       "  <thead>\n",
       "    <tr style=\"text-align: right;\">\n",
       "      <th></th>\n",
       "      <th>Longitude</th>\n",
       "      <th>Latitude</th>\n",
       "      <th>Location</th>\n",
       "    </tr>\n",
       "  </thead>\n",
       "  <tbody>\n",
       "    <tr>\n",
       "      <th>0</th>\n",
       "      <td>-87.548627</td>\n",
       "      <td>41.728184</td>\n",
       "      <td>(92nd Street &amp; Baltimore, East 92nd Street, So...</td>\n",
       "    </tr>\n",
       "    <tr>\n",
       "      <th>1</th>\n",
       "      <td>-87.737227</td>\n",
       "      <td>41.749111</td>\n",
       "      <td>(79th Street &amp; Kilpatrick EB, West 79th Street...</td>\n",
       "    </tr>\n",
       "    <tr>\n",
       "      <th>2</th>\n",
       "      <td>-87.743974</td>\n",
       "      <td>41.924143</td>\n",
       "      <td>(4701, West Fullerton Avenue, Belmont Cragin, ...</td>\n",
       "    </tr>\n",
       "    <tr>\n",
       "      <th>3</th>\n",
       "      <td>-87.659294</td>\n",
       "      <td>41.869314</td>\n",
       "      <td>(1301-1307, West Taylor Street, Illinois Medic...</td>\n",
       "    </tr>\n",
       "    <tr>\n",
       "      <th>4</th>\n",
       "      <td>-87.727808</td>\n",
       "      <td>41.877007</td>\n",
       "      <td>(Jackson &amp; Karlov, West Jackson Boulevard, Wes...</td>\n",
       "    </tr>\n",
       "  </tbody>\n",
       "</table>\n",
       "</div>"
      ],
      "text/plain": [
       "   Longitude   Latitude                                           Location\n",
       "0 -87.548627  41.728184  (92nd Street & Baltimore, East 92nd Street, So...\n",
       "1 -87.737227  41.749111  (79th Street & Kilpatrick EB, West 79th Street...\n",
       "2 -87.743974  41.924143  (4701, West Fullerton Avenue, Belmont Cragin, ...\n",
       "3 -87.659294  41.869314  (1301-1307, West Taylor Street, Illinois Medic...\n",
       "4 -87.727808  41.877007  (Jackson & Karlov, West Jackson Boulevard, Wes..."
      ]
     },
     "execution_count": 188,
     "metadata": {},
     "output_type": "execute_result"
    }
   ],
   "source": [
    "df"
   ]
  },
  {
   "cell_type": "code",
   "execution_count": 189,
   "metadata": {},
   "outputs": [],
   "source": [
    "def parse_zipcode(location):\n",
    "    if location and location.raw.get('address') and location.raw['address'].get('postcode'):\n",
    "        return location.raw['address']['postcode']\n",
    "    else:\n",
    "        return None\n",
    "\n",
    "df['Zipcode'] = df['Location'].apply(parse_zipcode)"
   ]
  },
  {
   "cell_type": "code",
   "execution_count": 194,
   "metadata": {},
   "outputs": [
    {
     "name": "stderr",
     "output_type": "stream",
     "text": [
      "ERROR:py4j.java_gateway:An error occurred while trying to connect to the Java server (127.0.0.1:38495)\n",
      "Traceback (most recent call last):\n",
      "  File \"/opt/spark/python/lib/py4j-0.10.7-src.zip/py4j/java_gateway.py\", line 929, in _get_connection\n",
      "    connection = self.deque.pop()\n",
      "IndexError: pop from an empty deque\n",
      "\n",
      "During handling of the above exception, another exception occurred:\n",
      "\n",
      "Traceback (most recent call last):\n",
      "  File \"/opt/spark/python/lib/py4j-0.10.7-src.zip/py4j/java_gateway.py\", line 1067, in start\n",
      "    self.socket.connect((self.address, self.port))\n",
      "ConnectionRefusedError: [Errno 111] Connection refused\n"
     ]
    },
    {
     "ename": "Py4JNetworkError",
     "evalue": "An error occurred while trying to connect to the Java server (127.0.0.1:38495)",
     "output_type": "error",
     "traceback": [
      "\u001b[0;31m---------------------------------------------------------------------------\u001b[0m",
      "\u001b[0;31mIndexError\u001b[0m                                Traceback (most recent call last)",
      "\u001b[0;32m/opt/spark/python/lib/py4j-0.10.7-src.zip/py4j/java_gateway.py\u001b[0m in \u001b[0;36m_get_connection\u001b[0;34m(self)\u001b[0m\n\u001b[1;32m    928\u001b[0m         \u001b[0;32mtry\u001b[0m\u001b[0;34m:\u001b[0m\u001b[0;34m\u001b[0m\u001b[0;34m\u001b[0m\u001b[0m\n\u001b[0;32m--> 929\u001b[0;31m             \u001b[0mconnection\u001b[0m \u001b[0;34m=\u001b[0m \u001b[0mself\u001b[0m\u001b[0;34m.\u001b[0m\u001b[0mdeque\u001b[0m\u001b[0;34m.\u001b[0m\u001b[0mpop\u001b[0m\u001b[0;34m(\u001b[0m\u001b[0;34m)\u001b[0m\u001b[0;34m\u001b[0m\u001b[0;34m\u001b[0m\u001b[0m\n\u001b[0m\u001b[1;32m    930\u001b[0m         \u001b[0;32mexcept\u001b[0m \u001b[0mIndexError\u001b[0m\u001b[0;34m:\u001b[0m\u001b[0;34m\u001b[0m\u001b[0;34m\u001b[0m\u001b[0m\n",
      "\u001b[0;31mIndexError\u001b[0m: pop from an empty deque",
      "\nDuring handling of the above exception, another exception occurred:\n",
      "\u001b[0;31mConnectionRefusedError\u001b[0m                    Traceback (most recent call last)",
      "\u001b[0;32m/opt/spark/python/lib/py4j-0.10.7-src.zip/py4j/java_gateway.py\u001b[0m in \u001b[0;36mstart\u001b[0;34m(self)\u001b[0m\n\u001b[1;32m   1066\u001b[0m         \u001b[0;32mtry\u001b[0m\u001b[0;34m:\u001b[0m\u001b[0;34m\u001b[0m\u001b[0;34m\u001b[0m\u001b[0m\n\u001b[0;32m-> 1067\u001b[0;31m             \u001b[0mself\u001b[0m\u001b[0;34m.\u001b[0m\u001b[0msocket\u001b[0m\u001b[0;34m.\u001b[0m\u001b[0mconnect\u001b[0m\u001b[0;34m(\u001b[0m\u001b[0;34m(\u001b[0m\u001b[0mself\u001b[0m\u001b[0;34m.\u001b[0m\u001b[0maddress\u001b[0m\u001b[0;34m,\u001b[0m \u001b[0mself\u001b[0m\u001b[0;34m.\u001b[0m\u001b[0mport\u001b[0m\u001b[0;34m)\u001b[0m\u001b[0;34m)\u001b[0m\u001b[0;34m\u001b[0m\u001b[0;34m\u001b[0m\u001b[0m\n\u001b[0m\u001b[1;32m   1068\u001b[0m             \u001b[0mself\u001b[0m\u001b[0;34m.\u001b[0m\u001b[0mstream\u001b[0m \u001b[0;34m=\u001b[0m \u001b[0mself\u001b[0m\u001b[0;34m.\u001b[0m\u001b[0msocket\u001b[0m\u001b[0;34m.\u001b[0m\u001b[0mmakefile\u001b[0m\u001b[0;34m(\u001b[0m\u001b[0;34m\"rb\"\u001b[0m\u001b[0;34m)\u001b[0m\u001b[0;34m\u001b[0m\u001b[0;34m\u001b[0m\u001b[0m\n",
      "\u001b[0;31mConnectionRefusedError\u001b[0m: [Errno 111] Connection refused",
      "\nDuring handling of the above exception, another exception occurred:\n",
      "\u001b[0;31mPy4JNetworkError\u001b[0m                          Traceback (most recent call last)",
      "\u001b[0;32m<ipython-input-194-ef6ced50535c>\u001b[0m in \u001b[0;36m<module>\u001b[0;34m()\u001b[0m\n\u001b[0;32m----> 1\u001b[0;31m \u001b[0mdf_geolocation3\u001b[0m\u001b[0;34m=\u001b[0m\u001b[0mdf_geolocation2\u001b[0m\u001b[0;34m.\u001b[0m\u001b[0mtoPandas\u001b[0m\u001b[0;34m(\u001b[0m\u001b[0;34m)\u001b[0m\u001b[0;34m\u001b[0m\u001b[0;34m\u001b[0m\u001b[0m\n\u001b[0m",
      "\u001b[0;32m/opt/spark/python/pyspark/sql/dataframe.py\u001b[0m in \u001b[0;36mtoPandas\u001b[0;34m(self)\u001b[0m\n\u001b[1;32m   2077\u001b[0m         \u001b[0;32mimport\u001b[0m \u001b[0mpandas\u001b[0m \u001b[0;32mas\u001b[0m \u001b[0mpd\u001b[0m\u001b[0;34m\u001b[0m\u001b[0;34m\u001b[0m\u001b[0m\n\u001b[1;32m   2078\u001b[0m \u001b[0;34m\u001b[0m\u001b[0m\n\u001b[0;32m-> 2079\u001b[0;31m         \u001b[0;32mif\u001b[0m \u001b[0mself\u001b[0m\u001b[0;34m.\u001b[0m\u001b[0msql_ctx\u001b[0m\u001b[0;34m.\u001b[0m\u001b[0m_conf\u001b[0m\u001b[0;34m.\u001b[0m\u001b[0mpandasRespectSessionTimeZone\u001b[0m\u001b[0;34m(\u001b[0m\u001b[0;34m)\u001b[0m\u001b[0;34m:\u001b[0m\u001b[0;34m\u001b[0m\u001b[0;34m\u001b[0m\u001b[0m\n\u001b[0m\u001b[1;32m   2080\u001b[0m             \u001b[0mtimezone\u001b[0m \u001b[0;34m=\u001b[0m \u001b[0mself\u001b[0m\u001b[0;34m.\u001b[0m\u001b[0msql_ctx\u001b[0m\u001b[0;34m.\u001b[0m\u001b[0m_conf\u001b[0m\u001b[0;34m.\u001b[0m\u001b[0msessionLocalTimeZone\u001b[0m\u001b[0;34m(\u001b[0m\u001b[0;34m)\u001b[0m\u001b[0;34m\u001b[0m\u001b[0;34m\u001b[0m\u001b[0m\n\u001b[1;32m   2081\u001b[0m         \u001b[0;32melse\u001b[0m\u001b[0;34m:\u001b[0m\u001b[0;34m\u001b[0m\u001b[0;34m\u001b[0m\u001b[0m\n",
      "\u001b[0;32m/opt/spark/python/pyspark/sql/context.py\u001b[0m in \u001b[0;36m_conf\u001b[0;34m(self)\u001b[0m\n\u001b[1;32m     97\u001b[0m     \u001b[0;32mdef\u001b[0m \u001b[0m_conf\u001b[0m\u001b[0;34m(\u001b[0m\u001b[0mself\u001b[0m\u001b[0;34m)\u001b[0m\u001b[0;34m:\u001b[0m\u001b[0;34m\u001b[0m\u001b[0;34m\u001b[0m\u001b[0m\n\u001b[1;32m     98\u001b[0m         \u001b[0;34m\"\"\"Accessor for the JVM SQL-specific configurations\"\"\"\u001b[0m\u001b[0;34m\u001b[0m\u001b[0;34m\u001b[0m\u001b[0m\n\u001b[0;32m---> 99\u001b[0;31m         \u001b[0;32mreturn\u001b[0m \u001b[0mself\u001b[0m\u001b[0;34m.\u001b[0m\u001b[0msparkSession\u001b[0m\u001b[0;34m.\u001b[0m\u001b[0m_jsparkSession\u001b[0m\u001b[0;34m.\u001b[0m\u001b[0msessionState\u001b[0m\u001b[0;34m(\u001b[0m\u001b[0;34m)\u001b[0m\u001b[0;34m.\u001b[0m\u001b[0mconf\u001b[0m\u001b[0;34m(\u001b[0m\u001b[0;34m)\u001b[0m\u001b[0;34m\u001b[0m\u001b[0;34m\u001b[0m\u001b[0m\n\u001b[0m\u001b[1;32m    100\u001b[0m \u001b[0;34m\u001b[0m\u001b[0m\n\u001b[1;32m    101\u001b[0m     \u001b[0;34m@\u001b[0m\u001b[0mclassmethod\u001b[0m\u001b[0;34m\u001b[0m\u001b[0;34m\u001b[0m\u001b[0m\n",
      "\u001b[0;32m/opt/spark/python/lib/py4j-0.10.7-src.zip/py4j/java_gateway.py\u001b[0m in \u001b[0;36m__call__\u001b[0;34m(self, *args)\u001b[0m\n\u001b[1;32m   1253\u001b[0m             \u001b[0mproto\u001b[0m\u001b[0;34m.\u001b[0m\u001b[0mEND_COMMAND_PART\u001b[0m\u001b[0;34m\u001b[0m\u001b[0;34m\u001b[0m\u001b[0m\n\u001b[1;32m   1254\u001b[0m \u001b[0;34m\u001b[0m\u001b[0m\n\u001b[0;32m-> 1255\u001b[0;31m         \u001b[0manswer\u001b[0m \u001b[0;34m=\u001b[0m \u001b[0mself\u001b[0m\u001b[0;34m.\u001b[0m\u001b[0mgateway_client\u001b[0m\u001b[0;34m.\u001b[0m\u001b[0msend_command\u001b[0m\u001b[0;34m(\u001b[0m\u001b[0mcommand\u001b[0m\u001b[0;34m)\u001b[0m\u001b[0;34m\u001b[0m\u001b[0;34m\u001b[0m\u001b[0m\n\u001b[0m\u001b[1;32m   1256\u001b[0m         return_value = get_return_value(\n\u001b[1;32m   1257\u001b[0m             answer, self.gateway_client, self.target_id, self.name)\n",
      "\u001b[0;32m/opt/spark/python/lib/py4j-0.10.7-src.zip/py4j/java_gateway.py\u001b[0m in \u001b[0;36msend_command\u001b[0;34m(self, command, retry, binary)\u001b[0m\n\u001b[1;32m    981\u001b[0m          \u001b[0;32mif\u001b[0m\u001b[0;31m \u001b[0m\u001b[0;31m`\u001b[0m\u001b[0mbinary\u001b[0m\u001b[0;31m`\u001b[0m \u001b[0;32mis\u001b[0m\u001b[0;31m \u001b[0m\u001b[0;31m`\u001b[0m\u001b[0;32mTrue\u001b[0m\u001b[0;31m`\u001b[0m\u001b[0;34m.\u001b[0m\u001b[0;34m\u001b[0m\u001b[0;34m\u001b[0m\u001b[0m\n\u001b[1;32m    982\u001b[0m         \"\"\"\n\u001b[0;32m--> 983\u001b[0;31m         \u001b[0mconnection\u001b[0m \u001b[0;34m=\u001b[0m \u001b[0mself\u001b[0m\u001b[0;34m.\u001b[0m\u001b[0m_get_connection\u001b[0m\u001b[0;34m(\u001b[0m\u001b[0;34m)\u001b[0m\u001b[0;34m\u001b[0m\u001b[0;34m\u001b[0m\u001b[0m\n\u001b[0m\u001b[1;32m    984\u001b[0m         \u001b[0;32mtry\u001b[0m\u001b[0;34m:\u001b[0m\u001b[0;34m\u001b[0m\u001b[0;34m\u001b[0m\u001b[0m\n\u001b[1;32m    985\u001b[0m             \u001b[0mresponse\u001b[0m \u001b[0;34m=\u001b[0m \u001b[0mconnection\u001b[0m\u001b[0;34m.\u001b[0m\u001b[0msend_command\u001b[0m\u001b[0;34m(\u001b[0m\u001b[0mcommand\u001b[0m\u001b[0;34m)\u001b[0m\u001b[0;34m\u001b[0m\u001b[0;34m\u001b[0m\u001b[0m\n",
      "\u001b[0;32m/opt/spark/python/lib/py4j-0.10.7-src.zip/py4j/java_gateway.py\u001b[0m in \u001b[0;36m_get_connection\u001b[0;34m(self)\u001b[0m\n\u001b[1;32m    929\u001b[0m             \u001b[0mconnection\u001b[0m \u001b[0;34m=\u001b[0m \u001b[0mself\u001b[0m\u001b[0;34m.\u001b[0m\u001b[0mdeque\u001b[0m\u001b[0;34m.\u001b[0m\u001b[0mpop\u001b[0m\u001b[0;34m(\u001b[0m\u001b[0;34m)\u001b[0m\u001b[0;34m\u001b[0m\u001b[0;34m\u001b[0m\u001b[0m\n\u001b[1;32m    930\u001b[0m         \u001b[0;32mexcept\u001b[0m \u001b[0mIndexError\u001b[0m\u001b[0;34m:\u001b[0m\u001b[0;34m\u001b[0m\u001b[0;34m\u001b[0m\u001b[0m\n\u001b[0;32m--> 931\u001b[0;31m             \u001b[0mconnection\u001b[0m \u001b[0;34m=\u001b[0m \u001b[0mself\u001b[0m\u001b[0;34m.\u001b[0m\u001b[0m_create_connection\u001b[0m\u001b[0;34m(\u001b[0m\u001b[0;34m)\u001b[0m\u001b[0;34m\u001b[0m\u001b[0;34m\u001b[0m\u001b[0m\n\u001b[0m\u001b[1;32m    932\u001b[0m         \u001b[0;32mreturn\u001b[0m \u001b[0mconnection\u001b[0m\u001b[0;34m\u001b[0m\u001b[0;34m\u001b[0m\u001b[0m\n\u001b[1;32m    933\u001b[0m \u001b[0;34m\u001b[0m\u001b[0m\n",
      "\u001b[0;32m/opt/spark/python/lib/py4j-0.10.7-src.zip/py4j/java_gateway.py\u001b[0m in \u001b[0;36m_create_connection\u001b[0;34m(self)\u001b[0m\n\u001b[1;32m    935\u001b[0m         connection = GatewayConnection(\n\u001b[1;32m    936\u001b[0m             self.gateway_parameters, self.gateway_property)\n\u001b[0;32m--> 937\u001b[0;31m         \u001b[0mconnection\u001b[0m\u001b[0;34m.\u001b[0m\u001b[0mstart\u001b[0m\u001b[0;34m(\u001b[0m\u001b[0;34m)\u001b[0m\u001b[0;34m\u001b[0m\u001b[0;34m\u001b[0m\u001b[0m\n\u001b[0m\u001b[1;32m    938\u001b[0m         \u001b[0;32mreturn\u001b[0m \u001b[0mconnection\u001b[0m\u001b[0;34m\u001b[0m\u001b[0;34m\u001b[0m\u001b[0m\n\u001b[1;32m    939\u001b[0m \u001b[0;34m\u001b[0m\u001b[0m\n",
      "\u001b[0;32m/opt/spark/python/lib/py4j-0.10.7-src.zip/py4j/java_gateway.py\u001b[0m in \u001b[0;36mstart\u001b[0;34m(self)\u001b[0m\n\u001b[1;32m   1077\u001b[0m                 \u001b[0;34m\"server ({0}:{1})\"\u001b[0m\u001b[0;34m.\u001b[0m\u001b[0mformat\u001b[0m\u001b[0;34m(\u001b[0m\u001b[0mself\u001b[0m\u001b[0;34m.\u001b[0m\u001b[0maddress\u001b[0m\u001b[0;34m,\u001b[0m \u001b[0mself\u001b[0m\u001b[0;34m.\u001b[0m\u001b[0mport\u001b[0m\u001b[0;34m)\u001b[0m\u001b[0;34m\u001b[0m\u001b[0;34m\u001b[0m\u001b[0m\n\u001b[1;32m   1078\u001b[0m             \u001b[0mlogger\u001b[0m\u001b[0;34m.\u001b[0m\u001b[0mexception\u001b[0m\u001b[0;34m(\u001b[0m\u001b[0mmsg\u001b[0m\u001b[0;34m)\u001b[0m\u001b[0;34m\u001b[0m\u001b[0;34m\u001b[0m\u001b[0m\n\u001b[0;32m-> 1079\u001b[0;31m             \u001b[0;32mraise\u001b[0m \u001b[0mPy4JNetworkError\u001b[0m\u001b[0;34m(\u001b[0m\u001b[0mmsg\u001b[0m\u001b[0;34m,\u001b[0m \u001b[0me\u001b[0m\u001b[0;34m)\u001b[0m\u001b[0;34m\u001b[0m\u001b[0;34m\u001b[0m\u001b[0m\n\u001b[0m\u001b[1;32m   1080\u001b[0m \u001b[0;34m\u001b[0m\u001b[0m\n\u001b[1;32m   1081\u001b[0m     \u001b[0;32mdef\u001b[0m \u001b[0m_authenticate_connection\u001b[0m\u001b[0;34m(\u001b[0m\u001b[0mself\u001b[0m\u001b[0;34m)\u001b[0m\u001b[0;34m:\u001b[0m\u001b[0;34m\u001b[0m\u001b[0;34m\u001b[0m\u001b[0m\n",
      "\u001b[0;31mPy4JNetworkError\u001b[0m: An error occurred while trying to connect to the Java server (127.0.0.1:38495)"
     ]
    }
   ],
   "source": [
    "df_geolocation3=df_geolocation2.toPandas()"
   ]
  },
  {
   "cell_type": "code",
   "execution_count": 195,
   "metadata": {},
   "outputs": [
    {
     "name": "stdout",
     "output_type": "stream",
     "text": [
      "         geolocation_zip_code_prefix  geolocation_lat  geolocation_lng  \\\n",
      "0                               1037       -23.545621       -46.639292   \n",
      "1                               1046       -23.546081       -46.644820   \n",
      "2                               1046       -23.546129       -46.642951   \n",
      "3                               1041       -23.544392       -46.639499   \n",
      "4                               1035       -23.541578       -46.641607   \n",
      "...                              ...              ...              ...   \n",
      "1000158                        99950       -28.068639       -52.010705   \n",
      "1000159                        99900       -27.877125       -52.224882   \n",
      "1000160                        99950       -28.071855       -52.014716   \n",
      "1000161                        99980       -28.388932       -51.846871   \n",
      "1000162                        99950       -28.070104       -52.018658   \n",
      "\n",
      "        geolocation_city geolocation_state  \n",
      "0              São paulo                SP  \n",
      "1              São paulo                SP  \n",
      "2              São paulo                SP  \n",
      "3              São paulo                SP  \n",
      "4              São paulo                SP  \n",
      "...                  ...               ...  \n",
      "1000158         Tapejara                RS  \n",
      "1000159   Getulio vargas                RS  \n",
      "1000160         Tapejara                RS  \n",
      "1000161  David canabarro                RS  \n",
      "1000162         Tapejara                RS  \n",
      "\n",
      "[1000163 rows x 5 columns]\n"
     ]
    }
   ],
   "source": [
    "print(df_geolocation3)"
   ]
  },
  {
   "cell_type": "code",
   "execution_count": 196,
   "metadata": {},
   "outputs": [],
   "source": [
    "df_geolocation3['geolocation_city'] = df_geolocation3['geolocation_city'].str.capitalize()"
   ]
  },
  {
   "cell_type": "code",
   "execution_count": 142,
   "metadata": {},
   "outputs": [
    {
     "name": "stdout",
     "output_type": "stream",
     "text": [
      "         geolocation_zip_code_prefix  geolocation_lat  geolocation_lng  \\\n",
      "0                               1037       -23.545621       -46.639292   \n",
      "1                               1046       -23.546081       -46.644820   \n",
      "2                               1046       -23.546129       -46.642951   \n",
      "3                               1041       -23.544392       -46.639499   \n",
      "4                               1035       -23.541578       -46.641607   \n",
      "...                              ...              ...              ...   \n",
      "1000158                        99950       -28.068639       -52.010705   \n",
      "1000159                        99900       -27.877125       -52.224882   \n",
      "1000160                        99950       -28.071855       -52.014716   \n",
      "1000161                        99980       -28.388932       -51.846871   \n",
      "1000162                        99950       -28.070104       -52.018658   \n",
      "\n",
      "        geolocation_city geolocation_state  \n",
      "0              São paulo                SP  \n",
      "1              São paulo                SP  \n",
      "2              São paulo                SP  \n",
      "3              São paulo                SP  \n",
      "4              São paulo                SP  \n",
      "...                  ...               ...  \n",
      "1000158         Tapejara                RS  \n",
      "1000159   Getulio vargas                RS  \n",
      "1000160         Tapejara                RS  \n",
      "1000161  David canabarro                RS  \n",
      "1000162         Tapejara                RS  \n",
      "\n",
      "[1000163 rows x 5 columns]\n"
     ]
    }
   ],
   "source": [
    "print(df_geolocation3)"
   ]
  },
  {
   "cell_type": "code",
   "execution_count": 204,
   "metadata": {},
   "outputs": [],
   "source": [
    "df_geolocation3 = df_geolocation3.head(20)"
   ]
  },
  {
   "cell_type": "code",
   "execution_count": 205,
   "metadata": {},
   "outputs": [
    {
     "data": {
      "text/html": [
       "<div>\n",
       "<style scoped>\n",
       "    .dataframe tbody tr th:only-of-type {\n",
       "        vertical-align: middle;\n",
       "    }\n",
       "\n",
       "    .dataframe tbody tr th {\n",
       "        vertical-align: top;\n",
       "    }\n",
       "\n",
       "    .dataframe thead th {\n",
       "        text-align: right;\n",
       "    }\n",
       "</style>\n",
       "<table border=\"1\" class=\"dataframe\">\n",
       "  <thead>\n",
       "    <tr style=\"text-align: right;\">\n",
       "      <th></th>\n",
       "      <th>geolocation_zip_code_prefix</th>\n",
       "      <th>geolocation_lat</th>\n",
       "      <th>geolocation_lng</th>\n",
       "      <th>geolocation_city</th>\n",
       "      <th>geolocation_state</th>\n",
       "    </tr>\n",
       "  </thead>\n",
       "  <tbody>\n",
       "    <tr>\n",
       "      <th>0</th>\n",
       "      <td>1037</td>\n",
       "      <td>-23.545621</td>\n",
       "      <td>-46.639292</td>\n",
       "      <td>São paulo</td>\n",
       "      <td>SP</td>\n",
       "    </tr>\n",
       "    <tr>\n",
       "      <th>1</th>\n",
       "      <td>1046</td>\n",
       "      <td>-23.546081</td>\n",
       "      <td>-46.644820</td>\n",
       "      <td>São paulo</td>\n",
       "      <td>SP</td>\n",
       "    </tr>\n",
       "    <tr>\n",
       "      <th>2</th>\n",
       "      <td>1046</td>\n",
       "      <td>-23.546129</td>\n",
       "      <td>-46.642951</td>\n",
       "      <td>São paulo</td>\n",
       "      <td>SP</td>\n",
       "    </tr>\n",
       "    <tr>\n",
       "      <th>3</th>\n",
       "      <td>1041</td>\n",
       "      <td>-23.544392</td>\n",
       "      <td>-46.639499</td>\n",
       "      <td>São paulo</td>\n",
       "      <td>SP</td>\n",
       "    </tr>\n",
       "    <tr>\n",
       "      <th>4</th>\n",
       "      <td>1035</td>\n",
       "      <td>-23.541578</td>\n",
       "      <td>-46.641607</td>\n",
       "      <td>São paulo</td>\n",
       "      <td>SP</td>\n",
       "    </tr>\n",
       "    <tr>\n",
       "      <th>5</th>\n",
       "      <td>1012</td>\n",
       "      <td>-23.547762</td>\n",
       "      <td>-46.635361</td>\n",
       "      <td>São paulo</td>\n",
       "      <td>SP</td>\n",
       "    </tr>\n",
       "    <tr>\n",
       "      <th>6</th>\n",
       "      <td>1047</td>\n",
       "      <td>-23.546273</td>\n",
       "      <td>-46.641225</td>\n",
       "      <td>São paulo</td>\n",
       "      <td>SP</td>\n",
       "    </tr>\n",
       "    <tr>\n",
       "      <th>7</th>\n",
       "      <td>1013</td>\n",
       "      <td>-23.546923</td>\n",
       "      <td>-46.634264</td>\n",
       "      <td>São paulo</td>\n",
       "      <td>SP</td>\n",
       "    </tr>\n",
       "    <tr>\n",
       "      <th>8</th>\n",
       "      <td>1029</td>\n",
       "      <td>-23.543769</td>\n",
       "      <td>-46.634278</td>\n",
       "      <td>São paulo</td>\n",
       "      <td>SP</td>\n",
       "    </tr>\n",
       "    <tr>\n",
       "      <th>9</th>\n",
       "      <td>1011</td>\n",
       "      <td>-23.547640</td>\n",
       "      <td>-46.636032</td>\n",
       "      <td>São paulo</td>\n",
       "      <td>SP</td>\n",
       "    </tr>\n",
       "    <tr>\n",
       "      <th>10</th>\n",
       "      <td>1013</td>\n",
       "      <td>-23.547325</td>\n",
       "      <td>-46.634184</td>\n",
       "      <td>São paulo</td>\n",
       "      <td>SP</td>\n",
       "    </tr>\n",
       "    <tr>\n",
       "      <th>11</th>\n",
       "      <td>1032</td>\n",
       "      <td>-23.538418</td>\n",
       "      <td>-46.634778</td>\n",
       "      <td>São paulo</td>\n",
       "      <td>SP</td>\n",
       "    </tr>\n",
       "    <tr>\n",
       "      <th>12</th>\n",
       "      <td>1014</td>\n",
       "      <td>-23.546435</td>\n",
       "      <td>-46.633830</td>\n",
       "      <td>São paulo</td>\n",
       "      <td>SP</td>\n",
       "    </tr>\n",
       "    <tr>\n",
       "      <th>13</th>\n",
       "      <td>1012</td>\n",
       "      <td>-23.548946</td>\n",
       "      <td>-46.634671</td>\n",
       "      <td>São paulo</td>\n",
       "      <td>SP</td>\n",
       "    </tr>\n",
       "    <tr>\n",
       "      <th>14</th>\n",
       "      <td>1037</td>\n",
       "      <td>-23.545187</td>\n",
       "      <td>-46.637855</td>\n",
       "      <td>São paulo</td>\n",
       "      <td>SP</td>\n",
       "    </tr>\n",
       "    <tr>\n",
       "      <th>15</th>\n",
       "      <td>1046</td>\n",
       "      <td>-23.546081</td>\n",
       "      <td>-46.644820</td>\n",
       "      <td>São paulo</td>\n",
       "      <td>SP</td>\n",
       "    </tr>\n",
       "    <tr>\n",
       "      <th>16</th>\n",
       "      <td>1039</td>\n",
       "      <td>-23.541883</td>\n",
       "      <td>-46.639919</td>\n",
       "      <td>São paulo</td>\n",
       "      <td>SP</td>\n",
       "    </tr>\n",
       "    <tr>\n",
       "      <th>17</th>\n",
       "      <td>1024</td>\n",
       "      <td>-23.541390</td>\n",
       "      <td>-46.629899</td>\n",
       "      <td>São paulo</td>\n",
       "      <td>SP</td>\n",
       "    </tr>\n",
       "    <tr>\n",
       "      <th>18</th>\n",
       "      <td>1009</td>\n",
       "      <td>-23.546935</td>\n",
       "      <td>-46.636588</td>\n",
       "      <td>São paulo</td>\n",
       "      <td>SP</td>\n",
       "    </tr>\n",
       "    <tr>\n",
       "      <th>19</th>\n",
       "      <td>1046</td>\n",
       "      <td>-23.545884</td>\n",
       "      <td>-46.643163</td>\n",
       "      <td>São paulo</td>\n",
       "      <td>SP</td>\n",
       "    </tr>\n",
       "  </tbody>\n",
       "</table>\n",
       "</div>"
      ],
      "text/plain": [
       "    geolocation_zip_code_prefix  geolocation_lat  geolocation_lng  \\\n",
       "0                          1037       -23.545621       -46.639292   \n",
       "1                          1046       -23.546081       -46.644820   \n",
       "2                          1046       -23.546129       -46.642951   \n",
       "3                          1041       -23.544392       -46.639499   \n",
       "4                          1035       -23.541578       -46.641607   \n",
       "5                          1012       -23.547762       -46.635361   \n",
       "6                          1047       -23.546273       -46.641225   \n",
       "7                          1013       -23.546923       -46.634264   \n",
       "8                          1029       -23.543769       -46.634278   \n",
       "9                          1011       -23.547640       -46.636032   \n",
       "10                         1013       -23.547325       -46.634184   \n",
       "11                         1032       -23.538418       -46.634778   \n",
       "12                         1014       -23.546435       -46.633830   \n",
       "13                         1012       -23.548946       -46.634671   \n",
       "14                         1037       -23.545187       -46.637855   \n",
       "15                         1046       -23.546081       -46.644820   \n",
       "16                         1039       -23.541883       -46.639919   \n",
       "17                         1024       -23.541390       -46.629899   \n",
       "18                         1009       -23.546935       -46.636588   \n",
       "19                         1046       -23.545884       -46.643163   \n",
       "\n",
       "   geolocation_city geolocation_state  \n",
       "0         São paulo                SP  \n",
       "1         São paulo                SP  \n",
       "2         São paulo                SP  \n",
       "3         São paulo                SP  \n",
       "4         São paulo                SP  \n",
       "5         São paulo                SP  \n",
       "6         São paulo                SP  \n",
       "7         São paulo                SP  \n",
       "8         São paulo                SP  \n",
       "9         São paulo                SP  \n",
       "10        São paulo                SP  \n",
       "11        São paulo                SP  \n",
       "12        São paulo                SP  \n",
       "13        São paulo                SP  \n",
       "14        São paulo                SP  \n",
       "15        São paulo                SP  \n",
       "16        São paulo                SP  \n",
       "17        São paulo                SP  \n",
       "18        São paulo                SP  \n",
       "19        São paulo                SP  "
      ]
     },
     "execution_count": 205,
     "metadata": {},
     "output_type": "execute_result"
    }
   ],
   "source": [
    "df_geolocation3"
   ]
  },
  {
   "cell_type": "code",
   "execution_count": 197,
   "metadata": {},
   "outputs": [],
   "source": [
    "from tqdm import tqdm\n",
    "from geopy.geocoders import Nominatim\n",
    "from geopy.extra.rate_limiter import RateLimiter\n",
    "\n",
    "\n",
    "tqdm.pandas()\n",
    "geolocator = Nominatim(user_agent=\"fiap_mba\")\n",
    "reverse = RateLimiter(geolocator.reverse, min_delay_seconds=1)"
   ]
  },
  {
   "cell_type": "code",
   "execution_count": 206,
   "metadata": {},
   "outputs": [
    {
     "name": "stderr",
     "output_type": "stream",
     "text": [
      "100%|██████████| 20/20 [00:19<00:00,  1.04it/s]\n",
      "/opt/anaconda3/lib/python3.6/site-packages/ipykernel/__main__.py:3: SettingWithCopyWarning: \n",
      "A value is trying to be set on a copy of a slice from a DataFrame.\n",
      "Try using .loc[row_indexer,col_indexer] = value instead\n",
      "\n",
      "See the caveats in the documentation: http://pandas.pydata.org/pandas-docs/stable/user_guide/indexing.html#returning-a-view-versus-a-copy\n",
      "  app.launch_new_instance()\n"
     ]
    }
   ],
   "source": [
    "df_geolocation3['address'] = df_geolocation3.progress_apply(\n",
    "lambda row: reverse((row['geolocation_lat'], row['geolocation_lng'])),\n",
    "axis=1\n",
    ")"
   ]
  },
  {
   "cell_type": "code",
   "execution_count": 208,
   "metadata": {},
   "outputs": [
    {
     "data": {
      "text/html": [
       "<div>\n",
       "<style scoped>\n",
       "    .dataframe tbody tr th:only-of-type {\n",
       "        vertical-align: middle;\n",
       "    }\n",
       "\n",
       "    .dataframe tbody tr th {\n",
       "        vertical-align: top;\n",
       "    }\n",
       "\n",
       "    .dataframe thead th {\n",
       "        text-align: right;\n",
       "    }\n",
       "</style>\n",
       "<table border=\"1\" class=\"dataframe\">\n",
       "  <thead>\n",
       "    <tr style=\"text-align: right;\">\n",
       "      <th></th>\n",
       "      <th>geolocation_zip_code_prefix</th>\n",
       "      <th>geolocation_lat</th>\n",
       "      <th>geolocation_lng</th>\n",
       "      <th>geolocation_city</th>\n",
       "      <th>geolocation_state</th>\n",
       "      <th>address</th>\n",
       "    </tr>\n",
       "  </thead>\n",
       "  <tbody>\n",
       "    <tr>\n",
       "      <th>0</th>\n",
       "      <td>1037</td>\n",
       "      <td>-23.545621</td>\n",
       "      <td>-46.639292</td>\n",
       "      <td>São paulo</td>\n",
       "      <td>SP</td>\n",
       "      <td>(Casas Bahia, 131, Praça Ramos de Azevedo, Rep...</td>\n",
       "    </tr>\n",
       "    <tr>\n",
       "      <th>1</th>\n",
       "      <td>1046</td>\n",
       "      <td>-23.546081</td>\n",
       "      <td>-46.644820</td>\n",
       "      <td>São paulo</td>\n",
       "      <td>SP</td>\n",
       "      <td>(303, Avenida Ipiranga, Vila Buarque, Repúblic...</td>\n",
       "    </tr>\n",
       "    <tr>\n",
       "      <th>2</th>\n",
       "      <td>1046</td>\n",
       "      <td>-23.546129</td>\n",
       "      <td>-46.642951</td>\n",
       "      <td>São paulo</td>\n",
       "      <td>SP</td>\n",
       "      <td>(Confidence Cambio, Calçada Compartilhada Av S...</td>\n",
       "    </tr>\n",
       "    <tr>\n",
       "      <th>3</th>\n",
       "      <td>1041</td>\n",
       "      <td>-23.544392</td>\n",
       "      <td>-46.639499</td>\n",
       "      <td>São paulo</td>\n",
       "      <td>SP</td>\n",
       "      <td>(Galeria R Monteiro, 77, Rua 24 de Maio, Repúb...</td>\n",
       "    </tr>\n",
       "    <tr>\n",
       "      <th>4</th>\n",
       "      <td>1035</td>\n",
       "      <td>-23.541578</td>\n",
       "      <td>-46.641607</td>\n",
       "      <td>São paulo</td>\n",
       "      <td>SP</td>\n",
       "      <td>(816, Avenida São João, República, São Paulo, ...</td>\n",
       "    </tr>\n",
       "    <tr>\n",
       "      <th>5</th>\n",
       "      <td>1012</td>\n",
       "      <td>-23.547762</td>\n",
       "      <td>-46.635361</td>\n",
       "      <td>São paulo</td>\n",
       "      <td>SP</td>\n",
       "      <td>(Edifício George Loeb, 113, Rua da Quitanda, G...</td>\n",
       "    </tr>\n",
       "    <tr>\n",
       "      <th>6</th>\n",
       "      <td>1047</td>\n",
       "      <td>-23.546273</td>\n",
       "      <td>-46.641225</td>\n",
       "      <td>São paulo</td>\n",
       "      <td>SP</td>\n",
       "      <td>(Edifício Vicentina, Rua Doutor Bráulio Gomes,...</td>\n",
       "    </tr>\n",
       "    <tr>\n",
       "      <th>7</th>\n",
       "      <td>1013</td>\n",
       "      <td>-23.546923</td>\n",
       "      <td>-46.634264</td>\n",
       "      <td>São paulo</td>\n",
       "      <td>SP</td>\n",
       "      <td>(Edifício Canadá, Rua 15 de Novembro, Glicério...</td>\n",
       "    </tr>\n",
       "    <tr>\n",
       "      <th>8</th>\n",
       "      <td>1029</td>\n",
       "      <td>-23.543769</td>\n",
       "      <td>-46.634278</td>\n",
       "      <td>São paulo</td>\n",
       "      <td>SP</td>\n",
       "      <td>(Mosteiro de São Bento, Largo São Bento, Glicé...</td>\n",
       "    </tr>\n",
       "    <tr>\n",
       "      <th>9</th>\n",
       "      <td>1011</td>\n",
       "      <td>-23.547640</td>\n",
       "      <td>-46.636032</td>\n",
       "      <td>São paulo</td>\n",
       "      <td>SP</td>\n",
       "      <td>(30, Praça do Patriarca, Glicério, Sé, São Pau...</td>\n",
       "    </tr>\n",
       "    <tr>\n",
       "      <th>10</th>\n",
       "      <td>1013</td>\n",
       "      <td>-23.547325</td>\n",
       "      <td>-46.634184</td>\n",
       "      <td>São paulo</td>\n",
       "      <td>SP</td>\n",
       "      <td>(Edifício das Bandeiras, Rua 15 de Novembro, G...</td>\n",
       "    </tr>\n",
       "    <tr>\n",
       "      <th>11</th>\n",
       "      <td>1032</td>\n",
       "      <td>-23.538418</td>\n",
       "      <td>-46.634778</td>\n",
       "      <td>São paulo</td>\n",
       "      <td>SP</td>\n",
       "      <td>(Edifício Palácio da Polícia Civil, 527, Rua B...</td>\n",
       "    </tr>\n",
       "    <tr>\n",
       "      <th>12</th>\n",
       "      <td>1014</td>\n",
       "      <td>-23.546435</td>\n",
       "      <td>-46.633830</td>\n",
       "      <td>São paulo</td>\n",
       "      <td>SP</td>\n",
       "      <td>(40, Rua 3 de Dezembro, Glicério, Sé, São Paul...</td>\n",
       "    </tr>\n",
       "    <tr>\n",
       "      <th>13</th>\n",
       "      <td>1012</td>\n",
       "      <td>-23.548946</td>\n",
       "      <td>-46.634671</td>\n",
       "      <td>São paulo</td>\n",
       "      <td>SP</td>\n",
       "      <td>(32, Rua José Bonifácio, Glicério, Sé, São Pau...</td>\n",
       "    </tr>\n",
       "    <tr>\n",
       "      <th>14</th>\n",
       "      <td>1037</td>\n",
       "      <td>-23.545187</td>\n",
       "      <td>-46.637855</td>\n",
       "      <td>São paulo</td>\n",
       "      <td>SP</td>\n",
       "      <td>(Secretaria de Agricultura e Abastecimento do ...</td>\n",
       "    </tr>\n",
       "    <tr>\n",
       "      <th>15</th>\n",
       "      <td>1046</td>\n",
       "      <td>-23.546081</td>\n",
       "      <td>-46.644820</td>\n",
       "      <td>São paulo</td>\n",
       "      <td>SP</td>\n",
       "      <td>(303, Avenida Ipiranga, Vila Buarque, Repúblic...</td>\n",
       "    </tr>\n",
       "    <tr>\n",
       "      <th>16</th>\n",
       "      <td>1039</td>\n",
       "      <td>-23.541883</td>\n",
       "      <td>-46.639919</td>\n",
       "      <td>São paulo</td>\n",
       "      <td>SP</td>\n",
       "      <td>(895, Avenida Ipiranga, República, São Paulo, ...</td>\n",
       "    </tr>\n",
       "    <tr>\n",
       "      <th>17</th>\n",
       "      <td>1024</td>\n",
       "      <td>-23.541390</td>\n",
       "      <td>-46.629899</td>\n",
       "      <td>São paulo</td>\n",
       "      <td>SP</td>\n",
       "      <td>(323, Rua da Cantareira, Glicério, Sé, São Pau...</td>\n",
       "    </tr>\n",
       "    <tr>\n",
       "      <th>18</th>\n",
       "      <td>1009</td>\n",
       "      <td>-23.546935</td>\n",
       "      <td>-46.636588</td>\n",
       "      <td>São paulo</td>\n",
       "      <td>SP</td>\n",
       "      <td>(Edifício Conde Prates, 293, Rua Líbero Badaró...</td>\n",
       "    </tr>\n",
       "    <tr>\n",
       "      <th>19</th>\n",
       "      <td>1046</td>\n",
       "      <td>-23.545884</td>\n",
       "      <td>-46.643163</td>\n",
       "      <td>São paulo</td>\n",
       "      <td>SP</td>\n",
       "      <td>(Edifício Comandante Linneu Gomes, 86, Avenida...</td>\n",
       "    </tr>\n",
       "  </tbody>\n",
       "</table>\n",
       "</div>"
      ],
      "text/plain": [
       "    geolocation_zip_code_prefix  geolocation_lat  geolocation_lng  \\\n",
       "0                          1037       -23.545621       -46.639292   \n",
       "1                          1046       -23.546081       -46.644820   \n",
       "2                          1046       -23.546129       -46.642951   \n",
       "3                          1041       -23.544392       -46.639499   \n",
       "4                          1035       -23.541578       -46.641607   \n",
       "5                          1012       -23.547762       -46.635361   \n",
       "6                          1047       -23.546273       -46.641225   \n",
       "7                          1013       -23.546923       -46.634264   \n",
       "8                          1029       -23.543769       -46.634278   \n",
       "9                          1011       -23.547640       -46.636032   \n",
       "10                         1013       -23.547325       -46.634184   \n",
       "11                         1032       -23.538418       -46.634778   \n",
       "12                         1014       -23.546435       -46.633830   \n",
       "13                         1012       -23.548946       -46.634671   \n",
       "14                         1037       -23.545187       -46.637855   \n",
       "15                         1046       -23.546081       -46.644820   \n",
       "16                         1039       -23.541883       -46.639919   \n",
       "17                         1024       -23.541390       -46.629899   \n",
       "18                         1009       -23.546935       -46.636588   \n",
       "19                         1046       -23.545884       -46.643163   \n",
       "\n",
       "   geolocation_city geolocation_state  \\\n",
       "0         São paulo                SP   \n",
       "1         São paulo                SP   \n",
       "2         São paulo                SP   \n",
       "3         São paulo                SP   \n",
       "4         São paulo                SP   \n",
       "5         São paulo                SP   \n",
       "6         São paulo                SP   \n",
       "7         São paulo                SP   \n",
       "8         São paulo                SP   \n",
       "9         São paulo                SP   \n",
       "10        São paulo                SP   \n",
       "11        São paulo                SP   \n",
       "12        São paulo                SP   \n",
       "13        São paulo                SP   \n",
       "14        São paulo                SP   \n",
       "15        São paulo                SP   \n",
       "16        São paulo                SP   \n",
       "17        São paulo                SP   \n",
       "18        São paulo                SP   \n",
       "19        São paulo                SP   \n",
       "\n",
       "                                              address  \n",
       "0   (Casas Bahia, 131, Praça Ramos de Azevedo, Rep...  \n",
       "1   (303, Avenida Ipiranga, Vila Buarque, Repúblic...  \n",
       "2   (Confidence Cambio, Calçada Compartilhada Av S...  \n",
       "3   (Galeria R Monteiro, 77, Rua 24 de Maio, Repúb...  \n",
       "4   (816, Avenida São João, República, São Paulo, ...  \n",
       "5   (Edifício George Loeb, 113, Rua da Quitanda, G...  \n",
       "6   (Edifício Vicentina, Rua Doutor Bráulio Gomes,...  \n",
       "7   (Edifício Canadá, Rua 15 de Novembro, Glicério...  \n",
       "8   (Mosteiro de São Bento, Largo São Bento, Glicé...  \n",
       "9   (30, Praça do Patriarca, Glicério, Sé, São Pau...  \n",
       "10  (Edifício das Bandeiras, Rua 15 de Novembro, G...  \n",
       "11  (Edifício Palácio da Polícia Civil, 527, Rua B...  \n",
       "12  (40, Rua 3 de Dezembro, Glicério, Sé, São Paul...  \n",
       "13  (32, Rua José Bonifácio, Glicério, Sé, São Pau...  \n",
       "14  (Secretaria de Agricultura e Abastecimento do ...  \n",
       "15  (303, Avenida Ipiranga, Vila Buarque, Repúblic...  \n",
       "16  (895, Avenida Ipiranga, República, São Paulo, ...  \n",
       "17  (323, Rua da Cantareira, Glicério, Sé, São Pau...  \n",
       "18  (Edifício Conde Prates, 293, Rua Líbero Badaró...  \n",
       "19  (Edifício Comandante Linneu Gomes, 86, Avenida...  "
      ]
     },
     "execution_count": 208,
     "metadata": {},
     "output_type": "execute_result"
    }
   ],
   "source": [
    "df_geolocation3"
   ]
  },
  {
   "cell_type": "code",
   "execution_count": 210,
   "metadata": {},
   "outputs": [
    {
     "name": "stderr",
     "output_type": "stream",
     "text": [
      "100%|██████████| 20/20 [00:00<00:00, 12642.97it/s]\n",
      "/opt/anaconda3/lib/python3.6/site-packages/ipykernel/__main__.py:7: SettingWithCopyWarning: \n",
      "A value is trying to be set on a copy of a slice from a DataFrame.\n",
      "Try using .loc[row_indexer,col_indexer] = value instead\n",
      "\n",
      "See the caveats in the documentation: http://pandas.pydata.org/pandas-docs/stable/user_guide/indexing.html#returning-a-view-versus-a-copy\n"
     ]
    }
   ],
   "source": [
    "def parse_zipcode(location):\n",
    "    if location and location.raw.get('address') and location.raw['address'].get('postcode'):\n",
    "        return location.raw['address']['postcode']\n",
    "    else:\n",
    "        return None\n",
    "\n",
    "df_geolocation3['Zipcode'] = df_geolocation3['address'].progress_apply(parse_zipcode)"
   ]
  },
  {
   "cell_type": "code",
   "execution_count": 259,
   "metadata": {},
   "outputs": [
    {
     "data": {
      "text/html": [
       "<div>\n",
       "<style scoped>\n",
       "    .dataframe tbody tr th:only-of-type {\n",
       "        vertical-align: middle;\n",
       "    }\n",
       "\n",
       "    .dataframe tbody tr th {\n",
       "        vertical-align: top;\n",
       "    }\n",
       "\n",
       "    .dataframe thead th {\n",
       "        text-align: right;\n",
       "    }\n",
       "</style>\n",
       "<table border=\"1\" class=\"dataframe\">\n",
       "  <thead>\n",
       "    <tr style=\"text-align: right;\">\n",
       "      <th></th>\n",
       "      <th>geolocation_zip_code_prefix</th>\n",
       "      <th>geolocation_lat</th>\n",
       "      <th>geolocation_lng</th>\n",
       "      <th>geolocation_city</th>\n",
       "      <th>geolocation_state</th>\n",
       "      <th>address</th>\n",
       "      <th>Zipcode</th>\n",
       "    </tr>\n",
       "  </thead>\n",
       "  <tbody>\n",
       "    <tr>\n",
       "      <th>0</th>\n",
       "      <td>1037</td>\n",
       "      <td>-23.545621</td>\n",
       "      <td>-46.639292</td>\n",
       "      <td>São paulo</td>\n",
       "      <td>SP</td>\n",
       "      <td>(Casas Bahia, 131, Praça Ramos de Azevedo, Rep...</td>\n",
       "      <td>01037-000</td>\n",
       "    </tr>\n",
       "    <tr>\n",
       "      <th>1</th>\n",
       "      <td>1046</td>\n",
       "      <td>-23.546081</td>\n",
       "      <td>-46.644820</td>\n",
       "      <td>São paulo</td>\n",
       "      <td>SP</td>\n",
       "      <td>(303, Avenida Ipiranga, Vila Buarque, Repúblic...</td>\n",
       "      <td>01046-010</td>\n",
       "    </tr>\n",
       "    <tr>\n",
       "      <th>2</th>\n",
       "      <td>1046</td>\n",
       "      <td>-23.546129</td>\n",
       "      <td>-46.642951</td>\n",
       "      <td>São paulo</td>\n",
       "      <td>SP</td>\n",
       "      <td>(Confidence Cambio, Calçada Compartilhada Av S...</td>\n",
       "      <td>01046-001</td>\n",
       "    </tr>\n",
       "    <tr>\n",
       "      <th>3</th>\n",
       "      <td>1041</td>\n",
       "      <td>-23.544392</td>\n",
       "      <td>-46.639499</td>\n",
       "      <td>São paulo</td>\n",
       "      <td>SP</td>\n",
       "      <td>(Galeria R Monteiro, 77, Rua 24 de Maio, Repúb...</td>\n",
       "      <td>01041-001</td>\n",
       "    </tr>\n",
       "    <tr>\n",
       "      <th>4</th>\n",
       "      <td>1035</td>\n",
       "      <td>-23.541578</td>\n",
       "      <td>-46.641607</td>\n",
       "      <td>São paulo</td>\n",
       "      <td>SP</td>\n",
       "      <td>(816, Avenida São João, República, São Paulo, ...</td>\n",
       "      <td>01036-100</td>\n",
       "    </tr>\n",
       "    <tr>\n",
       "      <th>5</th>\n",
       "      <td>1012</td>\n",
       "      <td>-23.547762</td>\n",
       "      <td>-46.635361</td>\n",
       "      <td>São paulo</td>\n",
       "      <td>SP</td>\n",
       "      <td>(Edifício George Loeb, 113, Rua da Quitanda, G...</td>\n",
       "      <td>01012-010</td>\n",
       "    </tr>\n",
       "    <tr>\n",
       "      <th>6</th>\n",
       "      <td>1047</td>\n",
       "      <td>-23.546273</td>\n",
       "      <td>-46.641225</td>\n",
       "      <td>São paulo</td>\n",
       "      <td>SP</td>\n",
       "      <td>(Edifício Vicentina, Rua Doutor Bráulio Gomes,...</td>\n",
       "      <td>01043-000</td>\n",
       "    </tr>\n",
       "    <tr>\n",
       "      <th>7</th>\n",
       "      <td>1013</td>\n",
       "      <td>-23.546923</td>\n",
       "      <td>-46.634264</td>\n",
       "      <td>São paulo</td>\n",
       "      <td>SP</td>\n",
       "      <td>(Edifício Canadá, Rua 15 de Novembro, Glicério...</td>\n",
       "      <td>01013-001</td>\n",
       "    </tr>\n",
       "    <tr>\n",
       "      <th>8</th>\n",
       "      <td>1029</td>\n",
       "      <td>-23.543769</td>\n",
       "      <td>-46.634278</td>\n",
       "      <td>São paulo</td>\n",
       "      <td>SP</td>\n",
       "      <td>(Mosteiro de São Bento, Largo São Bento, Glicé...</td>\n",
       "      <td>01029-010</td>\n",
       "    </tr>\n",
       "    <tr>\n",
       "      <th>9</th>\n",
       "      <td>1011</td>\n",
       "      <td>-23.547640</td>\n",
       "      <td>-46.636032</td>\n",
       "      <td>São paulo</td>\n",
       "      <td>SP</td>\n",
       "      <td>(30, Praça do Patriarca, Glicério, Sé, São Pau...</td>\n",
       "      <td>01002-010</td>\n",
       "    </tr>\n",
       "    <tr>\n",
       "      <th>10</th>\n",
       "      <td>1013</td>\n",
       "      <td>-23.547325</td>\n",
       "      <td>-46.634184</td>\n",
       "      <td>São paulo</td>\n",
       "      <td>SP</td>\n",
       "      <td>(Edifício das Bandeiras, Rua 15 de Novembro, G...</td>\n",
       "      <td>01013-001</td>\n",
       "    </tr>\n",
       "    <tr>\n",
       "      <th>11</th>\n",
       "      <td>1032</td>\n",
       "      <td>-23.538418</td>\n",
       "      <td>-46.634778</td>\n",
       "      <td>São paulo</td>\n",
       "      <td>SP</td>\n",
       "      <td>(Edifício Palácio da Polícia Civil, 527, Rua B...</td>\n",
       "      <td>01032-001</td>\n",
       "    </tr>\n",
       "    <tr>\n",
       "      <th>12</th>\n",
       "      <td>1014</td>\n",
       "      <td>-23.546435</td>\n",
       "      <td>-46.633830</td>\n",
       "      <td>São paulo</td>\n",
       "      <td>SP</td>\n",
       "      <td>(40, Rua 3 de Dezembro, Glicério, Sé, São Paul...</td>\n",
       "      <td>01014-020</td>\n",
       "    </tr>\n",
       "    <tr>\n",
       "      <th>13</th>\n",
       "      <td>1012</td>\n",
       "      <td>-23.548946</td>\n",
       "      <td>-46.634671</td>\n",
       "      <td>São paulo</td>\n",
       "      <td>SP</td>\n",
       "      <td>(32, Rua José Bonifácio, Glicério, Sé, São Pau...</td>\n",
       "      <td>01003-000</td>\n",
       "    </tr>\n",
       "    <tr>\n",
       "      <th>14</th>\n",
       "      <td>1037</td>\n",
       "      <td>-23.545187</td>\n",
       "      <td>-46.637855</td>\n",
       "      <td>São paulo</td>\n",
       "      <td>SP</td>\n",
       "      <td>(Secretaria de Agricultura e Abastecimento do ...</td>\n",
       "      <td>01037-912</td>\n",
       "    </tr>\n",
       "    <tr>\n",
       "      <th>15</th>\n",
       "      <td>1046</td>\n",
       "      <td>-23.546081</td>\n",
       "      <td>-46.644820</td>\n",
       "      <td>São paulo</td>\n",
       "      <td>SP</td>\n",
       "      <td>(303, Avenida Ipiranga, Vila Buarque, Repúblic...</td>\n",
       "      <td>01046-010</td>\n",
       "    </tr>\n",
       "    <tr>\n",
       "      <th>16</th>\n",
       "      <td>1039</td>\n",
       "      <td>-23.541883</td>\n",
       "      <td>-46.639919</td>\n",
       "      <td>São paulo</td>\n",
       "      <td>SP</td>\n",
       "      <td>(895, Avenida Ipiranga, República, São Paulo, ...</td>\n",
       "      <td>01039-000</td>\n",
       "    </tr>\n",
       "    <tr>\n",
       "      <th>17</th>\n",
       "      <td>1024</td>\n",
       "      <td>-23.541390</td>\n",
       "      <td>-46.629899</td>\n",
       "      <td>São paulo</td>\n",
       "      <td>SP</td>\n",
       "      <td>(323, Rua da Cantareira, Glicério, Sé, São Pau...</td>\n",
       "      <td>01024-100</td>\n",
       "    </tr>\n",
       "    <tr>\n",
       "      <th>18</th>\n",
       "      <td>1009</td>\n",
       "      <td>-23.546935</td>\n",
       "      <td>-46.636588</td>\n",
       "      <td>São paulo</td>\n",
       "      <td>SP</td>\n",
       "      <td>(Edifício Conde Prates, 293, Rua Líbero Badaró...</td>\n",
       "      <td>01009-000</td>\n",
       "    </tr>\n",
       "    <tr>\n",
       "      <th>19</th>\n",
       "      <td>1046</td>\n",
       "      <td>-23.545884</td>\n",
       "      <td>-46.643163</td>\n",
       "      <td>São paulo</td>\n",
       "      <td>SP</td>\n",
       "      <td>(Edifício Comandante Linneu Gomes, 86, Avenida...</td>\n",
       "      <td>01046-000</td>\n",
       "    </tr>\n",
       "  </tbody>\n",
       "</table>\n",
       "</div>"
      ],
      "text/plain": [
       "    geolocation_zip_code_prefix  geolocation_lat  geolocation_lng  \\\n",
       "0                          1037       -23.545621       -46.639292   \n",
       "1                          1046       -23.546081       -46.644820   \n",
       "2                          1046       -23.546129       -46.642951   \n",
       "3                          1041       -23.544392       -46.639499   \n",
       "4                          1035       -23.541578       -46.641607   \n",
       "5                          1012       -23.547762       -46.635361   \n",
       "6                          1047       -23.546273       -46.641225   \n",
       "7                          1013       -23.546923       -46.634264   \n",
       "8                          1029       -23.543769       -46.634278   \n",
       "9                          1011       -23.547640       -46.636032   \n",
       "10                         1013       -23.547325       -46.634184   \n",
       "11                         1032       -23.538418       -46.634778   \n",
       "12                         1014       -23.546435       -46.633830   \n",
       "13                         1012       -23.548946       -46.634671   \n",
       "14                         1037       -23.545187       -46.637855   \n",
       "15                         1046       -23.546081       -46.644820   \n",
       "16                         1039       -23.541883       -46.639919   \n",
       "17                         1024       -23.541390       -46.629899   \n",
       "18                         1009       -23.546935       -46.636588   \n",
       "19                         1046       -23.545884       -46.643163   \n",
       "\n",
       "   geolocation_city geolocation_state  \\\n",
       "0         São paulo                SP   \n",
       "1         São paulo                SP   \n",
       "2         São paulo                SP   \n",
       "3         São paulo                SP   \n",
       "4         São paulo                SP   \n",
       "5         São paulo                SP   \n",
       "6         São paulo                SP   \n",
       "7         São paulo                SP   \n",
       "8         São paulo                SP   \n",
       "9         São paulo                SP   \n",
       "10        São paulo                SP   \n",
       "11        São paulo                SP   \n",
       "12        São paulo                SP   \n",
       "13        São paulo                SP   \n",
       "14        São paulo                SP   \n",
       "15        São paulo                SP   \n",
       "16        São paulo                SP   \n",
       "17        São paulo                SP   \n",
       "18        São paulo                SP   \n",
       "19        São paulo                SP   \n",
       "\n",
       "                                              address    Zipcode  \n",
       "0   (Casas Bahia, 131, Praça Ramos de Azevedo, Rep...  01037-000  \n",
       "1   (303, Avenida Ipiranga, Vila Buarque, Repúblic...  01046-010  \n",
       "2   (Confidence Cambio, Calçada Compartilhada Av S...  01046-001  \n",
       "3   (Galeria R Monteiro, 77, Rua 24 de Maio, Repúb...  01041-001  \n",
       "4   (816, Avenida São João, República, São Paulo, ...  01036-100  \n",
       "5   (Edifício George Loeb, 113, Rua da Quitanda, G...  01012-010  \n",
       "6   (Edifício Vicentina, Rua Doutor Bráulio Gomes,...  01043-000  \n",
       "7   (Edifício Canadá, Rua 15 de Novembro, Glicério...  01013-001  \n",
       "8   (Mosteiro de São Bento, Largo São Bento, Glicé...  01029-010  \n",
       "9   (30, Praça do Patriarca, Glicério, Sé, São Pau...  01002-010  \n",
       "10  (Edifício das Bandeiras, Rua 15 de Novembro, G...  01013-001  \n",
       "11  (Edifício Palácio da Polícia Civil, 527, Rua B...  01032-001  \n",
       "12  (40, Rua 3 de Dezembro, Glicério, Sé, São Paul...  01014-020  \n",
       "13  (32, Rua José Bonifácio, Glicério, Sé, São Pau...  01003-000  \n",
       "14  (Secretaria de Agricultura e Abastecimento do ...  01037-912  \n",
       "15  (303, Avenida Ipiranga, Vila Buarque, Repúblic...  01046-010  \n",
       "16  (895, Avenida Ipiranga, República, São Paulo, ...  01039-000  \n",
       "17  (323, Rua da Cantareira, Glicério, Sé, São Pau...  01024-100  \n",
       "18  (Edifício Conde Prates, 293, Rua Líbero Badaró...  01009-000  \n",
       "19  (Edifício Comandante Linneu Gomes, 86, Avenida...  01046-000  "
      ]
     },
     "execution_count": 259,
     "metadata": {},
     "output_type": "execute_result"
    }
   ],
   "source": [
    "df_geolocation3"
   ]
  },
  {
   "cell_type": "code",
   "execution_count": 234,
   "metadata": {},
   "outputs": [
    {
     "data": {
      "text/plain": [
       "geolocation_zip_code_prefix      int32\n",
       "geolocation_lat                float64\n",
       "geolocation_lng                float64\n",
       "geolocation_city                object\n",
       "geolocation_state               object\n",
       "address                         object\n",
       "Zipcode                         object\n",
       "dtype: object"
      ]
     },
     "execution_count": 234,
     "metadata": {},
     "output_type": "execute_result"
    }
   ],
   "source": [
    "df_geolocation3.dtypes"
   ]
  },
  {
   "cell_type": "code",
   "execution_count": 255,
   "metadata": {},
   "outputs": [
    {
     "ename": "AttributeError",
     "evalue": "module 'pandas' has no attribute 'replace'",
     "output_type": "error",
     "traceback": [
      "\u001b[0;31m---------------------------------------------------------------------------\u001b[0m",
      "\u001b[0;31mAttributeError\u001b[0m                            Traceback (most recent call last)",
      "\u001b[0;32m<ipython-input-255-40e29339ddd2>\u001b[0m in \u001b[0;36m<module>\u001b[0;34m()\u001b[0m\n\u001b[0;32m----> 1\u001b[0;31m \u001b[0ms\u001b[0m\u001b[0;34m=\u001b[0m\u001b[0mpd\u001b[0m\u001b[0;34m.\u001b[0m\u001b[0mreplace\u001b[0m\u001b[0;34m(\u001b[0m\u001b[0;34m\"-\"\u001b[0m\u001b[0;34m,\u001b[0m\u001b[0;34m\"\"\u001b[0m\u001b[0;34m)\u001b[0m\u001b[0;34m\u001b[0m\u001b[0;34m\u001b[0m\u001b[0m\n\u001b[0m",
      "\u001b[0;31mAttributeError\u001b[0m: module 'pandas' has no attribute 'replace'"
     ]
    }
   ],
   "source": [
    "s=df_geolocation3['Zipcode'].replace(\"-\",\"\")"
   ]
  },
  {
   "cell_type": "code",
   "execution_count": 250,
   "metadata": {},
   "outputs": [
    {
     "data": {
      "text/plain": [
       "0     01037-000\n",
       "1     01046-010\n",
       "2     01046-001\n",
       "3     01041-001\n",
       "4     01036-100\n",
       "5     01012-010\n",
       "6     01043-000\n",
       "7     01013-001\n",
       "8     01029-010\n",
       "9     01002-010\n",
       "10    01013-001\n",
       "11    01032-001\n",
       "12    01014-020\n",
       "13    01003-000\n",
       "14    01037-912\n",
       "15    01046-010\n",
       "16    01039-000\n",
       "17    01024-100\n",
       "18    01009-000\n",
       "19    01046-000\n",
       "Name: Zipcode, dtype: object"
      ]
     },
     "execution_count": 250,
     "metadata": {},
     "output_type": "execute_result"
    }
   ],
   "source": [
    "s"
   ]
  },
  {
   "cell_type": "code",
   "execution_count": 251,
   "metadata": {},
   "outputs": [],
   "source": [
    "s = pd.Series(df_geolocation3['Zipcode'] )\n"
   ]
  },
  {
   "cell_type": "code",
   "execution_count": 256,
   "metadata": {},
   "outputs": [],
   "source": [
    "s=pd.to_numeric(df_geolocation3['Zipcode'],errors='coerce')"
   ]
  },
  {
   "cell_type": "code",
   "execution_count": 258,
   "metadata": {},
   "outputs": [
    {
     "ename": "ValueError",
     "evalue": "invalid literal for int() with base 10: '01037-000'",
     "output_type": "error",
     "traceback": [
      "\u001b[0;31m---------------------------------------------------------------------------\u001b[0m",
      "\u001b[0;31mValueError\u001b[0m                                Traceback (most recent call last)",
      "\u001b[0;32m<ipython-input-258-ef8266e6f4db>\u001b[0m in \u001b[0;36m<module>\u001b[0;34m()\u001b[0m\n\u001b[0;32m----> 1\u001b[0;31m \u001b[0ms\u001b[0m\u001b[0;34m=\u001b[0m\u001b[0mdf_geolocation3\u001b[0m\u001b[0;34m[\u001b[0m\u001b[0;34m'Zipcode'\u001b[0m\u001b[0;34m]\u001b[0m\u001b[0;34m.\u001b[0m\u001b[0mastype\u001b[0m\u001b[0;34m(\u001b[0m\u001b[0mint\u001b[0m\u001b[0;34m)\u001b[0m\u001b[0;34m\u001b[0m\u001b[0;34m\u001b[0m\u001b[0m\n\u001b[0m",
      "\u001b[0;32m/opt/anaconda3/lib/python3.6/site-packages/pandas/core/generic.py\u001b[0m in \u001b[0;36mastype\u001b[0;34m(self, dtype, copy, errors, **kwargs)\u001b[0m\n\u001b[1;32m   5880\u001b[0m             \u001b[0;31m# else, only a single dtype is given\u001b[0m\u001b[0;34m\u001b[0m\u001b[0;34m\u001b[0m\u001b[0;34m\u001b[0m\u001b[0m\n\u001b[1;32m   5881\u001b[0m             new_data = self._data.astype(\n\u001b[0;32m-> 5882\u001b[0;31m                 \u001b[0mdtype\u001b[0m\u001b[0;34m=\u001b[0m\u001b[0mdtype\u001b[0m\u001b[0;34m,\u001b[0m \u001b[0mcopy\u001b[0m\u001b[0;34m=\u001b[0m\u001b[0mcopy\u001b[0m\u001b[0;34m,\u001b[0m \u001b[0merrors\u001b[0m\u001b[0;34m=\u001b[0m\u001b[0merrors\u001b[0m\u001b[0;34m,\u001b[0m \u001b[0;34m**\u001b[0m\u001b[0mkwargs\u001b[0m\u001b[0;34m\u001b[0m\u001b[0;34m\u001b[0m\u001b[0m\n\u001b[0m\u001b[1;32m   5883\u001b[0m             )\n\u001b[1;32m   5884\u001b[0m             \u001b[0;32mreturn\u001b[0m \u001b[0mself\u001b[0m\u001b[0;34m.\u001b[0m\u001b[0m_constructor\u001b[0m\u001b[0;34m(\u001b[0m\u001b[0mnew_data\u001b[0m\u001b[0;34m)\u001b[0m\u001b[0;34m.\u001b[0m\u001b[0m__finalize__\u001b[0m\u001b[0;34m(\u001b[0m\u001b[0mself\u001b[0m\u001b[0;34m)\u001b[0m\u001b[0;34m\u001b[0m\u001b[0;34m\u001b[0m\u001b[0m\n",
      "\u001b[0;32m/opt/anaconda3/lib/python3.6/site-packages/pandas/core/internals/managers.py\u001b[0m in \u001b[0;36mastype\u001b[0;34m(self, dtype, **kwargs)\u001b[0m\n\u001b[1;32m    579\u001b[0m \u001b[0;34m\u001b[0m\u001b[0m\n\u001b[1;32m    580\u001b[0m     \u001b[0;32mdef\u001b[0m \u001b[0mastype\u001b[0m\u001b[0;34m(\u001b[0m\u001b[0mself\u001b[0m\u001b[0;34m,\u001b[0m \u001b[0mdtype\u001b[0m\u001b[0;34m,\u001b[0m \u001b[0;34m**\u001b[0m\u001b[0mkwargs\u001b[0m\u001b[0;34m)\u001b[0m\u001b[0;34m:\u001b[0m\u001b[0;34m\u001b[0m\u001b[0;34m\u001b[0m\u001b[0m\n\u001b[0;32m--> 581\u001b[0;31m         \u001b[0;32mreturn\u001b[0m \u001b[0mself\u001b[0m\u001b[0;34m.\u001b[0m\u001b[0mapply\u001b[0m\u001b[0;34m(\u001b[0m\u001b[0;34m\"astype\"\u001b[0m\u001b[0;34m,\u001b[0m \u001b[0mdtype\u001b[0m\u001b[0;34m=\u001b[0m\u001b[0mdtype\u001b[0m\u001b[0;34m,\u001b[0m \u001b[0;34m**\u001b[0m\u001b[0mkwargs\u001b[0m\u001b[0;34m)\u001b[0m\u001b[0;34m\u001b[0m\u001b[0;34m\u001b[0m\u001b[0m\n\u001b[0m\u001b[1;32m    582\u001b[0m \u001b[0;34m\u001b[0m\u001b[0m\n\u001b[1;32m    583\u001b[0m     \u001b[0;32mdef\u001b[0m \u001b[0mconvert\u001b[0m\u001b[0;34m(\u001b[0m\u001b[0mself\u001b[0m\u001b[0;34m,\u001b[0m \u001b[0;34m**\u001b[0m\u001b[0mkwargs\u001b[0m\u001b[0;34m)\u001b[0m\u001b[0;34m:\u001b[0m\u001b[0;34m\u001b[0m\u001b[0;34m\u001b[0m\u001b[0m\n",
      "\u001b[0;32m/opt/anaconda3/lib/python3.6/site-packages/pandas/core/internals/managers.py\u001b[0m in \u001b[0;36mapply\u001b[0;34m(self, f, axes, filter, do_integrity_check, consolidate, **kwargs)\u001b[0m\n\u001b[1;32m    436\u001b[0m                     \u001b[0mkwargs\u001b[0m\u001b[0;34m[\u001b[0m\u001b[0mk\u001b[0m\u001b[0;34m]\u001b[0m \u001b[0;34m=\u001b[0m \u001b[0mobj\u001b[0m\u001b[0;34m.\u001b[0m\u001b[0mreindex\u001b[0m\u001b[0;34m(\u001b[0m\u001b[0mb_items\u001b[0m\u001b[0;34m,\u001b[0m \u001b[0maxis\u001b[0m\u001b[0;34m=\u001b[0m\u001b[0maxis\u001b[0m\u001b[0;34m,\u001b[0m \u001b[0mcopy\u001b[0m\u001b[0;34m=\u001b[0m\u001b[0malign_copy\u001b[0m\u001b[0;34m)\u001b[0m\u001b[0;34m\u001b[0m\u001b[0;34m\u001b[0m\u001b[0m\n\u001b[1;32m    437\u001b[0m \u001b[0;34m\u001b[0m\u001b[0m\n\u001b[0;32m--> 438\u001b[0;31m             \u001b[0mapplied\u001b[0m \u001b[0;34m=\u001b[0m \u001b[0mgetattr\u001b[0m\u001b[0;34m(\u001b[0m\u001b[0mb\u001b[0m\u001b[0;34m,\u001b[0m \u001b[0mf\u001b[0m\u001b[0;34m)\u001b[0m\u001b[0;34m(\u001b[0m\u001b[0;34m**\u001b[0m\u001b[0mkwargs\u001b[0m\u001b[0;34m)\u001b[0m\u001b[0;34m\u001b[0m\u001b[0;34m\u001b[0m\u001b[0m\n\u001b[0m\u001b[1;32m    439\u001b[0m             \u001b[0mresult_blocks\u001b[0m \u001b[0;34m=\u001b[0m \u001b[0m_extend_blocks\u001b[0m\u001b[0;34m(\u001b[0m\u001b[0mapplied\u001b[0m\u001b[0;34m,\u001b[0m \u001b[0mresult_blocks\u001b[0m\u001b[0;34m)\u001b[0m\u001b[0;34m\u001b[0m\u001b[0;34m\u001b[0m\u001b[0m\n\u001b[1;32m    440\u001b[0m \u001b[0;34m\u001b[0m\u001b[0m\n",
      "\u001b[0;32m/opt/anaconda3/lib/python3.6/site-packages/pandas/core/internals/blocks.py\u001b[0m in \u001b[0;36mastype\u001b[0;34m(self, dtype, copy, errors, values, **kwargs)\u001b[0m\n\u001b[1;32m    557\u001b[0m \u001b[0;34m\u001b[0m\u001b[0m\n\u001b[1;32m    558\u001b[0m     \u001b[0;32mdef\u001b[0m \u001b[0mastype\u001b[0m\u001b[0;34m(\u001b[0m\u001b[0mself\u001b[0m\u001b[0;34m,\u001b[0m \u001b[0mdtype\u001b[0m\u001b[0;34m,\u001b[0m \u001b[0mcopy\u001b[0m\u001b[0;34m=\u001b[0m\u001b[0;32mFalse\u001b[0m\u001b[0;34m,\u001b[0m \u001b[0merrors\u001b[0m\u001b[0;34m=\u001b[0m\u001b[0;34m\"raise\"\u001b[0m\u001b[0;34m,\u001b[0m \u001b[0mvalues\u001b[0m\u001b[0;34m=\u001b[0m\u001b[0;32mNone\u001b[0m\u001b[0;34m,\u001b[0m \u001b[0;34m**\u001b[0m\u001b[0mkwargs\u001b[0m\u001b[0;34m)\u001b[0m\u001b[0;34m:\u001b[0m\u001b[0;34m\u001b[0m\u001b[0;34m\u001b[0m\u001b[0m\n\u001b[0;32m--> 559\u001b[0;31m         \u001b[0;32mreturn\u001b[0m \u001b[0mself\u001b[0m\u001b[0;34m.\u001b[0m\u001b[0m_astype\u001b[0m\u001b[0;34m(\u001b[0m\u001b[0mdtype\u001b[0m\u001b[0;34m,\u001b[0m \u001b[0mcopy\u001b[0m\u001b[0;34m=\u001b[0m\u001b[0mcopy\u001b[0m\u001b[0;34m,\u001b[0m \u001b[0merrors\u001b[0m\u001b[0;34m=\u001b[0m\u001b[0merrors\u001b[0m\u001b[0;34m,\u001b[0m \u001b[0mvalues\u001b[0m\u001b[0;34m=\u001b[0m\u001b[0mvalues\u001b[0m\u001b[0;34m,\u001b[0m \u001b[0;34m**\u001b[0m\u001b[0mkwargs\u001b[0m\u001b[0;34m)\u001b[0m\u001b[0;34m\u001b[0m\u001b[0;34m\u001b[0m\u001b[0m\n\u001b[0m\u001b[1;32m    560\u001b[0m \u001b[0;34m\u001b[0m\u001b[0m\n\u001b[1;32m    561\u001b[0m     \u001b[0;32mdef\u001b[0m \u001b[0m_astype\u001b[0m\u001b[0;34m(\u001b[0m\u001b[0mself\u001b[0m\u001b[0;34m,\u001b[0m \u001b[0mdtype\u001b[0m\u001b[0;34m,\u001b[0m \u001b[0mcopy\u001b[0m\u001b[0;34m=\u001b[0m\u001b[0;32mFalse\u001b[0m\u001b[0;34m,\u001b[0m \u001b[0merrors\u001b[0m\u001b[0;34m=\u001b[0m\u001b[0;34m\"raise\"\u001b[0m\u001b[0;34m,\u001b[0m \u001b[0mvalues\u001b[0m\u001b[0;34m=\u001b[0m\u001b[0;32mNone\u001b[0m\u001b[0;34m,\u001b[0m \u001b[0;34m**\u001b[0m\u001b[0mkwargs\u001b[0m\u001b[0;34m)\u001b[0m\u001b[0;34m:\u001b[0m\u001b[0;34m\u001b[0m\u001b[0;34m\u001b[0m\u001b[0m\n",
      "\u001b[0;32m/opt/anaconda3/lib/python3.6/site-packages/pandas/core/internals/blocks.py\u001b[0m in \u001b[0;36m_astype\u001b[0;34m(self, dtype, copy, errors, values, **kwargs)\u001b[0m\n\u001b[1;32m    641\u001b[0m                     \u001b[0;31m# _astype_nansafe works fine with 1-d only\u001b[0m\u001b[0;34m\u001b[0m\u001b[0;34m\u001b[0m\u001b[0;34m\u001b[0m\u001b[0m\n\u001b[1;32m    642\u001b[0m                     \u001b[0mvals1d\u001b[0m \u001b[0;34m=\u001b[0m \u001b[0mvalues\u001b[0m\u001b[0;34m.\u001b[0m\u001b[0mravel\u001b[0m\u001b[0;34m(\u001b[0m\u001b[0;34m)\u001b[0m\u001b[0;34m\u001b[0m\u001b[0;34m\u001b[0m\u001b[0m\n\u001b[0;32m--> 643\u001b[0;31m                     \u001b[0mvalues\u001b[0m \u001b[0;34m=\u001b[0m \u001b[0mastype_nansafe\u001b[0m\u001b[0;34m(\u001b[0m\u001b[0mvals1d\u001b[0m\u001b[0;34m,\u001b[0m \u001b[0mdtype\u001b[0m\u001b[0;34m,\u001b[0m \u001b[0mcopy\u001b[0m\u001b[0;34m=\u001b[0m\u001b[0;32mTrue\u001b[0m\u001b[0;34m,\u001b[0m \u001b[0;34m**\u001b[0m\u001b[0mkwargs\u001b[0m\u001b[0;34m)\u001b[0m\u001b[0;34m\u001b[0m\u001b[0;34m\u001b[0m\u001b[0m\n\u001b[0m\u001b[1;32m    644\u001b[0m \u001b[0;34m\u001b[0m\u001b[0m\n\u001b[1;32m    645\u001b[0m                 \u001b[0;31m# TODO(extension)\u001b[0m\u001b[0;34m\u001b[0m\u001b[0;34m\u001b[0m\u001b[0;34m\u001b[0m\u001b[0m\n",
      "\u001b[0;32m/opt/anaconda3/lib/python3.6/site-packages/pandas/core/dtypes/cast.py\u001b[0m in \u001b[0;36mastype_nansafe\u001b[0;34m(arr, dtype, copy, skipna)\u001b[0m\n\u001b[1;32m    705\u001b[0m         \u001b[0;31m# work around NumPy brokenness, #1987\u001b[0m\u001b[0;34m\u001b[0m\u001b[0;34m\u001b[0m\u001b[0;34m\u001b[0m\u001b[0m\n\u001b[1;32m    706\u001b[0m         \u001b[0;32mif\u001b[0m \u001b[0mnp\u001b[0m\u001b[0;34m.\u001b[0m\u001b[0missubdtype\u001b[0m\u001b[0;34m(\u001b[0m\u001b[0mdtype\u001b[0m\u001b[0;34m.\u001b[0m\u001b[0mtype\u001b[0m\u001b[0;34m,\u001b[0m \u001b[0mnp\u001b[0m\u001b[0;34m.\u001b[0m\u001b[0minteger\u001b[0m\u001b[0;34m)\u001b[0m\u001b[0;34m:\u001b[0m\u001b[0;34m\u001b[0m\u001b[0;34m\u001b[0m\u001b[0m\n\u001b[0;32m--> 707\u001b[0;31m             \u001b[0;32mreturn\u001b[0m \u001b[0mlib\u001b[0m\u001b[0;34m.\u001b[0m\u001b[0mastype_intsafe\u001b[0m\u001b[0;34m(\u001b[0m\u001b[0marr\u001b[0m\u001b[0;34m.\u001b[0m\u001b[0mravel\u001b[0m\u001b[0;34m(\u001b[0m\u001b[0;34m)\u001b[0m\u001b[0;34m,\u001b[0m \u001b[0mdtype\u001b[0m\u001b[0;34m)\u001b[0m\u001b[0;34m.\u001b[0m\u001b[0mreshape\u001b[0m\u001b[0;34m(\u001b[0m\u001b[0marr\u001b[0m\u001b[0;34m.\u001b[0m\u001b[0mshape\u001b[0m\u001b[0;34m)\u001b[0m\u001b[0;34m\u001b[0m\u001b[0;34m\u001b[0m\u001b[0m\n\u001b[0m\u001b[1;32m    708\u001b[0m \u001b[0;34m\u001b[0m\u001b[0m\n\u001b[1;32m    709\u001b[0m         \u001b[0;31m# if we have a datetime/timedelta array of objects\u001b[0m\u001b[0;34m\u001b[0m\u001b[0;34m\u001b[0m\u001b[0;34m\u001b[0m\u001b[0m\n",
      "\u001b[0;32mpandas/_libs/lib.pyx\u001b[0m in \u001b[0;36mpandas._libs.lib.astype_intsafe\u001b[0;34m()\u001b[0m\n",
      "\u001b[0;31mValueError\u001b[0m: invalid literal for int() with base 10: '01037-000'"
     ]
    }
   ],
   "source": []
  },
  {
   "cell_type": "code",
   "execution_count": 239,
   "metadata": {},
   "outputs": [
    {
     "ename": "ValueError",
     "evalue": "Unable to parse string \"01037-000\" at position 0",
     "output_type": "error",
     "traceback": [
      "\u001b[0;31m---------------------------------------------------------------------------\u001b[0m",
      "\u001b[0;31mValueError\u001b[0m                                Traceback (most recent call last)",
      "\u001b[0;32mpandas/_libs/lib.pyx\u001b[0m in \u001b[0;36mpandas._libs.lib.maybe_convert_numeric\u001b[0;34m()\u001b[0m\n",
      "\u001b[0;31mValueError\u001b[0m: Unable to parse string \"01037-000\"",
      "\nDuring handling of the above exception, another exception occurred:\n",
      "\u001b[0;31mValueError\u001b[0m                                Traceback (most recent call last)",
      "\u001b[0;32m<ipython-input-239-9660af08f6be>\u001b[0m in \u001b[0;36m<module>\u001b[0;34m()\u001b[0m\n\u001b[0;32m----> 1\u001b[0;31m \u001b[0mpd\u001b[0m\u001b[0;34m.\u001b[0m\u001b[0mto_numeric\u001b[0m\u001b[0;34m(\u001b[0m\u001b[0ms\u001b[0m\u001b[0;34m)\u001b[0m\u001b[0;34m\u001b[0m\u001b[0;34m\u001b[0m\u001b[0m\n\u001b[0m",
      "\u001b[0;32m/opt/anaconda3/lib/python3.6/site-packages/pandas/core/tools/numeric.py\u001b[0m in \u001b[0;36mto_numeric\u001b[0;34m(arg, errors, downcast)\u001b[0m\n\u001b[1;32m    149\u001b[0m             \u001b[0mcoerce_numeric\u001b[0m \u001b[0;34m=\u001b[0m \u001b[0merrors\u001b[0m \u001b[0;32mnot\u001b[0m \u001b[0;32min\u001b[0m \u001b[0;34m(\u001b[0m\u001b[0;34m\"ignore\"\u001b[0m\u001b[0;34m,\u001b[0m \u001b[0;34m\"raise\"\u001b[0m\u001b[0;34m)\u001b[0m\u001b[0;34m\u001b[0m\u001b[0;34m\u001b[0m\u001b[0m\n\u001b[1;32m    150\u001b[0m             values = lib.maybe_convert_numeric(\n\u001b[0;32m--> 151\u001b[0;31m                 \u001b[0mvalues\u001b[0m\u001b[0;34m,\u001b[0m \u001b[0mset\u001b[0m\u001b[0;34m(\u001b[0m\u001b[0;34m)\u001b[0m\u001b[0;34m,\u001b[0m \u001b[0mcoerce_numeric\u001b[0m\u001b[0;34m=\u001b[0m\u001b[0mcoerce_numeric\u001b[0m\u001b[0;34m\u001b[0m\u001b[0;34m\u001b[0m\u001b[0m\n\u001b[0m\u001b[1;32m    152\u001b[0m             )\n\u001b[1;32m    153\u001b[0m \u001b[0;34m\u001b[0m\u001b[0m\n",
      "\u001b[0;32mpandas/_libs/lib.pyx\u001b[0m in \u001b[0;36mpandas._libs.lib.maybe_convert_numeric\u001b[0;34m()\u001b[0m\n",
      "\u001b[0;31mValueError\u001b[0m: Unable to parse string \"01037-000\" at position 0"
     ]
    }
   ],
   "source": [
    "pd.to_numeric(s)"
   ]
  },
  {
   "cell_type": "code",
   "execution_count": 227,
   "metadata": {},
   "outputs": [
    {
     "name": "stderr",
     "output_type": "stream",
     "text": [
      " 55%|█████▌    | 11/20 [00:03<00:03,  2.84it/s]\n"
     ]
    },
    {
     "ename": "InvalidCEP",
     "evalue": "occurred at index 0",
     "output_type": "error",
     "traceback": [
      "\u001b[0;31m---------------------------------------------------------------------------\u001b[0m",
      "\u001b[0;31mInvalidCEP\u001b[0m                                Traceback (most recent call last)",
      "\u001b[0;32m<ipython-input-227-f18de0b04336>\u001b[0m in \u001b[0;36m<module>\u001b[0;34m()\u001b[0m\n\u001b[1;32m      2\u001b[0m \u001b[0;34m\u001b[0m\u001b[0m\n\u001b[1;32m      3\u001b[0m df_geolocation3['new_address'] = df_geolocation3.progress_apply(\n\u001b[0;32m----> 4\u001b[0;31m     \u001b[0;32mlambda\u001b[0m \u001b[0mrow\u001b[0m\u001b[0;34m:\u001b[0m \u001b[0mget_address_from_cep\u001b[0m\u001b[0;34m(\u001b[0m\u001b[0mrow\u001b[0m\u001b[0;34m[\u001b[0m\u001b[0;34m'Zipcode'\u001b[0m\u001b[0;34m]\u001b[0m\u001b[0;34m,\u001b[0m \u001b[0mwebservice\u001b[0m\u001b[0;34m=\u001b[0m\u001b[0mWebService\u001b[0m\u001b[0;34m.\u001b[0m\u001b[0mAPICEP\u001b[0m\u001b[0;34m)\u001b[0m\u001b[0;34m,\u001b[0m \u001b[0maxis\u001b[0m\u001b[0;34m=\u001b[0m\u001b[0;36m1\u001b[0m\u001b[0;34m\u001b[0m\u001b[0;34m\u001b[0m\u001b[0m\n\u001b[0m\u001b[1;32m      5\u001b[0m )\n\u001b[1;32m      6\u001b[0m \u001b[0;34m\u001b[0m\u001b[0m\n",
      "\u001b[0;32m/opt/anaconda3/lib/python3.6/site-packages/tqdm/std.py\u001b[0m in \u001b[0;36minner\u001b[0;34m(df, func, *args, **kwargs)\u001b[0m\n\u001b[1;32m    812\u001b[0m                 \u001b[0;31m# on the df using our wrapper (which provides bar updating)\u001b[0m\u001b[0;34m\u001b[0m\u001b[0;34m\u001b[0m\u001b[0;34m\u001b[0m\u001b[0m\n\u001b[1;32m    813\u001b[0m                 \u001b[0;32mtry\u001b[0m\u001b[0;34m:\u001b[0m\u001b[0;34m\u001b[0m\u001b[0;34m\u001b[0m\u001b[0m\n\u001b[0;32m--> 814\u001b[0;31m                     \u001b[0;32mreturn\u001b[0m \u001b[0mgetattr\u001b[0m\u001b[0;34m(\u001b[0m\u001b[0mdf\u001b[0m\u001b[0;34m,\u001b[0m \u001b[0mdf_function\u001b[0m\u001b[0;34m)\u001b[0m\u001b[0;34m(\u001b[0m\u001b[0mwrapper\u001b[0m\u001b[0;34m,\u001b[0m \u001b[0;34m**\u001b[0m\u001b[0mkwargs\u001b[0m\u001b[0;34m)\u001b[0m\u001b[0;34m\u001b[0m\u001b[0;34m\u001b[0m\u001b[0m\n\u001b[0m\u001b[1;32m    815\u001b[0m                 \u001b[0;32mfinally\u001b[0m\u001b[0;34m:\u001b[0m\u001b[0;34m\u001b[0m\u001b[0;34m\u001b[0m\u001b[0m\n\u001b[1;32m    816\u001b[0m                     \u001b[0mt\u001b[0m\u001b[0;34m.\u001b[0m\u001b[0mclose\u001b[0m\u001b[0;34m(\u001b[0m\u001b[0;34m)\u001b[0m\u001b[0;34m\u001b[0m\u001b[0;34m\u001b[0m\u001b[0m\n",
      "\u001b[0;32m/opt/anaconda3/lib/python3.6/site-packages/pandas/core/frame.py\u001b[0m in \u001b[0;36mapply\u001b[0;34m(self, func, axis, broadcast, raw, reduce, result_type, args, **kwds)\u001b[0m\n\u001b[1;32m   6926\u001b[0m             \u001b[0mkwds\u001b[0m\u001b[0;34m=\u001b[0m\u001b[0mkwds\u001b[0m\u001b[0;34m,\u001b[0m\u001b[0;34m\u001b[0m\u001b[0;34m\u001b[0m\u001b[0m\n\u001b[1;32m   6927\u001b[0m         )\n\u001b[0;32m-> 6928\u001b[0;31m         \u001b[0;32mreturn\u001b[0m \u001b[0mop\u001b[0m\u001b[0;34m.\u001b[0m\u001b[0mget_result\u001b[0m\u001b[0;34m(\u001b[0m\u001b[0;34m)\u001b[0m\u001b[0;34m\u001b[0m\u001b[0;34m\u001b[0m\u001b[0m\n\u001b[0m\u001b[1;32m   6929\u001b[0m \u001b[0;34m\u001b[0m\u001b[0m\n\u001b[1;32m   6930\u001b[0m     \u001b[0;32mdef\u001b[0m \u001b[0mapplymap\u001b[0m\u001b[0;34m(\u001b[0m\u001b[0mself\u001b[0m\u001b[0;34m,\u001b[0m \u001b[0mfunc\u001b[0m\u001b[0;34m)\u001b[0m\u001b[0;34m:\u001b[0m\u001b[0;34m\u001b[0m\u001b[0;34m\u001b[0m\u001b[0m\n",
      "\u001b[0;32m/opt/anaconda3/lib/python3.6/site-packages/pandas/core/apply.py\u001b[0m in \u001b[0;36mget_result\u001b[0;34m(self)\u001b[0m\n\u001b[1;32m    184\u001b[0m             \u001b[0;32mreturn\u001b[0m \u001b[0mself\u001b[0m\u001b[0;34m.\u001b[0m\u001b[0mapply_raw\u001b[0m\u001b[0;34m(\u001b[0m\u001b[0;34m)\u001b[0m\u001b[0;34m\u001b[0m\u001b[0;34m\u001b[0m\u001b[0m\n\u001b[1;32m    185\u001b[0m \u001b[0;34m\u001b[0m\u001b[0m\n\u001b[0;32m--> 186\u001b[0;31m         \u001b[0;32mreturn\u001b[0m \u001b[0mself\u001b[0m\u001b[0;34m.\u001b[0m\u001b[0mapply_standard\u001b[0m\u001b[0;34m(\u001b[0m\u001b[0;34m)\u001b[0m\u001b[0;34m\u001b[0m\u001b[0;34m\u001b[0m\u001b[0m\n\u001b[0m\u001b[1;32m    187\u001b[0m \u001b[0;34m\u001b[0m\u001b[0m\n\u001b[1;32m    188\u001b[0m     \u001b[0;32mdef\u001b[0m \u001b[0mapply_empty_result\u001b[0m\u001b[0;34m(\u001b[0m\u001b[0mself\u001b[0m\u001b[0;34m)\u001b[0m\u001b[0;34m:\u001b[0m\u001b[0;34m\u001b[0m\u001b[0;34m\u001b[0m\u001b[0m\n",
      "\u001b[0;32m/opt/anaconda3/lib/python3.6/site-packages/pandas/core/apply.py\u001b[0m in \u001b[0;36mapply_standard\u001b[0;34m(self)\u001b[0m\n\u001b[1;32m    290\u001b[0m \u001b[0;34m\u001b[0m\u001b[0m\n\u001b[1;32m    291\u001b[0m         \u001b[0;31m# compute the result using the series generator\u001b[0m\u001b[0;34m\u001b[0m\u001b[0;34m\u001b[0m\u001b[0;34m\u001b[0m\u001b[0m\n\u001b[0;32m--> 292\u001b[0;31m         \u001b[0mself\u001b[0m\u001b[0;34m.\u001b[0m\u001b[0mapply_series_generator\u001b[0m\u001b[0;34m(\u001b[0m\u001b[0;34m)\u001b[0m\u001b[0;34m\u001b[0m\u001b[0;34m\u001b[0m\u001b[0m\n\u001b[0m\u001b[1;32m    293\u001b[0m \u001b[0;34m\u001b[0m\u001b[0m\n\u001b[1;32m    294\u001b[0m         \u001b[0;31m# wrap results\u001b[0m\u001b[0;34m\u001b[0m\u001b[0;34m\u001b[0m\u001b[0;34m\u001b[0m\u001b[0m\n",
      "\u001b[0;32m/opt/anaconda3/lib/python3.6/site-packages/pandas/core/apply.py\u001b[0m in \u001b[0;36mapply_series_generator\u001b[0;34m(self)\u001b[0m\n\u001b[1;32m    319\u001b[0m             \u001b[0;32mtry\u001b[0m\u001b[0;34m:\u001b[0m\u001b[0;34m\u001b[0m\u001b[0;34m\u001b[0m\u001b[0m\n\u001b[1;32m    320\u001b[0m                 \u001b[0;32mfor\u001b[0m \u001b[0mi\u001b[0m\u001b[0;34m,\u001b[0m \u001b[0mv\u001b[0m \u001b[0;32min\u001b[0m \u001b[0menumerate\u001b[0m\u001b[0;34m(\u001b[0m\u001b[0mseries_gen\u001b[0m\u001b[0;34m)\u001b[0m\u001b[0;34m:\u001b[0m\u001b[0;34m\u001b[0m\u001b[0;34m\u001b[0m\u001b[0m\n\u001b[0;32m--> 321\u001b[0;31m                     \u001b[0mresults\u001b[0m\u001b[0;34m[\u001b[0m\u001b[0mi\u001b[0m\u001b[0;34m]\u001b[0m \u001b[0;34m=\u001b[0m \u001b[0mself\u001b[0m\u001b[0;34m.\u001b[0m\u001b[0mf\u001b[0m\u001b[0;34m(\u001b[0m\u001b[0mv\u001b[0m\u001b[0;34m)\u001b[0m\u001b[0;34m\u001b[0m\u001b[0;34m\u001b[0m\u001b[0m\n\u001b[0m\u001b[1;32m    322\u001b[0m                     \u001b[0mkeys\u001b[0m\u001b[0;34m.\u001b[0m\u001b[0mappend\u001b[0m\u001b[0;34m(\u001b[0m\u001b[0mv\u001b[0m\u001b[0;34m.\u001b[0m\u001b[0mname\u001b[0m\u001b[0;34m)\u001b[0m\u001b[0;34m\u001b[0m\u001b[0;34m\u001b[0m\u001b[0m\n\u001b[1;32m    323\u001b[0m             \u001b[0;32mexcept\u001b[0m \u001b[0mException\u001b[0m \u001b[0;32mas\u001b[0m \u001b[0me\u001b[0m\u001b[0;34m:\u001b[0m\u001b[0;34m\u001b[0m\u001b[0;34m\u001b[0m\u001b[0m\n",
      "\u001b[0;32m/opt/anaconda3/lib/python3.6/site-packages/tqdm/std.py\u001b[0m in \u001b[0;36mwrapper\u001b[0;34m(*args, **kwargs)\u001b[0m\n\u001b[1;32m    807\u001b[0m                     \u001b[0;31m# take a fast or slow code path; so stop when t.total==t.n\u001b[0m\u001b[0;34m\u001b[0m\u001b[0;34m\u001b[0m\u001b[0;34m\u001b[0m\u001b[0m\n\u001b[1;32m    808\u001b[0m                     \u001b[0mt\u001b[0m\u001b[0;34m.\u001b[0m\u001b[0mupdate\u001b[0m\u001b[0;34m(\u001b[0m\u001b[0mn\u001b[0m\u001b[0;34m=\u001b[0m\u001b[0;36m1\u001b[0m \u001b[0;32mif\u001b[0m \u001b[0;32mnot\u001b[0m \u001b[0mt\u001b[0m\u001b[0;34m.\u001b[0m\u001b[0mtotal\u001b[0m \u001b[0;32mor\u001b[0m \u001b[0mt\u001b[0m\u001b[0;34m.\u001b[0m\u001b[0mn\u001b[0m \u001b[0;34m<\u001b[0m \u001b[0mt\u001b[0m\u001b[0;34m.\u001b[0m\u001b[0mtotal\u001b[0m \u001b[0;32melse\u001b[0m \u001b[0;36m0\u001b[0m\u001b[0;34m)\u001b[0m\u001b[0;34m\u001b[0m\u001b[0;34m\u001b[0m\u001b[0m\n\u001b[0;32m--> 809\u001b[0;31m                     \u001b[0;32mreturn\u001b[0m \u001b[0mfunc\u001b[0m\u001b[0;34m(\u001b[0m\u001b[0;34m*\u001b[0m\u001b[0margs\u001b[0m\u001b[0;34m,\u001b[0m \u001b[0;34m**\u001b[0m\u001b[0mkwargs\u001b[0m\u001b[0;34m)\u001b[0m\u001b[0;34m\u001b[0m\u001b[0;34m\u001b[0m\u001b[0m\n\u001b[0m\u001b[1;32m    810\u001b[0m \u001b[0;34m\u001b[0m\u001b[0m\n\u001b[1;32m    811\u001b[0m                 \u001b[0;31m# Apply the provided function (in **kwargs)\u001b[0m\u001b[0;34m\u001b[0m\u001b[0;34m\u001b[0m\u001b[0;34m\u001b[0m\u001b[0m\n",
      "\u001b[0;32m<ipython-input-227-f18de0b04336>\u001b[0m in \u001b[0;36m<lambda>\u001b[0;34m(row)\u001b[0m\n\u001b[1;32m      2\u001b[0m \u001b[0;34m\u001b[0m\u001b[0m\n\u001b[1;32m      3\u001b[0m df_geolocation3['new_address'] = df_geolocation3.progress_apply(\n\u001b[0;32m----> 4\u001b[0;31m     \u001b[0;32mlambda\u001b[0m \u001b[0mrow\u001b[0m\u001b[0;34m:\u001b[0m \u001b[0mget_address_from_cep\u001b[0m\u001b[0;34m(\u001b[0m\u001b[0mrow\u001b[0m\u001b[0;34m[\u001b[0m\u001b[0;34m'Zipcode'\u001b[0m\u001b[0;34m]\u001b[0m\u001b[0;34m,\u001b[0m \u001b[0mwebservice\u001b[0m\u001b[0;34m=\u001b[0m\u001b[0mWebService\u001b[0m\u001b[0;34m.\u001b[0m\u001b[0mAPICEP\u001b[0m\u001b[0;34m)\u001b[0m\u001b[0;34m,\u001b[0m \u001b[0maxis\u001b[0m\u001b[0;34m=\u001b[0m\u001b[0;36m1\u001b[0m\u001b[0;34m\u001b[0m\u001b[0;34m\u001b[0m\u001b[0m\n\u001b[0m\u001b[1;32m      5\u001b[0m )\n\u001b[1;32m      6\u001b[0m \u001b[0;34m\u001b[0m\u001b[0m\n",
      "\u001b[0;32m/opt/anaconda3/lib/python3.6/site-packages/pycep_correios/client.py\u001b[0m in \u001b[0;36mget_address_from_cep\u001b[0;34m(cep, webservice)\u001b[0m\n\u001b[1;32m     38\u001b[0m \u001b[0;34m\u001b[0m\u001b[0m\n\u001b[1;32m     39\u001b[0m     \u001b[0;32mif\u001b[0m \u001b[0mwebservice\u001b[0m \u001b[0;34m==\u001b[0m \u001b[0mWebService\u001b[0m\u001b[0;34m.\u001b[0m\u001b[0mAPICEP\u001b[0m\u001b[0;34m:\u001b[0m\u001b[0;34m\u001b[0m\u001b[0;34m\u001b[0m\u001b[0m\n\u001b[0;32m---> 40\u001b[0;31m         \u001b[0;32mreturn\u001b[0m \u001b[0mapicep\u001b[0m\u001b[0;34m.\u001b[0m\u001b[0mfetch_address\u001b[0m\u001b[0;34m(\u001b[0m\u001b[0mcep\u001b[0m\u001b[0;34m)\u001b[0m\u001b[0;34m\u001b[0m\u001b[0;34m\u001b[0m\u001b[0m\n\u001b[0m\u001b[1;32m     41\u001b[0m \u001b[0;34m\u001b[0m\u001b[0m\n\u001b[1;32m     42\u001b[0m \u001b[0;34m\u001b[0m\u001b[0m\n",
      "\u001b[0;32m/opt/anaconda3/lib/python3.6/site-packages/pycep_correios/apicep.py\u001b[0m in \u001b[0;36mfetch_address\u001b[0;34m(cep)\u001b[0m\n\u001b[1;32m     19\u001b[0m \u001b[0;34m\u001b[0m\u001b[0m\n\u001b[1;32m     20\u001b[0m             \u001b[0;32mif\u001b[0m \u001b[0maddress\u001b[0m\u001b[0;34m[\u001b[0m\u001b[0;34m'status'\u001b[0m\u001b[0;34m]\u001b[0m \u001b[0;34m==\u001b[0m \u001b[0;36m400\u001b[0m\u001b[0;34m:\u001b[0m\u001b[0;34m\u001b[0m\u001b[0;34m\u001b[0m\u001b[0m\n\u001b[0;32m---> 21\u001b[0;31m                 \u001b[0;32mraise\u001b[0m \u001b[0mexceptions\u001b[0m\u001b[0;34m.\u001b[0m\u001b[0mInvalidCEP\u001b[0m\u001b[0;34m(\u001b[0m\u001b[0;34m)\u001b[0m\u001b[0;34m\u001b[0m\u001b[0;34m\u001b[0m\u001b[0m\n\u001b[0m\u001b[1;32m     22\u001b[0m \u001b[0;34m\u001b[0m\u001b[0m\n\u001b[1;32m     23\u001b[0m             \u001b[0;32mif\u001b[0m \u001b[0maddress\u001b[0m\u001b[0;34m[\u001b[0m\u001b[0;34m'status'\u001b[0m\u001b[0;34m]\u001b[0m \u001b[0;34m==\u001b[0m \u001b[0;36m404\u001b[0m\u001b[0;34m:\u001b[0m\u001b[0;34m\u001b[0m\u001b[0;34m\u001b[0m\u001b[0m\n",
      "\u001b[0;31mInvalidCEP\u001b[0m: occurred at index 0"
     ]
    }
   ],
   "source": [
    "from pycep_correios import get_address_from_cep, WebService\n",
    "\n",
    "df_geolocation3['new_address'] = df_geolocation3.progress_apply(\n",
    "    lambda row: get_address_from_cep(row['Zipcode'], webservice=WebService.APICEP), axis=1\n",
    ")\n",
    "\n",
    "#df.apply(lambda row: row['A'] + row['B'], axis=1)\n"
   ]
  },
  {
   "cell_type": "code",
   "execution_count": null,
   "metadata": {},
   "outputs": [],
   "source": []
  }
 ],
 "metadata": {
  "kernelspec": {
   "display_name": "PySpark",
   "language": "python",
   "name": "pyspark"
  },
  "language_info": {
   "codemirror_mode": {
    "name": "ipython",
    "version": 3
   },
   "file_extension": ".py",
   "mimetype": "text/x-python",
   "name": "python",
   "nbconvert_exporter": "python",
   "pygments_lexer": "ipython3",
   "version": "3.6.10"
  }
 },
 "nbformat": 4,
 "nbformat_minor": 2
}
