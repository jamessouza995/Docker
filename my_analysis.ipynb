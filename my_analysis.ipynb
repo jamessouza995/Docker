{
 "cells": [
  {
   "cell_type": "markdown",
   "metadata": {},
   "source": [
    "## Creating Spark Session"
   ]
  },
  {
   "cell_type": "code",
   "execution_count": 1,
   "metadata": {},
   "outputs": [],
   "source": [
    "from pyspark.sql import SparkSession\n",
    "from pyspark.sql import Row\n",
    "spark = SparkSession \\\n",
    "    .builder \\\n",
    "    .appName(\"Python Spark SQL Hive integration example\") \\\n",
    "    .enableHiveSupport() \\\n",
    "    .getOrCreate()\n"
   ]
  },
  {
   "cell_type": "markdown",
   "metadata": {},
   "source": [
    "## Check tables"
   ]
  },
  {
   "cell_type": "code",
   "execution_count": 2,
   "metadata": {},
   "outputs": [
    {
     "name": "stdout",
     "output_type": "stream",
     "text": [
      "+--------+---------+-----------+\n",
      "|database|tableName|isTemporary|\n",
      "+--------+---------+-----------+\n",
      "+--------+---------+-----------+\n",
      "\n"
     ]
    }
   ],
   "source": [
    "\n",
    "spark.sql(\"show tables\").show()"
   ]
  },
  {
   "cell_type": "code",
   "execution_count": 3,
   "metadata": {},
   "outputs": [
    {
     "ename": "AnalysisException",
     "evalue": "\"Table or view not found: `ecommerce`.`hue__tmp_olist_geolocation_dataset`; line 1 pos 22;\\n'Aggregate [unresolvedalias(count(1), None)]\\n+- 'UnresolvedRelation `ecommerce`.`hue__tmp_olist_geolocation_dataset`\\n\"",
     "output_type": "error",
     "traceback": [
      "\u001b[0;31m---------------------------------------------------------------------------\u001b[0m",
      "\u001b[0;31mPy4JJavaError\u001b[0m                             Traceback (most recent call last)",
      "\u001b[0;32m/opt/spark/python/pyspark/sql/utils.py\u001b[0m in \u001b[0;36mdeco\u001b[0;34m(*a, **kw)\u001b[0m\n\u001b[1;32m     62\u001b[0m         \u001b[0;32mtry\u001b[0m\u001b[0;34m:\u001b[0m\u001b[0;34m\u001b[0m\u001b[0;34m\u001b[0m\u001b[0m\n\u001b[0;32m---> 63\u001b[0;31m             \u001b[0;32mreturn\u001b[0m \u001b[0mf\u001b[0m\u001b[0;34m(\u001b[0m\u001b[0;34m*\u001b[0m\u001b[0ma\u001b[0m\u001b[0;34m,\u001b[0m \u001b[0;34m**\u001b[0m\u001b[0mkw\u001b[0m\u001b[0;34m)\u001b[0m\u001b[0;34m\u001b[0m\u001b[0;34m\u001b[0m\u001b[0m\n\u001b[0m\u001b[1;32m     64\u001b[0m         \u001b[0;32mexcept\u001b[0m \u001b[0mpy4j\u001b[0m\u001b[0;34m.\u001b[0m\u001b[0mprotocol\u001b[0m\u001b[0;34m.\u001b[0m\u001b[0mPy4JJavaError\u001b[0m \u001b[0;32mas\u001b[0m \u001b[0me\u001b[0m\u001b[0;34m:\u001b[0m\u001b[0;34m\u001b[0m\u001b[0;34m\u001b[0m\u001b[0m\n",
      "\u001b[0;32m/opt/spark/python/lib/py4j-0.10.7-src.zip/py4j/protocol.py\u001b[0m in \u001b[0;36mget_return_value\u001b[0;34m(answer, gateway_client, target_id, name)\u001b[0m\n\u001b[1;32m    327\u001b[0m                     \u001b[0;34m\"An error occurred while calling {0}{1}{2}.\\n\"\u001b[0m\u001b[0;34m.\u001b[0m\u001b[0;34m\u001b[0m\u001b[0;34m\u001b[0m\u001b[0m\n\u001b[0;32m--> 328\u001b[0;31m                     format(target_id, \".\", name), value)\n\u001b[0m\u001b[1;32m    329\u001b[0m             \u001b[0;32melse\u001b[0m\u001b[0;34m:\u001b[0m\u001b[0;34m\u001b[0m\u001b[0;34m\u001b[0m\u001b[0m\n",
      "\u001b[0;31mPy4JJavaError\u001b[0m: An error occurred while calling o38.sql.\n: org.apache.spark.sql.AnalysisException: Table or view not found: `ecommerce`.`hue__tmp_olist_geolocation_dataset`; line 1 pos 22;\n'Aggregate [unresolvedalias(count(1), None)]\n+- 'UnresolvedRelation `ecommerce`.`hue__tmp_olist_geolocation_dataset`\n\n\tat org.apache.spark.sql.catalyst.analysis.package$AnalysisErrorAt.failAnalysis(package.scala:42)\n\tat org.apache.spark.sql.catalyst.analysis.CheckAnalysis$$anonfun$checkAnalysis$1.apply(CheckAnalysis.scala:90)\n\tat org.apache.spark.sql.catalyst.analysis.CheckAnalysis$$anonfun$checkAnalysis$1.apply(CheckAnalysis.scala:85)\n\tat org.apache.spark.sql.catalyst.trees.TreeNode.foreachUp(TreeNode.scala:127)\n\tat org.apache.spark.sql.catalyst.trees.TreeNode$$anonfun$foreachUp$1.apply(TreeNode.scala:126)\n\tat org.apache.spark.sql.catalyst.trees.TreeNode$$anonfun$foreachUp$1.apply(TreeNode.scala:126)\n\tat scala.collection.immutable.List.foreach(List.scala:392)\n\tat org.apache.spark.sql.catalyst.trees.TreeNode.foreachUp(TreeNode.scala:126)\n\tat org.apache.spark.sql.catalyst.analysis.CheckAnalysis$class.checkAnalysis(CheckAnalysis.scala:85)\n\tat org.apache.spark.sql.catalyst.analysis.Analyzer.checkAnalysis(Analyzer.scala:95)\n\tat org.apache.spark.sql.catalyst.analysis.Analyzer$$anonfun$executeAndCheck$1.apply(Analyzer.scala:108)\n\tat org.apache.spark.sql.catalyst.analysis.Analyzer$$anonfun$executeAndCheck$1.apply(Analyzer.scala:105)\n\tat org.apache.spark.sql.catalyst.plans.logical.AnalysisHelper$.markInAnalyzer(AnalysisHelper.scala:201)\n\tat org.apache.spark.sql.catalyst.analysis.Analyzer.executeAndCheck(Analyzer.scala:105)\n\tat org.apache.spark.sql.execution.QueryExecution.analyzed$lzycompute(QueryExecution.scala:57)\n\tat org.apache.spark.sql.execution.QueryExecution.analyzed(QueryExecution.scala:55)\n\tat org.apache.spark.sql.execution.QueryExecution.assertAnalyzed(QueryExecution.scala:47)\n\tat org.apache.spark.sql.Dataset$.ofRows(Dataset.scala:78)\n\tat org.apache.spark.sql.SparkSession.sql(SparkSession.scala:642)\n\tat sun.reflect.NativeMethodAccessorImpl.invoke0(Native Method)\n\tat sun.reflect.NativeMethodAccessorImpl.invoke(NativeMethodAccessorImpl.java:62)\n\tat sun.reflect.DelegatingMethodAccessorImpl.invoke(DelegatingMethodAccessorImpl.java:43)\n\tat java.lang.reflect.Method.invoke(Method.java:498)\n\tat py4j.reflection.MethodInvoker.invoke(MethodInvoker.java:244)\n\tat py4j.reflection.ReflectionEngine.invoke(ReflectionEngine.java:357)\n\tat py4j.Gateway.invoke(Gateway.java:282)\n\tat py4j.commands.AbstractCommand.invokeMethod(AbstractCommand.java:132)\n\tat py4j.commands.CallCommand.execute(CallCommand.java:79)\n\tat py4j.GatewayConnection.run(GatewayConnection.java:238)\n\tat java.lang.Thread.run(Thread.java:748)\n",
      "\nDuring handling of the above exception, another exception occurred:\n",
      "\u001b[0;31mAnalysisException\u001b[0m                         Traceback (most recent call last)",
      "\u001b[0;32m<ipython-input-3-6e2b704e24d4>\u001b[0m in \u001b[0;36m<module>\u001b[0;34m()\u001b[0m\n\u001b[0;32m----> 1\u001b[0;31m \u001b[0mdf1\u001b[0m\u001b[0;34m=\u001b[0m\u001b[0mspark\u001b[0m\u001b[0;34m.\u001b[0m\u001b[0msql\u001b[0m\u001b[0;34m(\u001b[0m\u001b[0;34m\"SELECT count (*) FROM ecommerce.hue__tmp_olist_geolocation_dataset\"\u001b[0m\u001b[0;34m)\u001b[0m\u001b[0;34m\u001b[0m\u001b[0;34m\u001b[0m\u001b[0m\n\u001b[0m",
      "\u001b[0;32m/opt/spark/python/pyspark/sql/session.py\u001b[0m in \u001b[0;36msql\u001b[0;34m(self, sqlQuery)\u001b[0m\n\u001b[1;32m    765\u001b[0m         \u001b[0;34m[\u001b[0m\u001b[0mRow\u001b[0m\u001b[0;34m(\u001b[0m\u001b[0mf1\u001b[0m\u001b[0;34m=\u001b[0m\u001b[0;36m1\u001b[0m\u001b[0;34m,\u001b[0m \u001b[0mf2\u001b[0m\u001b[0;34m=\u001b[0m\u001b[0;34mu'row1'\u001b[0m\u001b[0;34m)\u001b[0m\u001b[0;34m,\u001b[0m \u001b[0mRow\u001b[0m\u001b[0;34m(\u001b[0m\u001b[0mf1\u001b[0m\u001b[0;34m=\u001b[0m\u001b[0;36m2\u001b[0m\u001b[0;34m,\u001b[0m \u001b[0mf2\u001b[0m\u001b[0;34m=\u001b[0m\u001b[0;34mu'row2'\u001b[0m\u001b[0;34m)\u001b[0m\u001b[0;34m,\u001b[0m \u001b[0mRow\u001b[0m\u001b[0;34m(\u001b[0m\u001b[0mf1\u001b[0m\u001b[0;34m=\u001b[0m\u001b[0;36m3\u001b[0m\u001b[0;34m,\u001b[0m \u001b[0mf2\u001b[0m\u001b[0;34m=\u001b[0m\u001b[0;34mu'row3'\u001b[0m\u001b[0;34m)\u001b[0m\u001b[0;34m]\u001b[0m\u001b[0;34m\u001b[0m\u001b[0;34m\u001b[0m\u001b[0m\n\u001b[1;32m    766\u001b[0m         \"\"\"\n\u001b[0;32m--> 767\u001b[0;31m         \u001b[0;32mreturn\u001b[0m \u001b[0mDataFrame\u001b[0m\u001b[0;34m(\u001b[0m\u001b[0mself\u001b[0m\u001b[0;34m.\u001b[0m\u001b[0m_jsparkSession\u001b[0m\u001b[0;34m.\u001b[0m\u001b[0msql\u001b[0m\u001b[0;34m(\u001b[0m\u001b[0msqlQuery\u001b[0m\u001b[0;34m)\u001b[0m\u001b[0;34m,\u001b[0m \u001b[0mself\u001b[0m\u001b[0;34m.\u001b[0m\u001b[0m_wrapped\u001b[0m\u001b[0;34m)\u001b[0m\u001b[0;34m\u001b[0m\u001b[0;34m\u001b[0m\u001b[0m\n\u001b[0m\u001b[1;32m    768\u001b[0m \u001b[0;34m\u001b[0m\u001b[0m\n\u001b[1;32m    769\u001b[0m     \u001b[0;34m@\u001b[0m\u001b[0msince\u001b[0m\u001b[0;34m(\u001b[0m\u001b[0;36m2.0\u001b[0m\u001b[0;34m)\u001b[0m\u001b[0;34m\u001b[0m\u001b[0;34m\u001b[0m\u001b[0m\n",
      "\u001b[0;32m/opt/spark/python/lib/py4j-0.10.7-src.zip/py4j/java_gateway.py\u001b[0m in \u001b[0;36m__call__\u001b[0;34m(self, *args)\u001b[0m\n\u001b[1;32m   1255\u001b[0m         \u001b[0manswer\u001b[0m \u001b[0;34m=\u001b[0m \u001b[0mself\u001b[0m\u001b[0;34m.\u001b[0m\u001b[0mgateway_client\u001b[0m\u001b[0;34m.\u001b[0m\u001b[0msend_command\u001b[0m\u001b[0;34m(\u001b[0m\u001b[0mcommand\u001b[0m\u001b[0;34m)\u001b[0m\u001b[0;34m\u001b[0m\u001b[0;34m\u001b[0m\u001b[0m\n\u001b[1;32m   1256\u001b[0m         return_value = get_return_value(\n\u001b[0;32m-> 1257\u001b[0;31m             answer, self.gateway_client, self.target_id, self.name)\n\u001b[0m\u001b[1;32m   1258\u001b[0m \u001b[0;34m\u001b[0m\u001b[0m\n\u001b[1;32m   1259\u001b[0m         \u001b[0;32mfor\u001b[0m \u001b[0mtemp_arg\u001b[0m \u001b[0;32min\u001b[0m \u001b[0mtemp_args\u001b[0m\u001b[0;34m:\u001b[0m\u001b[0;34m\u001b[0m\u001b[0;34m\u001b[0m\u001b[0m\n",
      "\u001b[0;32m/opt/spark/python/pyspark/sql/utils.py\u001b[0m in \u001b[0;36mdeco\u001b[0;34m(*a, **kw)\u001b[0m\n\u001b[1;32m     67\u001b[0m                                              e.java_exception.getStackTrace()))\n\u001b[1;32m     68\u001b[0m             \u001b[0;32mif\u001b[0m \u001b[0ms\u001b[0m\u001b[0;34m.\u001b[0m\u001b[0mstartswith\u001b[0m\u001b[0;34m(\u001b[0m\u001b[0;34m'org.apache.spark.sql.AnalysisException: '\u001b[0m\u001b[0;34m)\u001b[0m\u001b[0;34m:\u001b[0m\u001b[0;34m\u001b[0m\u001b[0;34m\u001b[0m\u001b[0m\n\u001b[0;32m---> 69\u001b[0;31m                 \u001b[0;32mraise\u001b[0m \u001b[0mAnalysisException\u001b[0m\u001b[0;34m(\u001b[0m\u001b[0ms\u001b[0m\u001b[0;34m.\u001b[0m\u001b[0msplit\u001b[0m\u001b[0;34m(\u001b[0m\u001b[0;34m': '\u001b[0m\u001b[0;34m,\u001b[0m \u001b[0;36m1\u001b[0m\u001b[0;34m)\u001b[0m\u001b[0;34m[\u001b[0m\u001b[0;36m1\u001b[0m\u001b[0;34m]\u001b[0m\u001b[0;34m,\u001b[0m \u001b[0mstackTrace\u001b[0m\u001b[0;34m)\u001b[0m\u001b[0;34m\u001b[0m\u001b[0;34m\u001b[0m\u001b[0m\n\u001b[0m\u001b[1;32m     70\u001b[0m             \u001b[0;32mif\u001b[0m \u001b[0ms\u001b[0m\u001b[0;34m.\u001b[0m\u001b[0mstartswith\u001b[0m\u001b[0;34m(\u001b[0m\u001b[0;34m'org.apache.spark.sql.catalyst.analysis'\u001b[0m\u001b[0;34m)\u001b[0m\u001b[0;34m:\u001b[0m\u001b[0;34m\u001b[0m\u001b[0;34m\u001b[0m\u001b[0m\n\u001b[1;32m     71\u001b[0m                 \u001b[0;32mraise\u001b[0m \u001b[0mAnalysisException\u001b[0m\u001b[0;34m(\u001b[0m\u001b[0ms\u001b[0m\u001b[0;34m.\u001b[0m\u001b[0msplit\u001b[0m\u001b[0;34m(\u001b[0m\u001b[0;34m': '\u001b[0m\u001b[0;34m,\u001b[0m \u001b[0;36m1\u001b[0m\u001b[0;34m)\u001b[0m\u001b[0;34m[\u001b[0m\u001b[0;36m1\u001b[0m\u001b[0;34m]\u001b[0m\u001b[0;34m,\u001b[0m \u001b[0mstackTrace\u001b[0m\u001b[0;34m)\u001b[0m\u001b[0;34m\u001b[0m\u001b[0;34m\u001b[0m\u001b[0m\n",
      "\u001b[0;31mAnalysisException\u001b[0m: \"Table or view not found: `ecommerce`.`hue__tmp_olist_geolocation_dataset`; line 1 pos 22;\\n'Aggregate [unresolvedalias(count(1), None)]\\n+- 'UnresolvedRelation `ecommerce`.`hue__tmp_olist_geolocation_dataset`\\n\""
     ]
    }
   ],
   "source": [
    "df1=spark.sql(\"SELECT count (*) FROM ecommerce.hue__tmp_olist_geolocation_dataset\")\n",
    "\n"
   ]
  },
  {
   "cell_type": "code",
   "execution_count": null,
   "metadata": {},
   "outputs": [],
   "source": [
    "df1.show()\n"
   ]
  },
  {
   "cell_type": "code",
   "execution_count": null,
   "metadata": {},
   "outputs": [],
   "source": [
    "df1.printSchema()"
   ]
  },
  {
   "cell_type": "markdown",
   "metadata": {},
   "source": [
    "## Reading CSV"
   ]
  },
  {
   "cell_type": "markdown",
   "metadata": {},
   "source": [
    "### customers"
   ]
  },
  {
   "cell_type": "code",
   "execution_count": null,
   "metadata": {},
   "outputs": [],
   "source": [
    "df_customers=spark.read.format(\"csv\").option(\"header\", True).option(\"inferSchema\", True).option(\"delimiter\", \",\").load(\"/user/hive/warehouse/loading_zone/olist_customers/olist_customers_dataset.csv\")"
   ]
  },
  {
   "cell_type": "code",
   "execution_count": null,
   "metadata": {},
   "outputs": [],
   "source": [
    "df_customers.show()"
   ]
  },
  {
   "cell_type": "markdown",
   "metadata": {},
   "source": [
    "### geolocation"
   ]
  },
  {
   "cell_type": "code",
   "execution_count": 4,
   "metadata": {},
   "outputs": [],
   "source": [
    "df_geolocation=spark.read.format(\"csv\").option(\"header\", True).option(\"inferSchema\", True).option(\"delimiter\", \",\").load(\"/user/hive/warehouse/loading_zone/olist_geolocation/olist_geolocation_dataset.csv\")"
   ]
  },
  {
   "cell_type": "code",
   "execution_count": 5,
   "metadata": {},
   "outputs": [
    {
     "name": "stdout",
     "output_type": "stream",
     "text": [
      "+---------------------------+-------------------+-------------------+----------------+-----------------+\n",
      "|geolocation_zip_code_prefix|    geolocation_lat|    geolocation_lng|geolocation_city|geolocation_state|\n",
      "+---------------------------+-------------------+-------------------+----------------+-----------------+\n",
      "|                       1037| -23.54562128115268| -46.63929204800168|       sao paulo|               SP|\n",
      "|                       1046|-23.546081127035535| -46.64482029837157|       sao paulo|               SP|\n",
      "|                       1046| -23.54612896641469| -46.64295148361138|       sao paulo|               SP|\n",
      "|                       1041|  -23.5443921648681| -46.63949930627844|       sao paulo|               SP|\n",
      "|                       1035|-23.541577961711493| -46.64160722329613|       sao paulo|               SP|\n",
      "|                       1012|-23.547762303364266| -46.63536053788448|       são paulo|               SP|\n",
      "|                       1047|-23.546273112412678| -46.64122516971552|       sao paulo|               SP|\n",
      "|                       1013|-23.546923208436723|  -46.6342636964915|       sao paulo|               SP|\n",
      "|                       1029|-23.543769055769133| -46.63427784085132|       sao paulo|               SP|\n",
      "|                       1011|-23.547639550320632| -46.63603162315495|       sao paulo|               SP|\n",
      "|                       1013|-23.547325128224376| -46.63418378613892|       sao paulo|               SP|\n",
      "|                       1032| -23.53841810407414|-46.634778375266734|       sao paulo|               SP|\n",
      "|                       1014|-23.546435343326205| -46.63383023397196|       sao paulo|               SP|\n",
      "|                       1012|-23.548945985189434| -46.63467113292871|       sao paulo|               SP|\n",
      "|                       1037|-23.545187340816042| -46.63785524104107|       são paulo|               SP|\n",
      "|                       1046|-23.546081127035535| -46.64482029837157|       sao paulo|               SP|\n",
      "|                       1039|-23.541883009983316| -46.63991946670314|       sao paulo|               SP|\n",
      "|                       1024|-23.541389521053937|-46.629899087812184|       são paulo|               SP|\n",
      "|                       1009| -23.54693540437998| -46.63658792659698|       sao paulo|               SP|\n",
      "|                       1046|-23.545884279214015|-46.643163191240035|       sao paulo|               SP|\n",
      "+---------------------------+-------------------+-------------------+----------------+-----------------+\n",
      "only showing top 20 rows\n",
      "\n"
     ]
    }
   ],
   "source": [
    "df_geolocation.show()"
   ]
  },
  {
   "cell_type": "code",
   "execution_count": null,
   "metadata": {},
   "outputs": [],
   "source": [
    "df_geolocation.count()"
   ]
  },
  {
   "cell_type": "code",
   "execution_count": null,
   "metadata": {},
   "outputs": [],
   "source": [
    "df_geolocation.head(3)"
   ]
  },
  {
   "cell_type": "code",
   "execution_count": 24,
   "metadata": {},
   "outputs": [],
   "source": [
    "from pyspark.sql.functions import when\n",
    "\n",
    "df_geolocation2 = df_geolocation.withColumn(\"geolocation_city\", when(df_geolocation.geolocation_city == \"sao paulo\", \"São Paulo\")\\\n",
    ".when(df_geolocation.geolocation_city == \"são paulo\", \"São Paulo\")\\\n",
    ".otherwise(df_geolocation.geolocation_city))\n",
    "\n"
   ]
  },
  {
   "cell_type": "code",
   "execution_count": 25,
   "metadata": {},
   "outputs": [
    {
     "data": {
      "text/plain": [
       "8010"
      ]
     },
     "execution_count": 25,
     "metadata": {},
     "output_type": "execute_result"
    }
   ],
   "source": [
    "df_geolocation2.select(\"geolocation_city\").distinct().count()"
   ]
  },
  {
   "cell_type": "code",
   "execution_count": 26,
   "metadata": {},
   "outputs": [
    {
     "name": "stdout",
     "output_type": "stream",
     "text": [
      "+--------------------+\n",
      "|    geolocation_city|\n",
      "+--------------------+\n",
      "|   redencao da serra|\n",
      "|  aguas de sao pedro|\n",
      "|            itirapuã|\n",
      "|           indiaporã|\n",
      "|         paulistânia|\n",
      "|        capão bonito|\n",
      "|              taguaí|\n",
      "|                iepe|\n",
      "|         teresópolis|\n",
      "|              bacaxa|\n",
      "|divino de sao lou...|\n",
      "|divino das laranj...|\n",
      "|            vermelho|\n",
      "|            caçarema|\n",
      "|          cacaratiba|\n",
      "|                pote|\n",
      "|            camacari|\n",
      "|           itaberaba|\n",
      "|              gloria|\n",
      "|           arapiraca|\n",
      "+--------------------+\n",
      "only showing top 20 rows\n",
      "\n"
     ]
    }
   ],
   "source": [
    "df_geolocation2.select(\"geolocation_city\").distinct().show()"
   ]
  },
  {
   "cell_type": "code",
   "execution_count": 27,
   "metadata": {},
   "outputs": [
    {
     "name": "stdout",
     "output_type": "stream",
     "text": [
      "+---------------------------+-------------------+-------------------+----------------+-----------------+\n",
      "|geolocation_zip_code_prefix|    geolocation_lat|    geolocation_lng|geolocation_city|geolocation_state|\n",
      "+---------------------------+-------------------+-------------------+----------------+-----------------+\n",
      "|                       1037| -23.54562128115268| -46.63929204800168|       São Paulo|               SP|\n",
      "|                       1046|-23.546081127035535| -46.64482029837157|       São Paulo|               SP|\n",
      "|                       1046| -23.54612896641469| -46.64295148361138|       São Paulo|               SP|\n",
      "|                       1041|  -23.5443921648681| -46.63949930627844|       São Paulo|               SP|\n",
      "|                       1035|-23.541577961711493| -46.64160722329613|       São Paulo|               SP|\n",
      "|                       1012|-23.547762303364266| -46.63536053788448|       São Paulo|               SP|\n",
      "|                       1047|-23.546273112412678| -46.64122516971552|       São Paulo|               SP|\n",
      "|                       1013|-23.546923208436723|  -46.6342636964915|       São Paulo|               SP|\n",
      "|                       1029|-23.543769055769133| -46.63427784085132|       São Paulo|               SP|\n",
      "|                       1011|-23.547639550320632| -46.63603162315495|       São Paulo|               SP|\n",
      "|                       1013|-23.547325128224376| -46.63418378613892|       São Paulo|               SP|\n",
      "|                       1032| -23.53841810407414|-46.634778375266734|       São Paulo|               SP|\n",
      "|                       1014|-23.546435343326205| -46.63383023397196|       São Paulo|               SP|\n",
      "|                       1012|-23.548945985189434| -46.63467113292871|       São Paulo|               SP|\n",
      "|                       1037|-23.545187340816042| -46.63785524104107|       São Paulo|               SP|\n",
      "|                       1046|-23.546081127035535| -46.64482029837157|       São Paulo|               SP|\n",
      "|                       1039|-23.541883009983316| -46.63991946670314|       São Paulo|               SP|\n",
      "|                       1024|-23.541389521053937|-46.629899087812184|       São Paulo|               SP|\n",
      "|                       1009| -23.54693540437998| -46.63658792659698|       São Paulo|               SP|\n",
      "|                       1046|-23.545884279214015|-46.643163191240035|       São Paulo|               SP|\n",
      "+---------------------------+-------------------+-------------------+----------------+-----------------+\n",
      "only showing top 20 rows\n",
      "\n"
     ]
    }
   ],
   "source": [
    "df_geolocation2.show()"
   ]
  },
  {
   "cell_type": "code",
   "execution_count": 28,
   "metadata": {},
   "outputs": [
    {
     "data": {
      "text/plain": [
       "[Row(geolocation_zip_code_prefix=1037, geolocation_lat=-23.54562128115268, geolocation_lng=-46.63929204800168, geolocation_city='São Paulo', geolocation_state='SP', initcap(geolocation_city)='São Paulo'),\n",
       " Row(geolocation_zip_code_prefix=1046, geolocation_lat=-23.546081127035535, geolocation_lng=-46.64482029837157, geolocation_city='São Paulo', geolocation_state='SP', initcap(geolocation_city)='São Paulo'),\n",
       " Row(geolocation_zip_code_prefix=1046, geolocation_lat=-23.54612896641469, geolocation_lng=-46.64295148361138, geolocation_city='São Paulo', geolocation_state='SP', initcap(geolocation_city)='São Paulo'),\n",
       " Row(geolocation_zip_code_prefix=1041, geolocation_lat=-23.5443921648681, geolocation_lng=-46.63949930627844, geolocation_city='São Paulo', geolocation_state='SP', initcap(geolocation_city)='São Paulo'),\n",
       " Row(geolocation_zip_code_prefix=1035, geolocation_lat=-23.541577961711493, geolocation_lng=-46.64160722329613, geolocation_city='São Paulo', geolocation_state='SP', initcap(geolocation_city)='São Paulo'),\n",
       " Row(geolocation_zip_code_prefix=1012, geolocation_lat=-23.547762303364266, geolocation_lng=-46.63536053788448, geolocation_city='São Paulo', geolocation_state='SP', initcap(geolocation_city)='São Paulo'),\n",
       " Row(geolocation_zip_code_prefix=1047, geolocation_lat=-23.546273112412678, geolocation_lng=-46.64122516971552, geolocation_city='São Paulo', geolocation_state='SP', initcap(geolocation_city)='São Paulo'),\n",
       " Row(geolocation_zip_code_prefix=1013, geolocation_lat=-23.546923208436723, geolocation_lng=-46.6342636964915, geolocation_city='São Paulo', geolocation_state='SP', initcap(geolocation_city)='São Paulo'),\n",
       " Row(geolocation_zip_code_prefix=1029, geolocation_lat=-23.543769055769133, geolocation_lng=-46.63427784085132, geolocation_city='São Paulo', geolocation_state='SP', initcap(geolocation_city)='São Paulo'),\n",
       " Row(geolocation_zip_code_prefix=1011, geolocation_lat=-23.547639550320632, geolocation_lng=-46.63603162315495, geolocation_city='São Paulo', geolocation_state='SP', initcap(geolocation_city)='São Paulo'),\n",
       " Row(geolocation_zip_code_prefix=1013, geolocation_lat=-23.547325128224376, geolocation_lng=-46.63418378613892, geolocation_city='São Paulo', geolocation_state='SP', initcap(geolocation_city)='São Paulo'),\n",
       " Row(geolocation_zip_code_prefix=1032, geolocation_lat=-23.53841810407414, geolocation_lng=-46.634778375266734, geolocation_city='São Paulo', geolocation_state='SP', initcap(geolocation_city)='São Paulo'),\n",
       " Row(geolocation_zip_code_prefix=1014, geolocation_lat=-23.546435343326205, geolocation_lng=-46.63383023397196, geolocation_city='São Paulo', geolocation_state='SP', initcap(geolocation_city)='São Paulo'),\n",
       " Row(geolocation_zip_code_prefix=1012, geolocation_lat=-23.548945985189434, geolocation_lng=-46.63467113292871, geolocation_city='São Paulo', geolocation_state='SP', initcap(geolocation_city)='São Paulo'),\n",
       " Row(geolocation_zip_code_prefix=1037, geolocation_lat=-23.545187340816042, geolocation_lng=-46.63785524104107, geolocation_city='São Paulo', geolocation_state='SP', initcap(geolocation_city)='São Paulo'),\n",
       " Row(geolocation_zip_code_prefix=1046, geolocation_lat=-23.546081127035535, geolocation_lng=-46.64482029837157, geolocation_city='São Paulo', geolocation_state='SP', initcap(geolocation_city)='São Paulo'),\n",
       " Row(geolocation_zip_code_prefix=1039, geolocation_lat=-23.541883009983316, geolocation_lng=-46.63991946670314, geolocation_city='São Paulo', geolocation_state='SP', initcap(geolocation_city)='São Paulo'),\n",
       " Row(geolocation_zip_code_prefix=1024, geolocation_lat=-23.541389521053937, geolocation_lng=-46.629899087812184, geolocation_city='São Paulo', geolocation_state='SP', initcap(geolocation_city)='São Paulo'),\n",
       " Row(geolocation_zip_code_prefix=1009, geolocation_lat=-23.54693540437998, geolocation_lng=-46.63658792659698, geolocation_city='São Paulo', geolocation_state='SP', initcap(geolocation_city)='São Paulo'),\n",
       " Row(geolocation_zip_code_prefix=1046, geolocation_lat=-23.545884279214015, geolocation_lng=-46.643163191240035, geolocation_city='São Paulo', geolocation_state='SP', initcap(geolocation_city)='São Paulo'),\n",
       " Row(geolocation_zip_code_prefix=1046, geolocation_lat=-23.545165891770928, geolocation_lng=-46.643785796266464, geolocation_city='São Paulo', geolocation_state='SP', initcap(geolocation_city)='São Paulo'),\n",
       " Row(geolocation_zip_code_prefix=1020, geolocation_lat=-23.55223547100232, geolocation_lng=-46.6284406588955, geolocation_city='São Paulo', geolocation_state='SP', initcap(geolocation_city)='São Paulo'),\n",
       " Row(geolocation_zip_code_prefix=1011, geolocation_lat=-23.546690486964888, geolocation_lng=-46.635446958807194, geolocation_city='São Paulo', geolocation_state='SP', initcap(geolocation_city)='São Paulo'),\n",
       " Row(geolocation_zip_code_prefix=1043, geolocation_lat=-23.546656718016017, geolocation_lng=-46.64078762115524, geolocation_city='São Paulo', geolocation_state='SP', initcap(geolocation_city)='São Paulo'),\n",
       " Row(geolocation_zip_code_prefix=1050, geolocation_lat=-23.549773516504185, geolocation_lng=-46.64559900666509, geolocation_city='São Paulo', geolocation_state='SP', initcap(geolocation_city)='São Paulo'),\n",
       " Row(geolocation_zip_code_prefix=1045, geolocation_lat=-23.541593762969626, geolocation_lng=-46.64189378810082, geolocation_city='São Paulo', geolocation_state='SP', initcap(geolocation_city)='São Paulo'),\n",
       " Row(geolocation_zip_code_prefix=1009, geolocation_lat=-23.545429533441073, geolocation_lng=-46.63571531432852, geolocation_city='São Paulo', geolocation_state='SP', initcap(geolocation_city)='São Paulo'),\n",
       " Row(geolocation_zip_code_prefix=1007, geolocation_lat=-23.550392524842728, geolocation_lng=-46.637301640717844, geolocation_city='São Paulo', geolocation_state='SP', initcap(geolocation_city)='São Paulo'),\n",
       " Row(geolocation_zip_code_prefix=1032, geolocation_lat=-23.5398418758395, geolocation_lng=-46.63514797691531, geolocation_city='São Paulo', geolocation_state='SP', initcap(geolocation_city)='São Paulo'),\n",
       " Row(geolocation_zip_code_prefix=1041, geolocation_lat=-23.543539449073783, geolocation_lng=-46.64057731057763, geolocation_city='São Paulo', geolocation_state='SP', initcap(geolocation_city)='São Paulo'),\n",
       " Row(geolocation_zip_code_prefix=1005, geolocation_lat=-23.549819091869107, geolocation_lng=-46.63560588995324, geolocation_city='São Paulo', geolocation_state='SP', initcap(geolocation_city)='São Paulo'),\n",
       " Row(geolocation_zip_code_prefix=1037, geolocation_lat=-23.546704599774962, geolocation_lng=-46.64033633250615, geolocation_city='São Paulo', geolocation_state='SP', initcap(geolocation_city)='São Paulo'),\n",
       " Row(geolocation_zip_code_prefix=1017, geolocation_lat=-23.55001091199737, geolocation_lng=-46.63116636914989, geolocation_city='São Paulo', geolocation_state='SP', initcap(geolocation_city)='São Paulo'),\n",
       " Row(geolocation_zip_code_prefix=1046, geolocation_lat=-23.54532011933758, geolocation_lng=-46.64406863434122, geolocation_city='São Paulo', geolocation_state='SP', initcap(geolocation_city)='São Paulo'),\n",
       " Row(geolocation_zip_code_prefix=1019, geolocation_lat=-23.552151883432384, geolocation_lng=-46.63080224715792, geolocation_city='São Paulo', geolocation_state='SP', initcap(geolocation_city)='São Paulo'),\n",
       " Row(geolocation_zip_code_prefix=1032, geolocation_lat=-23.540774688874112, geolocation_lng=-46.63551484303775, geolocation_city='São Paulo', geolocation_state='SP', initcap(geolocation_city)='São Paulo'),\n",
       " Row(geolocation_zip_code_prefix=1017, geolocation_lat=-23.5492954052167, geolocation_lng=-46.63207469510652, geolocation_city='São Paulo', geolocation_state='SP', initcap(geolocation_city)='São Paulo'),\n",
       " Row(geolocation_zip_code_prefix=1050, geolocation_lat=-23.549009406053422, geolocation_lng=-46.642812281839745, geolocation_city='São Paulo', geolocation_state='SP', initcap(geolocation_city)='São Paulo'),\n",
       " Row(geolocation_zip_code_prefix=1050, geolocation_lat=-23.548755593946588, geolocation_lng=-46.642789203733535, geolocation_city='São Paulo', geolocation_state='SP', initcap(geolocation_city)='São Paulo'),\n",
       " Row(geolocation_zip_code_prefix=1027, geolocation_lat=-23.538301166801343, geolocation_lng=-46.63076391104508, geolocation_city='São Paulo', geolocation_state='SP', initcap(geolocation_city)='São Paulo'),\n",
       " Row(geolocation_zip_code_prefix=1050, geolocation_lat=-23.54985418067981, geolocation_lng=-46.643139396906825, geolocation_city='São Paulo', geolocation_state='SP', initcap(geolocation_city)='São Paulo'),\n",
       " Row(geolocation_zip_code_prefix=1013, geolocation_lat=-23.547119249235397, geolocation_lng=-46.634232699405686, geolocation_city='São Paulo', geolocation_state='SP', initcap(geolocation_city)='São Paulo'),\n",
       " Row(geolocation_zip_code_prefix=1033, geolocation_lat=-23.54032130474925, geolocation_lng=-46.636394815973325, geolocation_city='São Paulo', geolocation_state='SP', initcap(geolocation_city)='São Paulo'),\n",
       " Row(geolocation_zip_code_prefix=1009, geolocation_lat=-23.54569153926945, geolocation_lng=-46.635866061486446, geolocation_city='São Paulo', geolocation_state='SP', initcap(geolocation_city)='São Paulo'),\n",
       " Row(geolocation_zip_code_prefix=1046, geolocation_lat=-23.546081127035535, geolocation_lng=-46.64482029837157, geolocation_city='São Paulo', geolocation_state='SP', initcap(geolocation_city)='São Paulo'),\n",
       " Row(geolocation_zip_code_prefix=1050, geolocation_lat=-23.54874766250217, geolocation_lng=-46.64239136704376, geolocation_city='São Paulo', geolocation_state='SP', initcap(geolocation_city)='São Paulo'),\n",
       " Row(geolocation_zip_code_prefix=1032, geolocation_lat=-23.541191476542252, geolocation_lng=-46.63499346058632, geolocation_city='São Paulo', geolocation_state='SP', initcap(geolocation_city)='São Paulo'),\n",
       " Row(geolocation_zip_code_prefix=1020, geolocation_lat=-23.552549496537548, geolocation_lng=-46.63163152553523, geolocation_city='São Paulo', geolocation_state='SP', initcap(geolocation_city)='São Paulo'),\n",
       " Row(geolocation_zip_code_prefix=1006, geolocation_lat=-23.55052430835593, geolocation_lng=-46.63669363835193, geolocation_city='São Paulo', geolocation_state='SP', initcap(geolocation_city)='São Paulo'),\n",
       " Row(geolocation_zip_code_prefix=1034, geolocation_lat=-23.542391627195926, geolocation_lng=-46.63770927785183, geolocation_city='São Paulo', geolocation_state='SP', initcap(geolocation_city)='São Paulo')]"
      ]
     },
     "execution_count": 28,
     "metadata": {},
     "output_type": "execute_result"
    }
   ],
   "source": [
    "from pyspark.sql.functions import initcap, col\n",
    "df_geolocation2.select(\"*\", initcap(col('geolocation_city'))).head(50)"
   ]
  },
  {
   "cell_type": "code",
   "execution_count": 29,
   "metadata": {},
   "outputs": [
    {
     "name": "stdout",
     "output_type": "stream",
     "text": [
      "+---------------------------+-------------------+-------------------+----------------+-----------------+\n",
      "|geolocation_zip_code_prefix|    geolocation_lat|    geolocation_lng|geolocation_city|geolocation_state|\n",
      "+---------------------------+-------------------+-------------------+----------------+-----------------+\n",
      "|                       1037| -23.54562128115268| -46.63929204800168|       São Paulo|               SP|\n",
      "|                       1046|-23.546081127035535| -46.64482029837157|       São Paulo|               SP|\n",
      "|                       1046| -23.54612896641469| -46.64295148361138|       São Paulo|               SP|\n",
      "|                       1041|  -23.5443921648681| -46.63949930627844|       São Paulo|               SP|\n",
      "|                       1035|-23.541577961711493| -46.64160722329613|       São Paulo|               SP|\n",
      "|                       1012|-23.547762303364266| -46.63536053788448|       São Paulo|               SP|\n",
      "|                       1047|-23.546273112412678| -46.64122516971552|       São Paulo|               SP|\n",
      "|                       1013|-23.546923208436723|  -46.6342636964915|       São Paulo|               SP|\n",
      "|                       1029|-23.543769055769133| -46.63427784085132|       São Paulo|               SP|\n",
      "|                       1011|-23.547639550320632| -46.63603162315495|       São Paulo|               SP|\n",
      "|                       1013|-23.547325128224376| -46.63418378613892|       São Paulo|               SP|\n",
      "|                       1032| -23.53841810407414|-46.634778375266734|       São Paulo|               SP|\n",
      "|                       1014|-23.546435343326205| -46.63383023397196|       São Paulo|               SP|\n",
      "|                       1012|-23.548945985189434| -46.63467113292871|       São Paulo|               SP|\n",
      "|                       1037|-23.545187340816042| -46.63785524104107|       São Paulo|               SP|\n",
      "|                       1046|-23.546081127035535| -46.64482029837157|       São Paulo|               SP|\n",
      "|                       1039|-23.541883009983316| -46.63991946670314|       São Paulo|               SP|\n",
      "|                       1024|-23.541389521053937|-46.629899087812184|       São Paulo|               SP|\n",
      "|                       1009| -23.54693540437998| -46.63658792659698|       São Paulo|               SP|\n",
      "|                       1046|-23.545884279214015|-46.643163191240035|       São Paulo|               SP|\n",
      "+---------------------------+-------------------+-------------------+----------------+-----------------+\n",
      "only showing top 20 rows\n",
      "\n"
     ]
    }
   ],
   "source": [
    "df_geolocation2.show()"
   ]
  },
  {
   "cell_type": "code",
   "execution_count": null,
   "metadata": {},
   "outputs": [],
   "source": [
    "from geopy.geocoders import Nominatim\n",
    "from geopy.extra.rate_limiter import RateLimiter\n",
    "\n",
    "geolocator = Nominatim(user_agent=\"fiap_mba\")\n",
    "geocode = RateLimiter(geolocator.geocode, min_delay_seconds = 1,   return_value_on_exception = None) \n",
    "# adding 1 second padding between calls"
   ]
  },
  {
   "cell_type": "code",
   "execution_count": null,
   "metadata": {},
   "outputs": [],
   "source": [
    "location = geocode.reverse((lat, long))"
   ]
  },
  {
   "cell_type": "code",
   "execution_count": null,
   "metadata": {},
   "outputs": [],
   "source": []
  },
  {
   "cell_type": "code",
   "execution_count": null,
   "metadata": {},
   "outputs": [],
   "source": []
  },
  {
   "cell_type": "markdown",
   "metadata": {},
   "source": [
    "## Transforming to parquet"
   ]
  },
  {
   "cell_type": "code",
   "execution_count": null,
   "metadata": {},
   "outputs": [],
   "source": [
    "customers_parquet= df_customers.write.mode(\"overwrite\").format(\"parquet\").save(\"/user/hive/warehouse/raw_zone/\")"
   ]
  },
  {
   "cell_type": "code",
   "execution_count": null,
   "metadata": {},
   "outputs": [],
   "source": [
    "customers_parquet"
   ]
  },
  {
   "cell_type": "markdown",
   "metadata": {},
   "source": [
    "## Using geopy"
   ]
  },
  {
   "cell_type": "code",
   "execution_count": 7,
   "metadata": {},
   "outputs": [],
   "source": [
    "from geopy.geocoders import Nominatim"
   ]
  },
  {
   "cell_type": "code",
   "execution_count": 8,
   "metadata": {},
   "outputs": [],
   "source": [
    "geolocator = Nominatim(user_agent=\"fiap_mba\")"
   ]
  },
  {
   "cell_type": "code",
   "execution_count": 9,
   "metadata": {},
   "outputs": [],
   "source": [
    "location = geolocator.reverse(\"-23.545884279214015, -46.643163191240035\")"
   ]
  },
  {
   "cell_type": "code",
   "execution_count": 10,
   "metadata": {},
   "outputs": [
    {
     "name": "stdout",
     "output_type": "stream",
     "text": [
      "Edifício Comandante Linneu Gomes, 86, Avenida São Luís, República, São Paulo, Região Imediata de São Paulo, Região Metropolitana de São Paulo, Região Geográfica Intermediária de São Paulo, São Paulo, Região Sudeste, 01046-000, Brasil\n"
     ]
    }
   ],
   "source": [
    "print(location)"
   ]
  },
  {
   "cell_type": "markdown",
   "metadata": {},
   "source": [
    "## Using pycep_correios"
   ]
  },
  {
   "cell_type": "code",
   "execution_count": 11,
   "metadata": {},
   "outputs": [],
   "source": [
    "from pycep_correios import get_address_from_cep, WebService\n",
    "\n",
    "address = get_address_from_cep('01037000', webservice=WebService.APICEP)"
   ]
  },
  {
   "cell_type": "code",
   "execution_count": 12,
   "metadata": {},
   "outputs": [
    {
     "data": {
      "text/plain": [
       "{'bairro': 'República',\n",
       " 'cep': '01037-000',\n",
       " 'cidade': 'São Paulo',\n",
       " 'logradouro': 'Rua Conselheiro Crispiniano - lado par',\n",
       " 'uf': 'SP',\n",
       " 'complemento': ''}"
      ]
     },
     "execution_count": 12,
     "metadata": {},
     "output_type": "execute_result"
    }
   ],
   "source": [
    "address"
   ]
  },
  {
   "cell_type": "code",
   "execution_count": null,
   "metadata": {},
   "outputs": [],
   "source": []
  },
  {
   "cell_type": "code",
   "execution_count": null,
   "metadata": {},
   "outputs": [],
   "source": []
  },
  {
   "cell_type": "code",
   "execution_count": 13,
   "metadata": {},
   "outputs": [],
   "source": [
    "import pandas as pd"
   ]
  },
  {
   "cell_type": "code",
   "execution_count": 14,
   "metadata": {},
   "outputs": [],
   "source": [
    "df = pd.DataFrame([\n",
    "[-87.548627, 41.728184],\n",
    "[-87.737227, 41.749111],\n",
    "[-87.743974, 41.924143],\n",
    "[-87.659294, 41.869314],\n",
    " [-87.727808, 41.877007],\n",
    "], columns=[\"Longitude\", \"Latitude\"])"
   ]
  },
  {
   "cell_type": "code",
   "execution_count": 15,
   "metadata": {},
   "outputs": [
    {
     "data": {
      "text/html": [
       "<div>\n",
       "<style scoped>\n",
       "    .dataframe tbody tr th:only-of-type {\n",
       "        vertical-align: middle;\n",
       "    }\n",
       "\n",
       "    .dataframe tbody tr th {\n",
       "        vertical-align: top;\n",
       "    }\n",
       "\n",
       "    .dataframe thead th {\n",
       "        text-align: right;\n",
       "    }\n",
       "</style>\n",
       "<table border=\"1\" class=\"dataframe\">\n",
       "  <thead>\n",
       "    <tr style=\"text-align: right;\">\n",
       "      <th></th>\n",
       "      <th>Longitude</th>\n",
       "      <th>Latitude</th>\n",
       "    </tr>\n",
       "  </thead>\n",
       "  <tbody>\n",
       "    <tr>\n",
       "      <th>0</th>\n",
       "      <td>-87.548627</td>\n",
       "      <td>41.728184</td>\n",
       "    </tr>\n",
       "    <tr>\n",
       "      <th>1</th>\n",
       "      <td>-87.737227</td>\n",
       "      <td>41.749111</td>\n",
       "    </tr>\n",
       "    <tr>\n",
       "      <th>2</th>\n",
       "      <td>-87.743974</td>\n",
       "      <td>41.924143</td>\n",
       "    </tr>\n",
       "    <tr>\n",
       "      <th>3</th>\n",
       "      <td>-87.659294</td>\n",
       "      <td>41.869314</td>\n",
       "    </tr>\n",
       "    <tr>\n",
       "      <th>4</th>\n",
       "      <td>-87.727808</td>\n",
       "      <td>41.877007</td>\n",
       "    </tr>\n",
       "  </tbody>\n",
       "</table>\n",
       "</div>"
      ],
      "text/plain": [
       "   Longitude   Latitude\n",
       "0 -87.548627  41.728184\n",
       "1 -87.737227  41.749111\n",
       "2 -87.743974  41.924143\n",
       "3 -87.659294  41.869314\n",
       "4 -87.727808  41.877007"
      ]
     },
     "execution_count": 15,
     "metadata": {},
     "output_type": "execute_result"
    }
   ],
   "source": [
    "df"
   ]
  },
  {
   "cell_type": "code",
   "execution_count": 17,
   "metadata": {},
   "outputs": [],
   "source": [
    "from tqdm import tqdm\n",
    "from geopy.geocoders import Nominatim\n",
    "from geopy.extra.rate_limiter import RateLimiter\n",
    "\n",
    "tqdm.pandas()\n",
    "geolocator = Nominatim(user_agent=\"fiap_mba2\")\n",
    "reverse = RateLimiter(geolocator.reverse, min_delay_seconds=1)\n"
   ]
  },
  {
   "cell_type": "code",
   "execution_count": 18,
   "metadata": {},
   "outputs": [
    {
     "data": {
      "text/html": [
       "<div>\n",
       "<style scoped>\n",
       "    .dataframe tbody tr th:only-of-type {\n",
       "        vertical-align: middle;\n",
       "    }\n",
       "\n",
       "    .dataframe tbody tr th {\n",
       "        vertical-align: top;\n",
       "    }\n",
       "\n",
       "    .dataframe thead th {\n",
       "        text-align: right;\n",
       "    }\n",
       "</style>\n",
       "<table border=\"1\" class=\"dataframe\">\n",
       "  <thead>\n",
       "    <tr style=\"text-align: right;\">\n",
       "      <th></th>\n",
       "      <th>Longitude</th>\n",
       "      <th>Latitude</th>\n",
       "    </tr>\n",
       "  </thead>\n",
       "  <tbody>\n",
       "    <tr>\n",
       "      <th>0</th>\n",
       "      <td>-87.548627</td>\n",
       "      <td>41.728184</td>\n",
       "    </tr>\n",
       "    <tr>\n",
       "      <th>1</th>\n",
       "      <td>-87.737227</td>\n",
       "      <td>41.749111</td>\n",
       "    </tr>\n",
       "    <tr>\n",
       "      <th>2</th>\n",
       "      <td>-87.743974</td>\n",
       "      <td>41.924143</td>\n",
       "    </tr>\n",
       "    <tr>\n",
       "      <th>3</th>\n",
       "      <td>-87.659294</td>\n",
       "      <td>41.869314</td>\n",
       "    </tr>\n",
       "    <tr>\n",
       "      <th>4</th>\n",
       "      <td>-87.727808</td>\n",
       "      <td>41.877007</td>\n",
       "    </tr>\n",
       "  </tbody>\n",
       "</table>\n",
       "</div>"
      ],
      "text/plain": [
       "   Longitude   Latitude\n",
       "0 -87.548627  41.728184\n",
       "1 -87.737227  41.749111\n",
       "2 -87.743974  41.924143\n",
       "3 -87.659294  41.869314\n",
       "4 -87.727808  41.877007"
      ]
     },
     "execution_count": 18,
     "metadata": {},
     "output_type": "execute_result"
    }
   ],
   "source": [
    "df"
   ]
  },
  {
   "cell_type": "code",
   "execution_count": 19,
   "metadata": {},
   "outputs": [
    {
     "name": "stderr",
     "output_type": "stream",
     "text": [
      "100%|██████████| 5/5 [00:04<00:00,  1.07it/s]\n"
     ]
    }
   ],
   "source": [
    "df['Location'] = df.progress_apply(\n",
    "lambda row: reverse((row['Latitude'], row['Longitude'])),\n",
    "axis=1\n",
    ")"
   ]
  },
  {
   "cell_type": "code",
   "execution_count": 20,
   "metadata": {},
   "outputs": [
    {
     "data": {
      "text/html": [
       "<div>\n",
       "<style scoped>\n",
       "    .dataframe tbody tr th:only-of-type {\n",
       "        vertical-align: middle;\n",
       "    }\n",
       "\n",
       "    .dataframe tbody tr th {\n",
       "        vertical-align: top;\n",
       "    }\n",
       "\n",
       "    .dataframe thead th {\n",
       "        text-align: right;\n",
       "    }\n",
       "</style>\n",
       "<table border=\"1\" class=\"dataframe\">\n",
       "  <thead>\n",
       "    <tr style=\"text-align: right;\">\n",
       "      <th></th>\n",
       "      <th>Longitude</th>\n",
       "      <th>Latitude</th>\n",
       "      <th>Location</th>\n",
       "    </tr>\n",
       "  </thead>\n",
       "  <tbody>\n",
       "    <tr>\n",
       "      <th>0</th>\n",
       "      <td>-87.548627</td>\n",
       "      <td>41.728184</td>\n",
       "      <td>(92nd Street &amp; Baltimore, East 92nd Street, So...</td>\n",
       "    </tr>\n",
       "    <tr>\n",
       "      <th>1</th>\n",
       "      <td>-87.737227</td>\n",
       "      <td>41.749111</td>\n",
       "      <td>(79th Street &amp; Kilpatrick EB, West 79th Street...</td>\n",
       "    </tr>\n",
       "    <tr>\n",
       "      <th>2</th>\n",
       "      <td>-87.743974</td>\n",
       "      <td>41.924143</td>\n",
       "      <td>(4701, West Fullerton Avenue, Belmont Cragin, ...</td>\n",
       "    </tr>\n",
       "    <tr>\n",
       "      <th>3</th>\n",
       "      <td>-87.659294</td>\n",
       "      <td>41.869314</td>\n",
       "      <td>(1301-1307, West Taylor Street, Illinois Medic...</td>\n",
       "    </tr>\n",
       "    <tr>\n",
       "      <th>4</th>\n",
       "      <td>-87.727808</td>\n",
       "      <td>41.877007</td>\n",
       "      <td>(Jackson &amp; Karlov, West Jackson Boulevard, Wes...</td>\n",
       "    </tr>\n",
       "  </tbody>\n",
       "</table>\n",
       "</div>"
      ],
      "text/plain": [
       "   Longitude   Latitude                                           Location\n",
       "0 -87.548627  41.728184  (92nd Street & Baltimore, East 92nd Street, So...\n",
       "1 -87.737227  41.749111  (79th Street & Kilpatrick EB, West 79th Street...\n",
       "2 -87.743974  41.924143  (4701, West Fullerton Avenue, Belmont Cragin, ...\n",
       "3 -87.659294  41.869314  (1301-1307, West Taylor Street, Illinois Medic...\n",
       "4 -87.727808  41.877007  (Jackson & Karlov, West Jackson Boulevard, Wes..."
      ]
     },
     "execution_count": 20,
     "metadata": {},
     "output_type": "execute_result"
    }
   ],
   "source": [
    "df"
   ]
  },
  {
   "cell_type": "code",
   "execution_count": 55,
   "metadata": {},
   "outputs": [],
   "source": [
    "def parse_zipcode(location):\n",
    "    if location and location.raw.get('address') and location.raw['address'].get('postcode'):\n",
    "        return location.raw['address']['postcode']\n",
    "    else:\n",
    "        return None\n",
    "\n",
    "df['Zipcode'] = df['Location'].apply(parse_zipcode)"
   ]
  },
  {
   "cell_type": "code",
   "execution_count": 30,
   "metadata": {},
   "outputs": [],
   "source": [
    "df_geolocation3=df_geolocation2.toPandas()"
   ]
  },
  {
   "cell_type": "code",
   "execution_count": 31,
   "metadata": {},
   "outputs": [
    {
     "name": "stdout",
     "output_type": "stream",
     "text": [
      "         geolocation_zip_code_prefix  geolocation_lat  geolocation_lng  \\\n",
      "0                               1037       -23.545621       -46.639292   \n",
      "1                               1046       -23.546081       -46.644820   \n",
      "2                               1046       -23.546129       -46.642951   \n",
      "3                               1041       -23.544392       -46.639499   \n",
      "4                               1035       -23.541578       -46.641607   \n",
      "...                              ...              ...              ...   \n",
      "1000158                        99950       -28.068639       -52.010705   \n",
      "1000159                        99900       -27.877125       -52.224882   \n",
      "1000160                        99950       -28.071855       -52.014716   \n",
      "1000161                        99980       -28.388932       -51.846871   \n",
      "1000162                        99950       -28.070104       -52.018658   \n",
      "\n",
      "        geolocation_city geolocation_state  \n",
      "0              São Paulo                SP  \n",
      "1              São Paulo                SP  \n",
      "2              São Paulo                SP  \n",
      "3              São Paulo                SP  \n",
      "4              São Paulo                SP  \n",
      "...                  ...               ...  \n",
      "1000158         tapejara                RS  \n",
      "1000159   getulio vargas                RS  \n",
      "1000160         tapejara                RS  \n",
      "1000161  david canabarro                RS  \n",
      "1000162         tapejara                RS  \n",
      "\n",
      "[1000163 rows x 5 columns]\n"
     ]
    }
   ],
   "source": [
    "print(df_geolocation3)"
   ]
  },
  {
   "cell_type": "code",
   "execution_count": 32,
   "metadata": {},
   "outputs": [],
   "source": [
    "df_geolocation3['geolocation_city'] = df_geolocation3['geolocation_city'].str.capitalize()"
   ]
  },
  {
   "cell_type": "code",
   "execution_count": 33,
   "metadata": {},
   "outputs": [
    {
     "name": "stdout",
     "output_type": "stream",
     "text": [
      "         geolocation_zip_code_prefix  geolocation_lat  geolocation_lng  \\\n",
      "0                               1037       -23.545621       -46.639292   \n",
      "1                               1046       -23.546081       -46.644820   \n",
      "2                               1046       -23.546129       -46.642951   \n",
      "3                               1041       -23.544392       -46.639499   \n",
      "4                               1035       -23.541578       -46.641607   \n",
      "...                              ...              ...              ...   \n",
      "1000158                        99950       -28.068639       -52.010705   \n",
      "1000159                        99900       -27.877125       -52.224882   \n",
      "1000160                        99950       -28.071855       -52.014716   \n",
      "1000161                        99980       -28.388932       -51.846871   \n",
      "1000162                        99950       -28.070104       -52.018658   \n",
      "\n",
      "        geolocation_city geolocation_state  \n",
      "0              São paulo                SP  \n",
      "1              São paulo                SP  \n",
      "2              São paulo                SP  \n",
      "3              São paulo                SP  \n",
      "4              São paulo                SP  \n",
      "...                  ...               ...  \n",
      "1000158         Tapejara                RS  \n",
      "1000159   Getulio vargas                RS  \n",
      "1000160         Tapejara                RS  \n",
      "1000161  David canabarro                RS  \n",
      "1000162         Tapejara                RS  \n",
      "\n",
      "[1000163 rows x 5 columns]\n"
     ]
    }
   ],
   "source": [
    "print(df_geolocation3)"
   ]
  },
  {
   "cell_type": "code",
   "execution_count": 34,
   "metadata": {},
   "outputs": [],
   "source": [
    "df_geolocation3 = df_geolocation3.head(20)"
   ]
  },
  {
   "cell_type": "code",
   "execution_count": 35,
   "metadata": {},
   "outputs": [
    {
     "data": {
      "text/html": [
       "<div>\n",
       "<style scoped>\n",
       "    .dataframe tbody tr th:only-of-type {\n",
       "        vertical-align: middle;\n",
       "    }\n",
       "\n",
       "    .dataframe tbody tr th {\n",
       "        vertical-align: top;\n",
       "    }\n",
       "\n",
       "    .dataframe thead th {\n",
       "        text-align: right;\n",
       "    }\n",
       "</style>\n",
       "<table border=\"1\" class=\"dataframe\">\n",
       "  <thead>\n",
       "    <tr style=\"text-align: right;\">\n",
       "      <th></th>\n",
       "      <th>geolocation_zip_code_prefix</th>\n",
       "      <th>geolocation_lat</th>\n",
       "      <th>geolocation_lng</th>\n",
       "      <th>geolocation_city</th>\n",
       "      <th>geolocation_state</th>\n",
       "    </tr>\n",
       "  </thead>\n",
       "  <tbody>\n",
       "    <tr>\n",
       "      <th>0</th>\n",
       "      <td>1037</td>\n",
       "      <td>-23.545621</td>\n",
       "      <td>-46.639292</td>\n",
       "      <td>São paulo</td>\n",
       "      <td>SP</td>\n",
       "    </tr>\n",
       "    <tr>\n",
       "      <th>1</th>\n",
       "      <td>1046</td>\n",
       "      <td>-23.546081</td>\n",
       "      <td>-46.644820</td>\n",
       "      <td>São paulo</td>\n",
       "      <td>SP</td>\n",
       "    </tr>\n",
       "    <tr>\n",
       "      <th>2</th>\n",
       "      <td>1046</td>\n",
       "      <td>-23.546129</td>\n",
       "      <td>-46.642951</td>\n",
       "      <td>São paulo</td>\n",
       "      <td>SP</td>\n",
       "    </tr>\n",
       "    <tr>\n",
       "      <th>3</th>\n",
       "      <td>1041</td>\n",
       "      <td>-23.544392</td>\n",
       "      <td>-46.639499</td>\n",
       "      <td>São paulo</td>\n",
       "      <td>SP</td>\n",
       "    </tr>\n",
       "    <tr>\n",
       "      <th>4</th>\n",
       "      <td>1035</td>\n",
       "      <td>-23.541578</td>\n",
       "      <td>-46.641607</td>\n",
       "      <td>São paulo</td>\n",
       "      <td>SP</td>\n",
       "    </tr>\n",
       "    <tr>\n",
       "      <th>5</th>\n",
       "      <td>1012</td>\n",
       "      <td>-23.547762</td>\n",
       "      <td>-46.635361</td>\n",
       "      <td>São paulo</td>\n",
       "      <td>SP</td>\n",
       "    </tr>\n",
       "    <tr>\n",
       "      <th>6</th>\n",
       "      <td>1047</td>\n",
       "      <td>-23.546273</td>\n",
       "      <td>-46.641225</td>\n",
       "      <td>São paulo</td>\n",
       "      <td>SP</td>\n",
       "    </tr>\n",
       "    <tr>\n",
       "      <th>7</th>\n",
       "      <td>1013</td>\n",
       "      <td>-23.546923</td>\n",
       "      <td>-46.634264</td>\n",
       "      <td>São paulo</td>\n",
       "      <td>SP</td>\n",
       "    </tr>\n",
       "    <tr>\n",
       "      <th>8</th>\n",
       "      <td>1029</td>\n",
       "      <td>-23.543769</td>\n",
       "      <td>-46.634278</td>\n",
       "      <td>São paulo</td>\n",
       "      <td>SP</td>\n",
       "    </tr>\n",
       "    <tr>\n",
       "      <th>9</th>\n",
       "      <td>1011</td>\n",
       "      <td>-23.547640</td>\n",
       "      <td>-46.636032</td>\n",
       "      <td>São paulo</td>\n",
       "      <td>SP</td>\n",
       "    </tr>\n",
       "    <tr>\n",
       "      <th>10</th>\n",
       "      <td>1013</td>\n",
       "      <td>-23.547325</td>\n",
       "      <td>-46.634184</td>\n",
       "      <td>São paulo</td>\n",
       "      <td>SP</td>\n",
       "    </tr>\n",
       "    <tr>\n",
       "      <th>11</th>\n",
       "      <td>1032</td>\n",
       "      <td>-23.538418</td>\n",
       "      <td>-46.634778</td>\n",
       "      <td>São paulo</td>\n",
       "      <td>SP</td>\n",
       "    </tr>\n",
       "    <tr>\n",
       "      <th>12</th>\n",
       "      <td>1014</td>\n",
       "      <td>-23.546435</td>\n",
       "      <td>-46.633830</td>\n",
       "      <td>São paulo</td>\n",
       "      <td>SP</td>\n",
       "    </tr>\n",
       "    <tr>\n",
       "      <th>13</th>\n",
       "      <td>1012</td>\n",
       "      <td>-23.548946</td>\n",
       "      <td>-46.634671</td>\n",
       "      <td>São paulo</td>\n",
       "      <td>SP</td>\n",
       "    </tr>\n",
       "    <tr>\n",
       "      <th>14</th>\n",
       "      <td>1037</td>\n",
       "      <td>-23.545187</td>\n",
       "      <td>-46.637855</td>\n",
       "      <td>São paulo</td>\n",
       "      <td>SP</td>\n",
       "    </tr>\n",
       "    <tr>\n",
       "      <th>15</th>\n",
       "      <td>1046</td>\n",
       "      <td>-23.546081</td>\n",
       "      <td>-46.644820</td>\n",
       "      <td>São paulo</td>\n",
       "      <td>SP</td>\n",
       "    </tr>\n",
       "    <tr>\n",
       "      <th>16</th>\n",
       "      <td>1039</td>\n",
       "      <td>-23.541883</td>\n",
       "      <td>-46.639919</td>\n",
       "      <td>São paulo</td>\n",
       "      <td>SP</td>\n",
       "    </tr>\n",
       "    <tr>\n",
       "      <th>17</th>\n",
       "      <td>1024</td>\n",
       "      <td>-23.541390</td>\n",
       "      <td>-46.629899</td>\n",
       "      <td>São paulo</td>\n",
       "      <td>SP</td>\n",
       "    </tr>\n",
       "    <tr>\n",
       "      <th>18</th>\n",
       "      <td>1009</td>\n",
       "      <td>-23.546935</td>\n",
       "      <td>-46.636588</td>\n",
       "      <td>São paulo</td>\n",
       "      <td>SP</td>\n",
       "    </tr>\n",
       "    <tr>\n",
       "      <th>19</th>\n",
       "      <td>1046</td>\n",
       "      <td>-23.545884</td>\n",
       "      <td>-46.643163</td>\n",
       "      <td>São paulo</td>\n",
       "      <td>SP</td>\n",
       "    </tr>\n",
       "  </tbody>\n",
       "</table>\n",
       "</div>"
      ],
      "text/plain": [
       "    geolocation_zip_code_prefix  geolocation_lat  geolocation_lng  \\\n",
       "0                          1037       -23.545621       -46.639292   \n",
       "1                          1046       -23.546081       -46.644820   \n",
       "2                          1046       -23.546129       -46.642951   \n",
       "3                          1041       -23.544392       -46.639499   \n",
       "4                          1035       -23.541578       -46.641607   \n",
       "5                          1012       -23.547762       -46.635361   \n",
       "6                          1047       -23.546273       -46.641225   \n",
       "7                          1013       -23.546923       -46.634264   \n",
       "8                          1029       -23.543769       -46.634278   \n",
       "9                          1011       -23.547640       -46.636032   \n",
       "10                         1013       -23.547325       -46.634184   \n",
       "11                         1032       -23.538418       -46.634778   \n",
       "12                         1014       -23.546435       -46.633830   \n",
       "13                         1012       -23.548946       -46.634671   \n",
       "14                         1037       -23.545187       -46.637855   \n",
       "15                         1046       -23.546081       -46.644820   \n",
       "16                         1039       -23.541883       -46.639919   \n",
       "17                         1024       -23.541390       -46.629899   \n",
       "18                         1009       -23.546935       -46.636588   \n",
       "19                         1046       -23.545884       -46.643163   \n",
       "\n",
       "   geolocation_city geolocation_state  \n",
       "0         São paulo                SP  \n",
       "1         São paulo                SP  \n",
       "2         São paulo                SP  \n",
       "3         São paulo                SP  \n",
       "4         São paulo                SP  \n",
       "5         São paulo                SP  \n",
       "6         São paulo                SP  \n",
       "7         São paulo                SP  \n",
       "8         São paulo                SP  \n",
       "9         São paulo                SP  \n",
       "10        São paulo                SP  \n",
       "11        São paulo                SP  \n",
       "12        São paulo                SP  \n",
       "13        São paulo                SP  \n",
       "14        São paulo                SP  \n",
       "15        São paulo                SP  \n",
       "16        São paulo                SP  \n",
       "17        São paulo                SP  \n",
       "18        São paulo                SP  \n",
       "19        São paulo                SP  "
      ]
     },
     "execution_count": 35,
     "metadata": {},
     "output_type": "execute_result"
    }
   ],
   "source": [
    "df_geolocation3"
   ]
  },
  {
   "cell_type": "code",
   "execution_count": 36,
   "metadata": {},
   "outputs": [],
   "source": [
    "from tqdm import tqdm\n",
    "from geopy.geocoders import Nominatim\n",
    "from geopy.extra.rate_limiter import RateLimiter\n",
    "\n",
    "\n",
    "tqdm.pandas()\n",
    "geolocator = Nominatim(user_agent=\"fiap_mba\")\n",
    "reverse = RateLimiter(geolocator.reverse, min_delay_seconds=1)"
   ]
  },
  {
   "cell_type": "code",
   "execution_count": 37,
   "metadata": {},
   "outputs": [
    {
     "name": "stderr",
     "output_type": "stream",
     "text": [
      "100%|██████████| 20/20 [00:19<00:00,  1.01it/s]\n"
     ]
    }
   ],
   "source": [
    "df_geolocation3['address'] = df_geolocation3.progress_apply(\n",
    "lambda row: reverse((row['geolocation_lat'], row['geolocation_lng'])),\n",
    "axis=1\n",
    ")"
   ]
  },
  {
   "cell_type": "code",
   "execution_count": 38,
   "metadata": {},
   "outputs": [
    {
     "data": {
      "text/html": [
       "<div>\n",
       "<style scoped>\n",
       "    .dataframe tbody tr th:only-of-type {\n",
       "        vertical-align: middle;\n",
       "    }\n",
       "\n",
       "    .dataframe tbody tr th {\n",
       "        vertical-align: top;\n",
       "    }\n",
       "\n",
       "    .dataframe thead th {\n",
       "        text-align: right;\n",
       "    }\n",
       "</style>\n",
       "<table border=\"1\" class=\"dataframe\">\n",
       "  <thead>\n",
       "    <tr style=\"text-align: right;\">\n",
       "      <th></th>\n",
       "      <th>geolocation_zip_code_prefix</th>\n",
       "      <th>geolocation_lat</th>\n",
       "      <th>geolocation_lng</th>\n",
       "      <th>geolocation_city</th>\n",
       "      <th>geolocation_state</th>\n",
       "      <th>address</th>\n",
       "    </tr>\n",
       "  </thead>\n",
       "  <tbody>\n",
       "    <tr>\n",
       "      <th>0</th>\n",
       "      <td>1037</td>\n",
       "      <td>-23.545621</td>\n",
       "      <td>-46.639292</td>\n",
       "      <td>São paulo</td>\n",
       "      <td>SP</td>\n",
       "      <td>(Casas Bahia, 131, Praça Ramos de Azevedo, Rep...</td>\n",
       "    </tr>\n",
       "    <tr>\n",
       "      <th>1</th>\n",
       "      <td>1046</td>\n",
       "      <td>-23.546081</td>\n",
       "      <td>-46.644820</td>\n",
       "      <td>São paulo</td>\n",
       "      <td>SP</td>\n",
       "      <td>(303, Avenida Ipiranga, Vila Buarque, Repúblic...</td>\n",
       "    </tr>\n",
       "    <tr>\n",
       "      <th>2</th>\n",
       "      <td>1046</td>\n",
       "      <td>-23.546129</td>\n",
       "      <td>-46.642951</td>\n",
       "      <td>São paulo</td>\n",
       "      <td>SP</td>\n",
       "      <td>(Confidence Cambio, Calçada Compartilhada Av S...</td>\n",
       "    </tr>\n",
       "    <tr>\n",
       "      <th>3</th>\n",
       "      <td>1041</td>\n",
       "      <td>-23.544392</td>\n",
       "      <td>-46.639499</td>\n",
       "      <td>São paulo</td>\n",
       "      <td>SP</td>\n",
       "      <td>(Galeria R Monteiro, 77, Rua 24 de Maio, Repúb...</td>\n",
       "    </tr>\n",
       "    <tr>\n",
       "      <th>4</th>\n",
       "      <td>1035</td>\n",
       "      <td>-23.541578</td>\n",
       "      <td>-46.641607</td>\n",
       "      <td>São paulo</td>\n",
       "      <td>SP</td>\n",
       "      <td>(816, Avenida São João, República, São Paulo, ...</td>\n",
       "    </tr>\n",
       "    <tr>\n",
       "      <th>5</th>\n",
       "      <td>1012</td>\n",
       "      <td>-23.547762</td>\n",
       "      <td>-46.635361</td>\n",
       "      <td>São paulo</td>\n",
       "      <td>SP</td>\n",
       "      <td>(Edifício George Loeb, 113, Rua da Quitanda, G...</td>\n",
       "    </tr>\n",
       "    <tr>\n",
       "      <th>6</th>\n",
       "      <td>1047</td>\n",
       "      <td>-23.546273</td>\n",
       "      <td>-46.641225</td>\n",
       "      <td>São paulo</td>\n",
       "      <td>SP</td>\n",
       "      <td>(Edifício Vicentina, Rua Doutor Bráulio Gomes,...</td>\n",
       "    </tr>\n",
       "    <tr>\n",
       "      <th>7</th>\n",
       "      <td>1013</td>\n",
       "      <td>-23.546923</td>\n",
       "      <td>-46.634264</td>\n",
       "      <td>São paulo</td>\n",
       "      <td>SP</td>\n",
       "      <td>(Edifício Canadá, Rua 15 de Novembro, Glicério...</td>\n",
       "    </tr>\n",
       "    <tr>\n",
       "      <th>8</th>\n",
       "      <td>1029</td>\n",
       "      <td>-23.543769</td>\n",
       "      <td>-46.634278</td>\n",
       "      <td>São paulo</td>\n",
       "      <td>SP</td>\n",
       "      <td>(Mosteiro de São Bento, Largo São Bento, Glicé...</td>\n",
       "    </tr>\n",
       "    <tr>\n",
       "      <th>9</th>\n",
       "      <td>1011</td>\n",
       "      <td>-23.547640</td>\n",
       "      <td>-46.636032</td>\n",
       "      <td>São paulo</td>\n",
       "      <td>SP</td>\n",
       "      <td>(30, Praça do Patriarca, Glicério, Sé, São Pau...</td>\n",
       "    </tr>\n",
       "    <tr>\n",
       "      <th>10</th>\n",
       "      <td>1013</td>\n",
       "      <td>-23.547325</td>\n",
       "      <td>-46.634184</td>\n",
       "      <td>São paulo</td>\n",
       "      <td>SP</td>\n",
       "      <td>(Edifício das Bandeiras, Rua 15 de Novembro, G...</td>\n",
       "    </tr>\n",
       "    <tr>\n",
       "      <th>11</th>\n",
       "      <td>1032</td>\n",
       "      <td>-23.538418</td>\n",
       "      <td>-46.634778</td>\n",
       "      <td>São paulo</td>\n",
       "      <td>SP</td>\n",
       "      <td>(Edifício Palácio da Polícia Civil, 527, Rua B...</td>\n",
       "    </tr>\n",
       "    <tr>\n",
       "      <th>12</th>\n",
       "      <td>1014</td>\n",
       "      <td>-23.546435</td>\n",
       "      <td>-46.633830</td>\n",
       "      <td>São paulo</td>\n",
       "      <td>SP</td>\n",
       "      <td>(40, Rua 3 de Dezembro, Glicério, Sé, São Paul...</td>\n",
       "    </tr>\n",
       "    <tr>\n",
       "      <th>13</th>\n",
       "      <td>1012</td>\n",
       "      <td>-23.548946</td>\n",
       "      <td>-46.634671</td>\n",
       "      <td>São paulo</td>\n",
       "      <td>SP</td>\n",
       "      <td>(32, Rua José Bonifácio, Glicério, Sé, São Pau...</td>\n",
       "    </tr>\n",
       "    <tr>\n",
       "      <th>14</th>\n",
       "      <td>1037</td>\n",
       "      <td>-23.545187</td>\n",
       "      <td>-46.637855</td>\n",
       "      <td>São paulo</td>\n",
       "      <td>SP</td>\n",
       "      <td>(Secretaria de Agricultura e Abastecimento do ...</td>\n",
       "    </tr>\n",
       "    <tr>\n",
       "      <th>15</th>\n",
       "      <td>1046</td>\n",
       "      <td>-23.546081</td>\n",
       "      <td>-46.644820</td>\n",
       "      <td>São paulo</td>\n",
       "      <td>SP</td>\n",
       "      <td>(303, Avenida Ipiranga, Vila Buarque, Repúblic...</td>\n",
       "    </tr>\n",
       "    <tr>\n",
       "      <th>16</th>\n",
       "      <td>1039</td>\n",
       "      <td>-23.541883</td>\n",
       "      <td>-46.639919</td>\n",
       "      <td>São paulo</td>\n",
       "      <td>SP</td>\n",
       "      <td>(895, Avenida Ipiranga, República, São Paulo, ...</td>\n",
       "    </tr>\n",
       "    <tr>\n",
       "      <th>17</th>\n",
       "      <td>1024</td>\n",
       "      <td>-23.541390</td>\n",
       "      <td>-46.629899</td>\n",
       "      <td>São paulo</td>\n",
       "      <td>SP</td>\n",
       "      <td>(323, Rua da Cantareira, Glicério, Sé, São Pau...</td>\n",
       "    </tr>\n",
       "    <tr>\n",
       "      <th>18</th>\n",
       "      <td>1009</td>\n",
       "      <td>-23.546935</td>\n",
       "      <td>-46.636588</td>\n",
       "      <td>São paulo</td>\n",
       "      <td>SP</td>\n",
       "      <td>(Edifício Conde Prates, 293, Rua Líbero Badaró...</td>\n",
       "    </tr>\n",
       "    <tr>\n",
       "      <th>19</th>\n",
       "      <td>1046</td>\n",
       "      <td>-23.545884</td>\n",
       "      <td>-46.643163</td>\n",
       "      <td>São paulo</td>\n",
       "      <td>SP</td>\n",
       "      <td>(Edifício Comandante Linneu Gomes, 86, Avenida...</td>\n",
       "    </tr>\n",
       "  </tbody>\n",
       "</table>\n",
       "</div>"
      ],
      "text/plain": [
       "    geolocation_zip_code_prefix  geolocation_lat  geolocation_lng  \\\n",
       "0                          1037       -23.545621       -46.639292   \n",
       "1                          1046       -23.546081       -46.644820   \n",
       "2                          1046       -23.546129       -46.642951   \n",
       "3                          1041       -23.544392       -46.639499   \n",
       "4                          1035       -23.541578       -46.641607   \n",
       "5                          1012       -23.547762       -46.635361   \n",
       "6                          1047       -23.546273       -46.641225   \n",
       "7                          1013       -23.546923       -46.634264   \n",
       "8                          1029       -23.543769       -46.634278   \n",
       "9                          1011       -23.547640       -46.636032   \n",
       "10                         1013       -23.547325       -46.634184   \n",
       "11                         1032       -23.538418       -46.634778   \n",
       "12                         1014       -23.546435       -46.633830   \n",
       "13                         1012       -23.548946       -46.634671   \n",
       "14                         1037       -23.545187       -46.637855   \n",
       "15                         1046       -23.546081       -46.644820   \n",
       "16                         1039       -23.541883       -46.639919   \n",
       "17                         1024       -23.541390       -46.629899   \n",
       "18                         1009       -23.546935       -46.636588   \n",
       "19                         1046       -23.545884       -46.643163   \n",
       "\n",
       "   geolocation_city geolocation_state  \\\n",
       "0         São paulo                SP   \n",
       "1         São paulo                SP   \n",
       "2         São paulo                SP   \n",
       "3         São paulo                SP   \n",
       "4         São paulo                SP   \n",
       "5         São paulo                SP   \n",
       "6         São paulo                SP   \n",
       "7         São paulo                SP   \n",
       "8         São paulo                SP   \n",
       "9         São paulo                SP   \n",
       "10        São paulo                SP   \n",
       "11        São paulo                SP   \n",
       "12        São paulo                SP   \n",
       "13        São paulo                SP   \n",
       "14        São paulo                SP   \n",
       "15        São paulo                SP   \n",
       "16        São paulo                SP   \n",
       "17        São paulo                SP   \n",
       "18        São paulo                SP   \n",
       "19        São paulo                SP   \n",
       "\n",
       "                                              address  \n",
       "0   (Casas Bahia, 131, Praça Ramos de Azevedo, Rep...  \n",
       "1   (303, Avenida Ipiranga, Vila Buarque, Repúblic...  \n",
       "2   (Confidence Cambio, Calçada Compartilhada Av S...  \n",
       "3   (Galeria R Monteiro, 77, Rua 24 de Maio, Repúb...  \n",
       "4   (816, Avenida São João, República, São Paulo, ...  \n",
       "5   (Edifício George Loeb, 113, Rua da Quitanda, G...  \n",
       "6   (Edifício Vicentina, Rua Doutor Bráulio Gomes,...  \n",
       "7   (Edifício Canadá, Rua 15 de Novembro, Glicério...  \n",
       "8   (Mosteiro de São Bento, Largo São Bento, Glicé...  \n",
       "9   (30, Praça do Patriarca, Glicério, Sé, São Pau...  \n",
       "10  (Edifício das Bandeiras, Rua 15 de Novembro, G...  \n",
       "11  (Edifício Palácio da Polícia Civil, 527, Rua B...  \n",
       "12  (40, Rua 3 de Dezembro, Glicério, Sé, São Paul...  \n",
       "13  (32, Rua José Bonifácio, Glicério, Sé, São Pau...  \n",
       "14  (Secretaria de Agricultura e Abastecimento do ...  \n",
       "15  (303, Avenida Ipiranga, Vila Buarque, Repúblic...  \n",
       "16  (895, Avenida Ipiranga, República, São Paulo, ...  \n",
       "17  (323, Rua da Cantareira, Glicério, Sé, São Pau...  \n",
       "18  (Edifício Conde Prates, 293, Rua Líbero Badaró...  \n",
       "19  (Edifício Comandante Linneu Gomes, 86, Avenida...  "
      ]
     },
     "execution_count": 38,
     "metadata": {},
     "output_type": "execute_result"
    }
   ],
   "source": [
    "df_geolocation3"
   ]
  },
  {
   "cell_type": "code",
   "execution_count": 39,
   "metadata": {},
   "outputs": [
    {
     "name": "stderr",
     "output_type": "stream",
     "text": [
      "100%|██████████| 20/20 [00:00<00:00, 1357.07it/s]\n"
     ]
    }
   ],
   "source": [
    "def parse_zipcode(location):\n",
    "    if location and location.raw.get('address') and location.raw['address'].get('postcode'):\n",
    "        return location.raw['address']['postcode']\n",
    "    else:\n",
    "        return None\n",
    "\n",
    "df_geolocation3['Zipcode'] = df_geolocation3['address'].progress_apply(parse_zipcode)"
   ]
  },
  {
   "cell_type": "code",
   "execution_count": 40,
   "metadata": {},
   "outputs": [
    {
     "data": {
      "text/html": [
       "<div>\n",
       "<style scoped>\n",
       "    .dataframe tbody tr th:only-of-type {\n",
       "        vertical-align: middle;\n",
       "    }\n",
       "\n",
       "    .dataframe tbody tr th {\n",
       "        vertical-align: top;\n",
       "    }\n",
       "\n",
       "    .dataframe thead th {\n",
       "        text-align: right;\n",
       "    }\n",
       "</style>\n",
       "<table border=\"1\" class=\"dataframe\">\n",
       "  <thead>\n",
       "    <tr style=\"text-align: right;\">\n",
       "      <th></th>\n",
       "      <th>geolocation_zip_code_prefix</th>\n",
       "      <th>geolocation_lat</th>\n",
       "      <th>geolocation_lng</th>\n",
       "      <th>geolocation_city</th>\n",
       "      <th>geolocation_state</th>\n",
       "      <th>address</th>\n",
       "      <th>Zipcode</th>\n",
       "    </tr>\n",
       "  </thead>\n",
       "  <tbody>\n",
       "    <tr>\n",
       "      <th>0</th>\n",
       "      <td>1037</td>\n",
       "      <td>-23.545621</td>\n",
       "      <td>-46.639292</td>\n",
       "      <td>São paulo</td>\n",
       "      <td>SP</td>\n",
       "      <td>(Casas Bahia, 131, Praça Ramos de Azevedo, Rep...</td>\n",
       "      <td>01037-000</td>\n",
       "    </tr>\n",
       "    <tr>\n",
       "      <th>1</th>\n",
       "      <td>1046</td>\n",
       "      <td>-23.546081</td>\n",
       "      <td>-46.644820</td>\n",
       "      <td>São paulo</td>\n",
       "      <td>SP</td>\n",
       "      <td>(303, Avenida Ipiranga, Vila Buarque, Repúblic...</td>\n",
       "      <td>01046-010</td>\n",
       "    </tr>\n",
       "    <tr>\n",
       "      <th>2</th>\n",
       "      <td>1046</td>\n",
       "      <td>-23.546129</td>\n",
       "      <td>-46.642951</td>\n",
       "      <td>São paulo</td>\n",
       "      <td>SP</td>\n",
       "      <td>(Confidence Cambio, Calçada Compartilhada Av S...</td>\n",
       "      <td>01046-001</td>\n",
       "    </tr>\n",
       "    <tr>\n",
       "      <th>3</th>\n",
       "      <td>1041</td>\n",
       "      <td>-23.544392</td>\n",
       "      <td>-46.639499</td>\n",
       "      <td>São paulo</td>\n",
       "      <td>SP</td>\n",
       "      <td>(Galeria R Monteiro, 77, Rua 24 de Maio, Repúb...</td>\n",
       "      <td>01041-001</td>\n",
       "    </tr>\n",
       "    <tr>\n",
       "      <th>4</th>\n",
       "      <td>1035</td>\n",
       "      <td>-23.541578</td>\n",
       "      <td>-46.641607</td>\n",
       "      <td>São paulo</td>\n",
       "      <td>SP</td>\n",
       "      <td>(816, Avenida São João, República, São Paulo, ...</td>\n",
       "      <td>01036-100</td>\n",
       "    </tr>\n",
       "    <tr>\n",
       "      <th>5</th>\n",
       "      <td>1012</td>\n",
       "      <td>-23.547762</td>\n",
       "      <td>-46.635361</td>\n",
       "      <td>São paulo</td>\n",
       "      <td>SP</td>\n",
       "      <td>(Edifício George Loeb, 113, Rua da Quitanda, G...</td>\n",
       "      <td>01012-010</td>\n",
       "    </tr>\n",
       "    <tr>\n",
       "      <th>6</th>\n",
       "      <td>1047</td>\n",
       "      <td>-23.546273</td>\n",
       "      <td>-46.641225</td>\n",
       "      <td>São paulo</td>\n",
       "      <td>SP</td>\n",
       "      <td>(Edifício Vicentina, Rua Doutor Bráulio Gomes,...</td>\n",
       "      <td>01043-000</td>\n",
       "    </tr>\n",
       "    <tr>\n",
       "      <th>7</th>\n",
       "      <td>1013</td>\n",
       "      <td>-23.546923</td>\n",
       "      <td>-46.634264</td>\n",
       "      <td>São paulo</td>\n",
       "      <td>SP</td>\n",
       "      <td>(Edifício Canadá, Rua 15 de Novembro, Glicério...</td>\n",
       "      <td>01013-001</td>\n",
       "    </tr>\n",
       "    <tr>\n",
       "      <th>8</th>\n",
       "      <td>1029</td>\n",
       "      <td>-23.543769</td>\n",
       "      <td>-46.634278</td>\n",
       "      <td>São paulo</td>\n",
       "      <td>SP</td>\n",
       "      <td>(Mosteiro de São Bento, Largo São Bento, Glicé...</td>\n",
       "      <td>01029-010</td>\n",
       "    </tr>\n",
       "    <tr>\n",
       "      <th>9</th>\n",
       "      <td>1011</td>\n",
       "      <td>-23.547640</td>\n",
       "      <td>-46.636032</td>\n",
       "      <td>São paulo</td>\n",
       "      <td>SP</td>\n",
       "      <td>(30, Praça do Patriarca, Glicério, Sé, São Pau...</td>\n",
       "      <td>01002-010</td>\n",
       "    </tr>\n",
       "    <tr>\n",
       "      <th>10</th>\n",
       "      <td>1013</td>\n",
       "      <td>-23.547325</td>\n",
       "      <td>-46.634184</td>\n",
       "      <td>São paulo</td>\n",
       "      <td>SP</td>\n",
       "      <td>(Edifício das Bandeiras, Rua 15 de Novembro, G...</td>\n",
       "      <td>01013-001</td>\n",
       "    </tr>\n",
       "    <tr>\n",
       "      <th>11</th>\n",
       "      <td>1032</td>\n",
       "      <td>-23.538418</td>\n",
       "      <td>-46.634778</td>\n",
       "      <td>São paulo</td>\n",
       "      <td>SP</td>\n",
       "      <td>(Edifício Palácio da Polícia Civil, 527, Rua B...</td>\n",
       "      <td>01032-001</td>\n",
       "    </tr>\n",
       "    <tr>\n",
       "      <th>12</th>\n",
       "      <td>1014</td>\n",
       "      <td>-23.546435</td>\n",
       "      <td>-46.633830</td>\n",
       "      <td>São paulo</td>\n",
       "      <td>SP</td>\n",
       "      <td>(40, Rua 3 de Dezembro, Glicério, Sé, São Paul...</td>\n",
       "      <td>01014-020</td>\n",
       "    </tr>\n",
       "    <tr>\n",
       "      <th>13</th>\n",
       "      <td>1012</td>\n",
       "      <td>-23.548946</td>\n",
       "      <td>-46.634671</td>\n",
       "      <td>São paulo</td>\n",
       "      <td>SP</td>\n",
       "      <td>(32, Rua José Bonifácio, Glicério, Sé, São Pau...</td>\n",
       "      <td>01003-000</td>\n",
       "    </tr>\n",
       "    <tr>\n",
       "      <th>14</th>\n",
       "      <td>1037</td>\n",
       "      <td>-23.545187</td>\n",
       "      <td>-46.637855</td>\n",
       "      <td>São paulo</td>\n",
       "      <td>SP</td>\n",
       "      <td>(Secretaria de Agricultura e Abastecimento do ...</td>\n",
       "      <td>01037-912</td>\n",
       "    </tr>\n",
       "    <tr>\n",
       "      <th>15</th>\n",
       "      <td>1046</td>\n",
       "      <td>-23.546081</td>\n",
       "      <td>-46.644820</td>\n",
       "      <td>São paulo</td>\n",
       "      <td>SP</td>\n",
       "      <td>(303, Avenida Ipiranga, Vila Buarque, Repúblic...</td>\n",
       "      <td>01046-010</td>\n",
       "    </tr>\n",
       "    <tr>\n",
       "      <th>16</th>\n",
       "      <td>1039</td>\n",
       "      <td>-23.541883</td>\n",
       "      <td>-46.639919</td>\n",
       "      <td>São paulo</td>\n",
       "      <td>SP</td>\n",
       "      <td>(895, Avenida Ipiranga, República, São Paulo, ...</td>\n",
       "      <td>01039-000</td>\n",
       "    </tr>\n",
       "    <tr>\n",
       "      <th>17</th>\n",
       "      <td>1024</td>\n",
       "      <td>-23.541390</td>\n",
       "      <td>-46.629899</td>\n",
       "      <td>São paulo</td>\n",
       "      <td>SP</td>\n",
       "      <td>(323, Rua da Cantareira, Glicério, Sé, São Pau...</td>\n",
       "      <td>01024-100</td>\n",
       "    </tr>\n",
       "    <tr>\n",
       "      <th>18</th>\n",
       "      <td>1009</td>\n",
       "      <td>-23.546935</td>\n",
       "      <td>-46.636588</td>\n",
       "      <td>São paulo</td>\n",
       "      <td>SP</td>\n",
       "      <td>(Edifício Conde Prates, 293, Rua Líbero Badaró...</td>\n",
       "      <td>01009-000</td>\n",
       "    </tr>\n",
       "    <tr>\n",
       "      <th>19</th>\n",
       "      <td>1046</td>\n",
       "      <td>-23.545884</td>\n",
       "      <td>-46.643163</td>\n",
       "      <td>São paulo</td>\n",
       "      <td>SP</td>\n",
       "      <td>(Edifício Comandante Linneu Gomes, 86, Avenida...</td>\n",
       "      <td>01046-000</td>\n",
       "    </tr>\n",
       "  </tbody>\n",
       "</table>\n",
       "</div>"
      ],
      "text/plain": [
       "    geolocation_zip_code_prefix  geolocation_lat  geolocation_lng  \\\n",
       "0                          1037       -23.545621       -46.639292   \n",
       "1                          1046       -23.546081       -46.644820   \n",
       "2                          1046       -23.546129       -46.642951   \n",
       "3                          1041       -23.544392       -46.639499   \n",
       "4                          1035       -23.541578       -46.641607   \n",
       "5                          1012       -23.547762       -46.635361   \n",
       "6                          1047       -23.546273       -46.641225   \n",
       "7                          1013       -23.546923       -46.634264   \n",
       "8                          1029       -23.543769       -46.634278   \n",
       "9                          1011       -23.547640       -46.636032   \n",
       "10                         1013       -23.547325       -46.634184   \n",
       "11                         1032       -23.538418       -46.634778   \n",
       "12                         1014       -23.546435       -46.633830   \n",
       "13                         1012       -23.548946       -46.634671   \n",
       "14                         1037       -23.545187       -46.637855   \n",
       "15                         1046       -23.546081       -46.644820   \n",
       "16                         1039       -23.541883       -46.639919   \n",
       "17                         1024       -23.541390       -46.629899   \n",
       "18                         1009       -23.546935       -46.636588   \n",
       "19                         1046       -23.545884       -46.643163   \n",
       "\n",
       "   geolocation_city geolocation_state  \\\n",
       "0         São paulo                SP   \n",
       "1         São paulo                SP   \n",
       "2         São paulo                SP   \n",
       "3         São paulo                SP   \n",
       "4         São paulo                SP   \n",
       "5         São paulo                SP   \n",
       "6         São paulo                SP   \n",
       "7         São paulo                SP   \n",
       "8         São paulo                SP   \n",
       "9         São paulo                SP   \n",
       "10        São paulo                SP   \n",
       "11        São paulo                SP   \n",
       "12        São paulo                SP   \n",
       "13        São paulo                SP   \n",
       "14        São paulo                SP   \n",
       "15        São paulo                SP   \n",
       "16        São paulo                SP   \n",
       "17        São paulo                SP   \n",
       "18        São paulo                SP   \n",
       "19        São paulo                SP   \n",
       "\n",
       "                                              address    Zipcode  \n",
       "0   (Casas Bahia, 131, Praça Ramos de Azevedo, Rep...  01037-000  \n",
       "1   (303, Avenida Ipiranga, Vila Buarque, Repúblic...  01046-010  \n",
       "2   (Confidence Cambio, Calçada Compartilhada Av S...  01046-001  \n",
       "3   (Galeria R Monteiro, 77, Rua 24 de Maio, Repúb...  01041-001  \n",
       "4   (816, Avenida São João, República, São Paulo, ...  01036-100  \n",
       "5   (Edifício George Loeb, 113, Rua da Quitanda, G...  01012-010  \n",
       "6   (Edifício Vicentina, Rua Doutor Bráulio Gomes,...  01043-000  \n",
       "7   (Edifício Canadá, Rua 15 de Novembro, Glicério...  01013-001  \n",
       "8   (Mosteiro de São Bento, Largo São Bento, Glicé...  01029-010  \n",
       "9   (30, Praça do Patriarca, Glicério, Sé, São Pau...  01002-010  \n",
       "10  (Edifício das Bandeiras, Rua 15 de Novembro, G...  01013-001  \n",
       "11  (Edifício Palácio da Polícia Civil, 527, Rua B...  01032-001  \n",
       "12  (40, Rua 3 de Dezembro, Glicério, Sé, São Paul...  01014-020  \n",
       "13  (32, Rua José Bonifácio, Glicério, Sé, São Pau...  01003-000  \n",
       "14  (Secretaria de Agricultura e Abastecimento do ...  01037-912  \n",
       "15  (303, Avenida Ipiranga, Vila Buarque, Repúblic...  01046-010  \n",
       "16  (895, Avenida Ipiranga, República, São Paulo, ...  01039-000  \n",
       "17  (323, Rua da Cantareira, Glicério, Sé, São Pau...  01024-100  \n",
       "18  (Edifício Conde Prates, 293, Rua Líbero Badaró...  01009-000  \n",
       "19  (Edifício Comandante Linneu Gomes, 86, Avenida...  01046-000  "
      ]
     },
     "execution_count": 40,
     "metadata": {},
     "output_type": "execute_result"
    }
   ],
   "source": [
    "df_geolocation3"
   ]
  },
  {
   "cell_type": "code",
   "execution_count": null,
   "metadata": {},
   "outputs": [],
   "source": [
    "df_geolocation3.dtypes"
   ]
  },
  {
   "cell_type": "code",
   "execution_count": null,
   "metadata": {},
   "outputs": [],
   "source": [
    "s = pd.Series(df_geolocation3['Zipcode'] )\n"
   ]
  },
  {
   "cell_type": "code",
   "execution_count": null,
   "metadata": {},
   "outputs": [],
   "source": [
    "#from pycep_correios import get_address_from_cep, WebService\n",
    "\n",
    "#df_geolocation3['new_address'] = df_geolocation3.progress_apply(\n",
    " #   lambda row: get_address_from_cep(row['Zipcode'], webservice=WebService.APICEP), axis=1\n",
    "#)\n",
    "\n",
    "#df.apply(lambda row: row['A'] + row['B'], axis=1)\n"
   ]
  },
  {
   "cell_type": "code",
   "execution_count": null,
   "metadata": {},
   "outputs": [],
   "source": [
    "df_geolocation3"
   ]
  },
  {
   "cell_type": "code",
   "execution_count": null,
   "metadata": {},
   "outputs": [],
   "source": [
    "df_geolocation3 = df_geolocation3.coalesce()"
   ]
  },
  {
   "cell_type": "code",
   "execution_count": null,
   "metadata": {},
   "outputs": [],
   "source": [
    "print(df_geolocation3.rdd.getNumPartitions())"
   ]
  },
  {
   "cell_type": "code",
   "execution_count": 75,
   "metadata": {},
   "outputs": [],
   "source": [
    "from pyspark.sql.types import StringType\n",
    "from pyspark.sql.functions import col, udf\n",
    "\n",
    "\n",
    "def general_f(reverse_method):\n",
    "    @udf(returnType = StringType())\n",
    "    def get_address(lat, lon):\n",
    "        concat = lat + ', ' + lon\n",
    "        reverse_method((concat))\n",
    "        return ''\n",
    "    return get_address\n",
    "   "
   ]
  },
  {
   "cell_type": "code",
   "execution_count": 76,
   "metadata": {},
   "outputs": [
    {
     "name": "stdout",
     "output_type": "stream",
     "text": [
      "+---------------------------+-------------------+-------------------+----------------+-----------------+-------+\n",
      "|geolocation_zip_code_prefix|    geolocation_lat|    geolocation_lng|geolocation_city|geolocation_state|address|\n",
      "+---------------------------+-------------------+-------------------+----------------+-----------------+-------+\n",
      "|                       1037| -23.54562128115268| -46.63929204800168|       São Paulo|               SP|      1|\n",
      "|                       1046|-23.546081127035535| -46.64482029837157|       São Paulo|               SP|      1|\n",
      "|                       1046| -23.54612896641469| -46.64295148361138|       São Paulo|               SP|      1|\n",
      "|                       1041|  -23.5443921648681| -46.63949930627844|       São Paulo|               SP|      1|\n",
      "|                       1035|-23.541577961711493| -46.64160722329613|       São Paulo|               SP|      1|\n",
      "|                       1012|-23.547762303364266| -46.63536053788448|       São Paulo|               SP|      1|\n",
      "|                       1047|-23.546273112412678| -46.64122516971552|       São Paulo|               SP|      1|\n",
      "|                       1013|-23.546923208436723|  -46.6342636964915|       São Paulo|               SP|      1|\n",
      "|                       1029|-23.543769055769133| -46.63427784085132|       São Paulo|               SP|      1|\n",
      "|                       1011|-23.547639550320632| -46.63603162315495|       São Paulo|               SP|      1|\n",
      "|                       1013|-23.547325128224376| -46.63418378613892|       São Paulo|               SP|      1|\n",
      "|                       1032| -23.53841810407414|-46.634778375266734|       São Paulo|               SP|      1|\n",
      "|                       1014|-23.546435343326205| -46.63383023397196|       São Paulo|               SP|      1|\n",
      "|                       1012|-23.548945985189434| -46.63467113292871|       São Paulo|               SP|      1|\n",
      "|                       1037|-23.545187340816042| -46.63785524104107|       São Paulo|               SP|      1|\n",
      "|                       1046|-23.546081127035535| -46.64482029837157|       São Paulo|               SP|      1|\n",
      "|                       1039|-23.541883009983316| -46.63991946670314|       São Paulo|               SP|      1|\n",
      "|                       1024|-23.541389521053937|-46.629899087812184|       São Paulo|               SP|      1|\n",
      "|                       1009| -23.54693540437998| -46.63658792659698|       São Paulo|               SP|      1|\n",
      "|                       1046|-23.545884279214015|-46.643163191240035|       São Paulo|               SP|      1|\n",
      "+---------------------------+-------------------+-------------------+----------------+-----------------+-------+\n",
      "only showing top 20 rows\n",
      "\n"
     ]
    }
   ],
   "source": [
    "df_geolocation2.show()"
   ]
  },
  {
   "cell_type": "code",
   "execution_count": 77,
   "metadata": {},
   "outputs": [
    {
     "name": "stderr",
     "output_type": "stream",
     "text": [
      "Traceback (most recent call last):\n",
      "  File \"/opt/spark/python/pyspark/serializers.py\", line 590, in dumps\n",
      "    return cloudpickle.dumps(obj, 2)\n",
      "  File \"/opt/spark/python/pyspark/cloudpickle.py\", line 863, in dumps\n",
      "    cp.dump(obj)\n",
      "  File \"/opt/spark/python/pyspark/cloudpickle.py\", line 260, in dump\n",
      "    return Pickler.dump(self, obj)\n",
      "  File \"/opt/anaconda3/lib/python3.6/pickle.py\", line 409, in dump\n",
      "    self.save(obj)\n",
      "  File \"/opt/anaconda3/lib/python3.6/pickle.py\", line 476, in save\n",
      "    f(self, obj) # Call unbound method with explicit self\n",
      "  File \"/opt/anaconda3/lib/python3.6/pickle.py\", line 736, in save_tuple\n",
      "    save(element)\n",
      "  File \"/opt/anaconda3/lib/python3.6/pickle.py\", line 476, in save\n",
      "    f(self, obj) # Call unbound method with explicit self\n",
      "  File \"/opt/spark/python/pyspark/cloudpickle.py\", line 400, in save_function\n",
      "    self.save_function_tuple(obj)\n",
      "  File \"/opt/spark/python/pyspark/cloudpickle.py\", line 549, in save_function_tuple\n",
      "    save(state)\n",
      "  File \"/opt/anaconda3/lib/python3.6/pickle.py\", line 476, in save\n",
      "    f(self, obj) # Call unbound method with explicit self\n",
      "  File \"/opt/anaconda3/lib/python3.6/pickle.py\", line 821, in save_dict\n",
      "    self._batch_setitems(obj.items())\n",
      "  File \"/opt/anaconda3/lib/python3.6/pickle.py\", line 847, in _batch_setitems\n",
      "    save(v)\n",
      "  File \"/opt/anaconda3/lib/python3.6/pickle.py\", line 476, in save\n",
      "    f(self, obj) # Call unbound method with explicit self\n",
      "  File \"/opt/anaconda3/lib/python3.6/pickle.py\", line 781, in save_list\n",
      "    self._batch_appends(obj)\n",
      "  File \"/opt/anaconda3/lib/python3.6/pickle.py\", line 808, in _batch_appends\n",
      "    save(tmp[0])\n",
      "  File \"/opt/anaconda3/lib/python3.6/pickle.py\", line 521, in save\n",
      "    self.save_reduce(obj=obj, *rv)\n",
      "  File \"/opt/anaconda3/lib/python3.6/pickle.py\", line 634, in save_reduce\n",
      "    save(state)\n",
      "  File \"/opt/anaconda3/lib/python3.6/pickle.py\", line 476, in save\n",
      "    f(self, obj) # Call unbound method with explicit self\n",
      "  File \"/opt/anaconda3/lib/python3.6/pickle.py\", line 821, in save_dict\n",
      "    self._batch_setitems(obj.items())\n",
      "  File \"/opt/anaconda3/lib/python3.6/pickle.py\", line 847, in _batch_setitems\n",
      "    save(v)\n",
      "  File \"/opt/anaconda3/lib/python3.6/pickle.py\", line 496, in save\n",
      "    rv = reduce(self.proto)\n",
      "TypeError: can't pickle _thread.lock objects\n"
     ]
    },
    {
     "ename": "PicklingError",
     "evalue": "Could not serialize object: TypeError: can't pickle _thread.lock objects",
     "output_type": "error",
     "traceback": [
      "\u001b[0;31m---------------------------------------------------------------------------\u001b[0m",
      "\u001b[0;31mTypeError\u001b[0m                                 Traceback (most recent call last)",
      "\u001b[0;32m/opt/spark/python/pyspark/serializers.py\u001b[0m in \u001b[0;36mdumps\u001b[0;34m(self, obj)\u001b[0m\n\u001b[1;32m    589\u001b[0m         \u001b[0;32mtry\u001b[0m\u001b[0;34m:\u001b[0m\u001b[0;34m\u001b[0m\u001b[0;34m\u001b[0m\u001b[0m\n\u001b[0;32m--> 590\u001b[0;31m             \u001b[0;32mreturn\u001b[0m \u001b[0mcloudpickle\u001b[0m\u001b[0;34m.\u001b[0m\u001b[0mdumps\u001b[0m\u001b[0;34m(\u001b[0m\u001b[0mobj\u001b[0m\u001b[0;34m,\u001b[0m \u001b[0;36m2\u001b[0m\u001b[0;34m)\u001b[0m\u001b[0;34m\u001b[0m\u001b[0;34m\u001b[0m\u001b[0m\n\u001b[0m\u001b[1;32m    591\u001b[0m         \u001b[0;32mexcept\u001b[0m \u001b[0mpickle\u001b[0m\u001b[0;34m.\u001b[0m\u001b[0mPickleError\u001b[0m\u001b[0;34m:\u001b[0m\u001b[0;34m\u001b[0m\u001b[0;34m\u001b[0m\u001b[0m\n",
      "\u001b[0;32m/opt/spark/python/pyspark/cloudpickle.py\u001b[0m in \u001b[0;36mdumps\u001b[0;34m(obj, protocol)\u001b[0m\n\u001b[1;32m    862\u001b[0m         \u001b[0mcp\u001b[0m \u001b[0;34m=\u001b[0m \u001b[0mCloudPickler\u001b[0m\u001b[0;34m(\u001b[0m\u001b[0mfile\u001b[0m\u001b[0;34m,\u001b[0m\u001b[0mprotocol\u001b[0m\u001b[0;34m)\u001b[0m\u001b[0;34m\u001b[0m\u001b[0;34m\u001b[0m\u001b[0m\n\u001b[0;32m--> 863\u001b[0;31m         \u001b[0mcp\u001b[0m\u001b[0;34m.\u001b[0m\u001b[0mdump\u001b[0m\u001b[0;34m(\u001b[0m\u001b[0mobj\u001b[0m\u001b[0;34m)\u001b[0m\u001b[0;34m\u001b[0m\u001b[0;34m\u001b[0m\u001b[0m\n\u001b[0m\u001b[1;32m    864\u001b[0m         \u001b[0;32mreturn\u001b[0m \u001b[0mfile\u001b[0m\u001b[0;34m.\u001b[0m\u001b[0mgetvalue\u001b[0m\u001b[0;34m(\u001b[0m\u001b[0;34m)\u001b[0m\u001b[0;34m\u001b[0m\u001b[0;34m\u001b[0m\u001b[0m\n",
      "\u001b[0;32m/opt/spark/python/pyspark/cloudpickle.py\u001b[0m in \u001b[0;36mdump\u001b[0;34m(self, obj)\u001b[0m\n\u001b[1;32m    259\u001b[0m         \u001b[0;32mtry\u001b[0m\u001b[0;34m:\u001b[0m\u001b[0;34m\u001b[0m\u001b[0;34m\u001b[0m\u001b[0m\n\u001b[0;32m--> 260\u001b[0;31m             \u001b[0;32mreturn\u001b[0m \u001b[0mPickler\u001b[0m\u001b[0;34m.\u001b[0m\u001b[0mdump\u001b[0m\u001b[0;34m(\u001b[0m\u001b[0mself\u001b[0m\u001b[0;34m,\u001b[0m \u001b[0mobj\u001b[0m\u001b[0;34m)\u001b[0m\u001b[0;34m\u001b[0m\u001b[0;34m\u001b[0m\u001b[0m\n\u001b[0m\u001b[1;32m    261\u001b[0m         \u001b[0;32mexcept\u001b[0m \u001b[0mRuntimeError\u001b[0m \u001b[0;32mas\u001b[0m \u001b[0me\u001b[0m\u001b[0;34m:\u001b[0m\u001b[0;34m\u001b[0m\u001b[0;34m\u001b[0m\u001b[0m\n",
      "\u001b[0;32m/opt/anaconda3/lib/python3.6/pickle.py\u001b[0m in \u001b[0;36mdump\u001b[0;34m(self, obj)\u001b[0m\n\u001b[1;32m    408\u001b[0m             \u001b[0mself\u001b[0m\u001b[0;34m.\u001b[0m\u001b[0mframer\u001b[0m\u001b[0;34m.\u001b[0m\u001b[0mstart_framing\u001b[0m\u001b[0;34m(\u001b[0m\u001b[0;34m)\u001b[0m\u001b[0;34m\u001b[0m\u001b[0;34m\u001b[0m\u001b[0m\n\u001b[0;32m--> 409\u001b[0;31m         \u001b[0mself\u001b[0m\u001b[0;34m.\u001b[0m\u001b[0msave\u001b[0m\u001b[0;34m(\u001b[0m\u001b[0mobj\u001b[0m\u001b[0;34m)\u001b[0m\u001b[0;34m\u001b[0m\u001b[0;34m\u001b[0m\u001b[0m\n\u001b[0m\u001b[1;32m    410\u001b[0m         \u001b[0mself\u001b[0m\u001b[0;34m.\u001b[0m\u001b[0mwrite\u001b[0m\u001b[0;34m(\u001b[0m\u001b[0mSTOP\u001b[0m\u001b[0;34m)\u001b[0m\u001b[0;34m\u001b[0m\u001b[0;34m\u001b[0m\u001b[0m\n",
      "\u001b[0;32m/opt/anaconda3/lib/python3.6/pickle.py\u001b[0m in \u001b[0;36msave\u001b[0;34m(self, obj, save_persistent_id)\u001b[0m\n\u001b[1;32m    475\u001b[0m         \u001b[0;32mif\u001b[0m \u001b[0mf\u001b[0m \u001b[0;32mis\u001b[0m \u001b[0;32mnot\u001b[0m \u001b[0;32mNone\u001b[0m\u001b[0;34m:\u001b[0m\u001b[0;34m\u001b[0m\u001b[0;34m\u001b[0m\u001b[0m\n\u001b[0;32m--> 476\u001b[0;31m             \u001b[0mf\u001b[0m\u001b[0;34m(\u001b[0m\u001b[0mself\u001b[0m\u001b[0;34m,\u001b[0m \u001b[0mobj\u001b[0m\u001b[0;34m)\u001b[0m \u001b[0;31m# Call unbound method with explicit self\u001b[0m\u001b[0;34m\u001b[0m\u001b[0;34m\u001b[0m\u001b[0m\n\u001b[0m\u001b[1;32m    477\u001b[0m             \u001b[0;32mreturn\u001b[0m\u001b[0;34m\u001b[0m\u001b[0;34m\u001b[0m\u001b[0m\n",
      "\u001b[0;32m/opt/anaconda3/lib/python3.6/pickle.py\u001b[0m in \u001b[0;36msave_tuple\u001b[0;34m(self, obj)\u001b[0m\n\u001b[1;32m    735\u001b[0m             \u001b[0;32mfor\u001b[0m \u001b[0melement\u001b[0m \u001b[0;32min\u001b[0m \u001b[0mobj\u001b[0m\u001b[0;34m:\u001b[0m\u001b[0;34m\u001b[0m\u001b[0;34m\u001b[0m\u001b[0m\n\u001b[0;32m--> 736\u001b[0;31m                 \u001b[0msave\u001b[0m\u001b[0;34m(\u001b[0m\u001b[0melement\u001b[0m\u001b[0;34m)\u001b[0m\u001b[0;34m\u001b[0m\u001b[0;34m\u001b[0m\u001b[0m\n\u001b[0m\u001b[1;32m    737\u001b[0m             \u001b[0;31m# Subtle.  Same as in the big comment below.\u001b[0m\u001b[0;34m\u001b[0m\u001b[0;34m\u001b[0m\u001b[0;34m\u001b[0m\u001b[0m\n",
      "\u001b[0;32m/opt/anaconda3/lib/python3.6/pickle.py\u001b[0m in \u001b[0;36msave\u001b[0;34m(self, obj, save_persistent_id)\u001b[0m\n\u001b[1;32m    475\u001b[0m         \u001b[0;32mif\u001b[0m \u001b[0mf\u001b[0m \u001b[0;32mis\u001b[0m \u001b[0;32mnot\u001b[0m \u001b[0;32mNone\u001b[0m\u001b[0;34m:\u001b[0m\u001b[0;34m\u001b[0m\u001b[0;34m\u001b[0m\u001b[0m\n\u001b[0;32m--> 476\u001b[0;31m             \u001b[0mf\u001b[0m\u001b[0;34m(\u001b[0m\u001b[0mself\u001b[0m\u001b[0;34m,\u001b[0m \u001b[0mobj\u001b[0m\u001b[0;34m)\u001b[0m \u001b[0;31m# Call unbound method with explicit self\u001b[0m\u001b[0;34m\u001b[0m\u001b[0;34m\u001b[0m\u001b[0m\n\u001b[0m\u001b[1;32m    477\u001b[0m             \u001b[0;32mreturn\u001b[0m\u001b[0;34m\u001b[0m\u001b[0;34m\u001b[0m\u001b[0m\n",
      "\u001b[0;32m/opt/spark/python/pyspark/cloudpickle.py\u001b[0m in \u001b[0;36msave_function\u001b[0;34m(self, obj, name)\u001b[0m\n\u001b[1;32m    399\u001b[0m                 or themodule is None):\n\u001b[0;32m--> 400\u001b[0;31m             \u001b[0mself\u001b[0m\u001b[0;34m.\u001b[0m\u001b[0msave_function_tuple\u001b[0m\u001b[0;34m(\u001b[0m\u001b[0mobj\u001b[0m\u001b[0;34m)\u001b[0m\u001b[0;34m\u001b[0m\u001b[0;34m\u001b[0m\u001b[0m\n\u001b[0m\u001b[1;32m    401\u001b[0m             \u001b[0;32mreturn\u001b[0m\u001b[0;34m\u001b[0m\u001b[0;34m\u001b[0m\u001b[0m\n",
      "\u001b[0;32m/opt/spark/python/pyspark/cloudpickle.py\u001b[0m in \u001b[0;36msave_function_tuple\u001b[0;34m(self, func)\u001b[0m\n\u001b[1;32m    548\u001b[0m             \u001b[0mstate\u001b[0m\u001b[0;34m[\u001b[0m\u001b[0;34m'qualname'\u001b[0m\u001b[0;34m]\u001b[0m \u001b[0;34m=\u001b[0m \u001b[0mfunc\u001b[0m\u001b[0;34m.\u001b[0m\u001b[0m__qualname__\u001b[0m\u001b[0;34m\u001b[0m\u001b[0;34m\u001b[0m\u001b[0m\n\u001b[0;32m--> 549\u001b[0;31m         \u001b[0msave\u001b[0m\u001b[0;34m(\u001b[0m\u001b[0mstate\u001b[0m\u001b[0;34m)\u001b[0m\u001b[0;34m\u001b[0m\u001b[0;34m\u001b[0m\u001b[0m\n\u001b[0m\u001b[1;32m    550\u001b[0m         \u001b[0mwrite\u001b[0m\u001b[0;34m(\u001b[0m\u001b[0mpickle\u001b[0m\u001b[0;34m.\u001b[0m\u001b[0mTUPLE\u001b[0m\u001b[0;34m)\u001b[0m\u001b[0;34m\u001b[0m\u001b[0;34m\u001b[0m\u001b[0m\n",
      "\u001b[0;32m/opt/anaconda3/lib/python3.6/pickle.py\u001b[0m in \u001b[0;36msave\u001b[0;34m(self, obj, save_persistent_id)\u001b[0m\n\u001b[1;32m    475\u001b[0m         \u001b[0;32mif\u001b[0m \u001b[0mf\u001b[0m \u001b[0;32mis\u001b[0m \u001b[0;32mnot\u001b[0m \u001b[0;32mNone\u001b[0m\u001b[0;34m:\u001b[0m\u001b[0;34m\u001b[0m\u001b[0;34m\u001b[0m\u001b[0m\n\u001b[0;32m--> 476\u001b[0;31m             \u001b[0mf\u001b[0m\u001b[0;34m(\u001b[0m\u001b[0mself\u001b[0m\u001b[0;34m,\u001b[0m \u001b[0mobj\u001b[0m\u001b[0;34m)\u001b[0m \u001b[0;31m# Call unbound method with explicit self\u001b[0m\u001b[0;34m\u001b[0m\u001b[0;34m\u001b[0m\u001b[0m\n\u001b[0m\u001b[1;32m    477\u001b[0m             \u001b[0;32mreturn\u001b[0m\u001b[0;34m\u001b[0m\u001b[0;34m\u001b[0m\u001b[0m\n",
      "\u001b[0;32m/opt/anaconda3/lib/python3.6/pickle.py\u001b[0m in \u001b[0;36msave_dict\u001b[0;34m(self, obj)\u001b[0m\n\u001b[1;32m    820\u001b[0m         \u001b[0mself\u001b[0m\u001b[0;34m.\u001b[0m\u001b[0mmemoize\u001b[0m\u001b[0;34m(\u001b[0m\u001b[0mobj\u001b[0m\u001b[0;34m)\u001b[0m\u001b[0;34m\u001b[0m\u001b[0;34m\u001b[0m\u001b[0m\n\u001b[0;32m--> 821\u001b[0;31m         \u001b[0mself\u001b[0m\u001b[0;34m.\u001b[0m\u001b[0m_batch_setitems\u001b[0m\u001b[0;34m(\u001b[0m\u001b[0mobj\u001b[0m\u001b[0;34m.\u001b[0m\u001b[0mitems\u001b[0m\u001b[0;34m(\u001b[0m\u001b[0;34m)\u001b[0m\u001b[0;34m)\u001b[0m\u001b[0;34m\u001b[0m\u001b[0;34m\u001b[0m\u001b[0m\n\u001b[0m\u001b[1;32m    822\u001b[0m \u001b[0;34m\u001b[0m\u001b[0m\n",
      "\u001b[0;32m/opt/anaconda3/lib/python3.6/pickle.py\u001b[0m in \u001b[0;36m_batch_setitems\u001b[0;34m(self, items)\u001b[0m\n\u001b[1;32m    846\u001b[0m                     \u001b[0msave\u001b[0m\u001b[0;34m(\u001b[0m\u001b[0mk\u001b[0m\u001b[0;34m)\u001b[0m\u001b[0;34m\u001b[0m\u001b[0;34m\u001b[0m\u001b[0m\n\u001b[0;32m--> 847\u001b[0;31m                     \u001b[0msave\u001b[0m\u001b[0;34m(\u001b[0m\u001b[0mv\u001b[0m\u001b[0;34m)\u001b[0m\u001b[0;34m\u001b[0m\u001b[0;34m\u001b[0m\u001b[0m\n\u001b[0m\u001b[1;32m    848\u001b[0m                 \u001b[0mwrite\u001b[0m\u001b[0;34m(\u001b[0m\u001b[0mSETITEMS\u001b[0m\u001b[0;34m)\u001b[0m\u001b[0;34m\u001b[0m\u001b[0;34m\u001b[0m\u001b[0m\n",
      "\u001b[0;32m/opt/anaconda3/lib/python3.6/pickle.py\u001b[0m in \u001b[0;36msave\u001b[0;34m(self, obj, save_persistent_id)\u001b[0m\n\u001b[1;32m    475\u001b[0m         \u001b[0;32mif\u001b[0m \u001b[0mf\u001b[0m \u001b[0;32mis\u001b[0m \u001b[0;32mnot\u001b[0m \u001b[0;32mNone\u001b[0m\u001b[0;34m:\u001b[0m\u001b[0;34m\u001b[0m\u001b[0;34m\u001b[0m\u001b[0m\n\u001b[0;32m--> 476\u001b[0;31m             \u001b[0mf\u001b[0m\u001b[0;34m(\u001b[0m\u001b[0mself\u001b[0m\u001b[0;34m,\u001b[0m \u001b[0mobj\u001b[0m\u001b[0;34m)\u001b[0m \u001b[0;31m# Call unbound method with explicit self\u001b[0m\u001b[0;34m\u001b[0m\u001b[0;34m\u001b[0m\u001b[0m\n\u001b[0m\u001b[1;32m    477\u001b[0m             \u001b[0;32mreturn\u001b[0m\u001b[0;34m\u001b[0m\u001b[0;34m\u001b[0m\u001b[0m\n",
      "\u001b[0;32m/opt/anaconda3/lib/python3.6/pickle.py\u001b[0m in \u001b[0;36msave_list\u001b[0;34m(self, obj)\u001b[0m\n\u001b[1;32m    780\u001b[0m         \u001b[0mself\u001b[0m\u001b[0;34m.\u001b[0m\u001b[0mmemoize\u001b[0m\u001b[0;34m(\u001b[0m\u001b[0mobj\u001b[0m\u001b[0;34m)\u001b[0m\u001b[0;34m\u001b[0m\u001b[0;34m\u001b[0m\u001b[0m\n\u001b[0;32m--> 781\u001b[0;31m         \u001b[0mself\u001b[0m\u001b[0;34m.\u001b[0m\u001b[0m_batch_appends\u001b[0m\u001b[0;34m(\u001b[0m\u001b[0mobj\u001b[0m\u001b[0;34m)\u001b[0m\u001b[0;34m\u001b[0m\u001b[0;34m\u001b[0m\u001b[0m\n\u001b[0m\u001b[1;32m    782\u001b[0m \u001b[0;34m\u001b[0m\u001b[0m\n",
      "\u001b[0;32m/opt/anaconda3/lib/python3.6/pickle.py\u001b[0m in \u001b[0;36m_batch_appends\u001b[0;34m(self, items)\u001b[0m\n\u001b[1;32m    807\u001b[0m             \u001b[0;32melif\u001b[0m \u001b[0mn\u001b[0m\u001b[0;34m:\u001b[0m\u001b[0;34m\u001b[0m\u001b[0;34m\u001b[0m\u001b[0m\n\u001b[0;32m--> 808\u001b[0;31m                 \u001b[0msave\u001b[0m\u001b[0;34m(\u001b[0m\u001b[0mtmp\u001b[0m\u001b[0;34m[\u001b[0m\u001b[0;36m0\u001b[0m\u001b[0;34m]\u001b[0m\u001b[0;34m)\u001b[0m\u001b[0;34m\u001b[0m\u001b[0;34m\u001b[0m\u001b[0m\n\u001b[0m\u001b[1;32m    809\u001b[0m                 \u001b[0mwrite\u001b[0m\u001b[0;34m(\u001b[0m\u001b[0mAPPEND\u001b[0m\u001b[0;34m)\u001b[0m\u001b[0;34m\u001b[0m\u001b[0;34m\u001b[0m\u001b[0m\n",
      "\u001b[0;32m/opt/anaconda3/lib/python3.6/pickle.py\u001b[0m in \u001b[0;36msave\u001b[0;34m(self, obj, save_persistent_id)\u001b[0m\n\u001b[1;32m    520\u001b[0m         \u001b[0;31m# Save the reduce() output and finally memoize the object\u001b[0m\u001b[0;34m\u001b[0m\u001b[0;34m\u001b[0m\u001b[0;34m\u001b[0m\u001b[0m\n\u001b[0;32m--> 521\u001b[0;31m         \u001b[0mself\u001b[0m\u001b[0;34m.\u001b[0m\u001b[0msave_reduce\u001b[0m\u001b[0;34m(\u001b[0m\u001b[0mobj\u001b[0m\u001b[0;34m=\u001b[0m\u001b[0mobj\u001b[0m\u001b[0;34m,\u001b[0m \u001b[0;34m*\u001b[0m\u001b[0mrv\u001b[0m\u001b[0;34m)\u001b[0m\u001b[0;34m\u001b[0m\u001b[0;34m\u001b[0m\u001b[0m\n\u001b[0m\u001b[1;32m    522\u001b[0m \u001b[0;34m\u001b[0m\u001b[0m\n",
      "\u001b[0;32m/opt/anaconda3/lib/python3.6/pickle.py\u001b[0m in \u001b[0;36msave_reduce\u001b[0;34m(self, func, args, state, listitems, dictitems, obj)\u001b[0m\n\u001b[1;32m    633\u001b[0m         \u001b[0;32mif\u001b[0m \u001b[0mstate\u001b[0m \u001b[0;32mis\u001b[0m \u001b[0;32mnot\u001b[0m \u001b[0;32mNone\u001b[0m\u001b[0;34m:\u001b[0m\u001b[0;34m\u001b[0m\u001b[0;34m\u001b[0m\u001b[0m\n\u001b[0;32m--> 634\u001b[0;31m             \u001b[0msave\u001b[0m\u001b[0;34m(\u001b[0m\u001b[0mstate\u001b[0m\u001b[0;34m)\u001b[0m\u001b[0;34m\u001b[0m\u001b[0;34m\u001b[0m\u001b[0m\n\u001b[0m\u001b[1;32m    635\u001b[0m             \u001b[0mwrite\u001b[0m\u001b[0;34m(\u001b[0m\u001b[0mBUILD\u001b[0m\u001b[0;34m)\u001b[0m\u001b[0;34m\u001b[0m\u001b[0;34m\u001b[0m\u001b[0m\n",
      "\u001b[0;32m/opt/anaconda3/lib/python3.6/pickle.py\u001b[0m in \u001b[0;36msave\u001b[0;34m(self, obj, save_persistent_id)\u001b[0m\n\u001b[1;32m    475\u001b[0m         \u001b[0;32mif\u001b[0m \u001b[0mf\u001b[0m \u001b[0;32mis\u001b[0m \u001b[0;32mnot\u001b[0m \u001b[0;32mNone\u001b[0m\u001b[0;34m:\u001b[0m\u001b[0;34m\u001b[0m\u001b[0;34m\u001b[0m\u001b[0m\n\u001b[0;32m--> 476\u001b[0;31m             \u001b[0mf\u001b[0m\u001b[0;34m(\u001b[0m\u001b[0mself\u001b[0m\u001b[0;34m,\u001b[0m \u001b[0mobj\u001b[0m\u001b[0;34m)\u001b[0m \u001b[0;31m# Call unbound method with explicit self\u001b[0m\u001b[0;34m\u001b[0m\u001b[0;34m\u001b[0m\u001b[0m\n\u001b[0m\u001b[1;32m    477\u001b[0m             \u001b[0;32mreturn\u001b[0m\u001b[0;34m\u001b[0m\u001b[0;34m\u001b[0m\u001b[0m\n",
      "\u001b[0;32m/opt/anaconda3/lib/python3.6/pickle.py\u001b[0m in \u001b[0;36msave_dict\u001b[0;34m(self, obj)\u001b[0m\n\u001b[1;32m    820\u001b[0m         \u001b[0mself\u001b[0m\u001b[0;34m.\u001b[0m\u001b[0mmemoize\u001b[0m\u001b[0;34m(\u001b[0m\u001b[0mobj\u001b[0m\u001b[0;34m)\u001b[0m\u001b[0;34m\u001b[0m\u001b[0;34m\u001b[0m\u001b[0m\n\u001b[0;32m--> 821\u001b[0;31m         \u001b[0mself\u001b[0m\u001b[0;34m.\u001b[0m\u001b[0m_batch_setitems\u001b[0m\u001b[0;34m(\u001b[0m\u001b[0mobj\u001b[0m\u001b[0;34m.\u001b[0m\u001b[0mitems\u001b[0m\u001b[0;34m(\u001b[0m\u001b[0;34m)\u001b[0m\u001b[0;34m)\u001b[0m\u001b[0;34m\u001b[0m\u001b[0;34m\u001b[0m\u001b[0m\n\u001b[0m\u001b[1;32m    822\u001b[0m \u001b[0;34m\u001b[0m\u001b[0m\n",
      "\u001b[0;32m/opt/anaconda3/lib/python3.6/pickle.py\u001b[0m in \u001b[0;36m_batch_setitems\u001b[0;34m(self, items)\u001b[0m\n\u001b[1;32m    846\u001b[0m                     \u001b[0msave\u001b[0m\u001b[0;34m(\u001b[0m\u001b[0mk\u001b[0m\u001b[0;34m)\u001b[0m\u001b[0;34m\u001b[0m\u001b[0;34m\u001b[0m\u001b[0m\n\u001b[0;32m--> 847\u001b[0;31m                     \u001b[0msave\u001b[0m\u001b[0;34m(\u001b[0m\u001b[0mv\u001b[0m\u001b[0;34m)\u001b[0m\u001b[0;34m\u001b[0m\u001b[0;34m\u001b[0m\u001b[0m\n\u001b[0m\u001b[1;32m    848\u001b[0m                 \u001b[0mwrite\u001b[0m\u001b[0;34m(\u001b[0m\u001b[0mSETITEMS\u001b[0m\u001b[0;34m)\u001b[0m\u001b[0;34m\u001b[0m\u001b[0;34m\u001b[0m\u001b[0m\n",
      "\u001b[0;32m/opt/anaconda3/lib/python3.6/pickle.py\u001b[0m in \u001b[0;36msave\u001b[0;34m(self, obj, save_persistent_id)\u001b[0m\n\u001b[1;32m    495\u001b[0m             \u001b[0;32mif\u001b[0m \u001b[0mreduce\u001b[0m \u001b[0;32mis\u001b[0m \u001b[0;32mnot\u001b[0m \u001b[0;32mNone\u001b[0m\u001b[0;34m:\u001b[0m\u001b[0;34m\u001b[0m\u001b[0;34m\u001b[0m\u001b[0m\n\u001b[0;32m--> 496\u001b[0;31m                 \u001b[0mrv\u001b[0m \u001b[0;34m=\u001b[0m \u001b[0mreduce\u001b[0m\u001b[0;34m(\u001b[0m\u001b[0mself\u001b[0m\u001b[0;34m.\u001b[0m\u001b[0mproto\u001b[0m\u001b[0;34m)\u001b[0m\u001b[0;34m\u001b[0m\u001b[0;34m\u001b[0m\u001b[0m\n\u001b[0m\u001b[1;32m    497\u001b[0m             \u001b[0;32melse\u001b[0m\u001b[0;34m:\u001b[0m\u001b[0;34m\u001b[0m\u001b[0;34m\u001b[0m\u001b[0m\n",
      "\u001b[0;31mTypeError\u001b[0m: can't pickle _thread.lock objects",
      "\nDuring handling of the above exception, another exception occurred:\n",
      "\u001b[0;31mPicklingError\u001b[0m                             Traceback (most recent call last)",
      "\u001b[0;32m<ipython-input-77-0f8314cc8b11>\u001b[0m in \u001b[0;36m<module>\u001b[0;34m()\u001b[0m\n\u001b[0;32m----> 1\u001b[0;31m \u001b[0mdf_geolocation2\u001b[0m \u001b[0;34m=\u001b[0m \u001b[0mdf_geolocation2\u001b[0m\u001b[0;34m.\u001b[0m\u001b[0mwithColumn\u001b[0m\u001b[0;34m(\u001b[0m\u001b[0;34m'address'\u001b[0m\u001b[0;34m,\u001b[0m \u001b[0mgeneral_f\u001b[0m\u001b[0;34m(\u001b[0m\u001b[0mreverse\u001b[0m\u001b[0;34m)\u001b[0m\u001b[0;34m(\u001b[0m\u001b[0mcol\u001b[0m\u001b[0;34m(\u001b[0m\u001b[0;34m'geolocation_lat'\u001b[0m\u001b[0;34m)\u001b[0m\u001b[0;34m,\u001b[0m \u001b[0mcol\u001b[0m\u001b[0;34m(\u001b[0m\u001b[0;34m'geolocation_lng'\u001b[0m\u001b[0;34m)\u001b[0m\u001b[0;34m)\u001b[0m\u001b[0;34m)\u001b[0m\u001b[0;34m\u001b[0m\u001b[0;34m\u001b[0m\u001b[0m\n\u001b[0m",
      "\u001b[0;32m/opt/spark/python/pyspark/sql/udf.py\u001b[0m in \u001b[0;36mwrapper\u001b[0;34m(*args)\u001b[0m\n\u001b[1;32m    187\u001b[0m         \u001b[0;34m@\u001b[0m\u001b[0mfunctools\u001b[0m\u001b[0;34m.\u001b[0m\u001b[0mwraps\u001b[0m\u001b[0;34m(\u001b[0m\u001b[0mself\u001b[0m\u001b[0;34m.\u001b[0m\u001b[0mfunc\u001b[0m\u001b[0;34m,\u001b[0m \u001b[0massigned\u001b[0m\u001b[0;34m=\u001b[0m\u001b[0massignments\u001b[0m\u001b[0;34m)\u001b[0m\u001b[0;34m\u001b[0m\u001b[0;34m\u001b[0m\u001b[0m\n\u001b[1;32m    188\u001b[0m         \u001b[0;32mdef\u001b[0m \u001b[0mwrapper\u001b[0m\u001b[0;34m(\u001b[0m\u001b[0;34m*\u001b[0m\u001b[0margs\u001b[0m\u001b[0;34m)\u001b[0m\u001b[0;34m:\u001b[0m\u001b[0;34m\u001b[0m\u001b[0;34m\u001b[0m\u001b[0m\n\u001b[0;32m--> 189\u001b[0;31m             \u001b[0;32mreturn\u001b[0m \u001b[0mself\u001b[0m\u001b[0;34m(\u001b[0m\u001b[0;34m*\u001b[0m\u001b[0margs\u001b[0m\u001b[0;34m)\u001b[0m\u001b[0;34m\u001b[0m\u001b[0;34m\u001b[0m\u001b[0m\n\u001b[0m\u001b[1;32m    190\u001b[0m \u001b[0;34m\u001b[0m\u001b[0m\n\u001b[1;32m    191\u001b[0m         \u001b[0mwrapper\u001b[0m\u001b[0;34m.\u001b[0m\u001b[0m__name__\u001b[0m \u001b[0;34m=\u001b[0m \u001b[0mself\u001b[0m\u001b[0;34m.\u001b[0m\u001b[0m_name\u001b[0m\u001b[0;34m\u001b[0m\u001b[0;34m\u001b[0m\u001b[0m\n",
      "\u001b[0;32m/opt/spark/python/pyspark/sql/udf.py\u001b[0m in \u001b[0;36m__call__\u001b[0;34m(self, *cols)\u001b[0m\n\u001b[1;32m    165\u001b[0m \u001b[0;34m\u001b[0m\u001b[0m\n\u001b[1;32m    166\u001b[0m     \u001b[0;32mdef\u001b[0m \u001b[0m__call__\u001b[0m\u001b[0;34m(\u001b[0m\u001b[0mself\u001b[0m\u001b[0;34m,\u001b[0m \u001b[0;34m*\u001b[0m\u001b[0mcols\u001b[0m\u001b[0;34m)\u001b[0m\u001b[0;34m:\u001b[0m\u001b[0;34m\u001b[0m\u001b[0;34m\u001b[0m\u001b[0m\n\u001b[0;32m--> 167\u001b[0;31m         \u001b[0mjudf\u001b[0m \u001b[0;34m=\u001b[0m \u001b[0mself\u001b[0m\u001b[0;34m.\u001b[0m\u001b[0m_judf\u001b[0m\u001b[0;34m\u001b[0m\u001b[0;34m\u001b[0m\u001b[0m\n\u001b[0m\u001b[1;32m    168\u001b[0m         \u001b[0msc\u001b[0m \u001b[0;34m=\u001b[0m \u001b[0mSparkContext\u001b[0m\u001b[0;34m.\u001b[0m\u001b[0m_active_spark_context\u001b[0m\u001b[0;34m\u001b[0m\u001b[0;34m\u001b[0m\u001b[0m\n\u001b[1;32m    169\u001b[0m         \u001b[0;32mreturn\u001b[0m \u001b[0mColumn\u001b[0m\u001b[0;34m(\u001b[0m\u001b[0mjudf\u001b[0m\u001b[0;34m.\u001b[0m\u001b[0mapply\u001b[0m\u001b[0;34m(\u001b[0m\u001b[0m_to_seq\u001b[0m\u001b[0;34m(\u001b[0m\u001b[0msc\u001b[0m\u001b[0;34m,\u001b[0m \u001b[0mcols\u001b[0m\u001b[0;34m,\u001b[0m \u001b[0m_to_java_column\u001b[0m\u001b[0;34m)\u001b[0m\u001b[0;34m)\u001b[0m\u001b[0;34m)\u001b[0m\u001b[0;34m\u001b[0m\u001b[0;34m\u001b[0m\u001b[0m\n",
      "\u001b[0;32m/opt/spark/python/pyspark/sql/udf.py\u001b[0m in \u001b[0;36m_judf\u001b[0;34m(self)\u001b[0m\n\u001b[1;32m    149\u001b[0m         \u001b[0;31m# and should have a minimal performance impact.\u001b[0m\u001b[0;34m\u001b[0m\u001b[0;34m\u001b[0m\u001b[0;34m\u001b[0m\u001b[0m\n\u001b[1;32m    150\u001b[0m         \u001b[0;32mif\u001b[0m \u001b[0mself\u001b[0m\u001b[0;34m.\u001b[0m\u001b[0m_judf_placeholder\u001b[0m \u001b[0;32mis\u001b[0m \u001b[0;32mNone\u001b[0m\u001b[0;34m:\u001b[0m\u001b[0;34m\u001b[0m\u001b[0;34m\u001b[0m\u001b[0m\n\u001b[0;32m--> 151\u001b[0;31m             \u001b[0mself\u001b[0m\u001b[0;34m.\u001b[0m\u001b[0m_judf_placeholder\u001b[0m \u001b[0;34m=\u001b[0m \u001b[0mself\u001b[0m\u001b[0;34m.\u001b[0m\u001b[0m_create_judf\u001b[0m\u001b[0;34m(\u001b[0m\u001b[0;34m)\u001b[0m\u001b[0;34m\u001b[0m\u001b[0;34m\u001b[0m\u001b[0m\n\u001b[0m\u001b[1;32m    152\u001b[0m         \u001b[0;32mreturn\u001b[0m \u001b[0mself\u001b[0m\u001b[0;34m.\u001b[0m\u001b[0m_judf_placeholder\u001b[0m\u001b[0;34m\u001b[0m\u001b[0;34m\u001b[0m\u001b[0m\n\u001b[1;32m    153\u001b[0m \u001b[0;34m\u001b[0m\u001b[0m\n",
      "\u001b[0;32m/opt/spark/python/pyspark/sql/udf.py\u001b[0m in \u001b[0;36m_create_judf\u001b[0;34m(self)\u001b[0m\n\u001b[1;32m    158\u001b[0m         \u001b[0msc\u001b[0m \u001b[0;34m=\u001b[0m \u001b[0mspark\u001b[0m\u001b[0;34m.\u001b[0m\u001b[0msparkContext\u001b[0m\u001b[0;34m\u001b[0m\u001b[0;34m\u001b[0m\u001b[0m\n\u001b[1;32m    159\u001b[0m \u001b[0;34m\u001b[0m\u001b[0m\n\u001b[0;32m--> 160\u001b[0;31m         \u001b[0mwrapped_func\u001b[0m \u001b[0;34m=\u001b[0m \u001b[0m_wrap_function\u001b[0m\u001b[0;34m(\u001b[0m\u001b[0msc\u001b[0m\u001b[0;34m,\u001b[0m \u001b[0mself\u001b[0m\u001b[0;34m.\u001b[0m\u001b[0mfunc\u001b[0m\u001b[0;34m,\u001b[0m \u001b[0mself\u001b[0m\u001b[0;34m.\u001b[0m\u001b[0mreturnType\u001b[0m\u001b[0;34m)\u001b[0m\u001b[0;34m\u001b[0m\u001b[0;34m\u001b[0m\u001b[0m\n\u001b[0m\u001b[1;32m    161\u001b[0m         \u001b[0mjdt\u001b[0m \u001b[0;34m=\u001b[0m \u001b[0mspark\u001b[0m\u001b[0;34m.\u001b[0m\u001b[0m_jsparkSession\u001b[0m\u001b[0;34m.\u001b[0m\u001b[0mparseDataType\u001b[0m\u001b[0;34m(\u001b[0m\u001b[0mself\u001b[0m\u001b[0;34m.\u001b[0m\u001b[0mreturnType\u001b[0m\u001b[0;34m.\u001b[0m\u001b[0mjson\u001b[0m\u001b[0;34m(\u001b[0m\u001b[0;34m)\u001b[0m\u001b[0;34m)\u001b[0m\u001b[0;34m\u001b[0m\u001b[0;34m\u001b[0m\u001b[0m\n\u001b[1;32m    162\u001b[0m         judf = sc._jvm.org.apache.spark.sql.execution.python.UserDefinedPythonFunction(\n",
      "\u001b[0;32m/opt/spark/python/pyspark/sql/udf.py\u001b[0m in \u001b[0;36m_wrap_function\u001b[0;34m(sc, func, returnType)\u001b[0m\n\u001b[1;32m     33\u001b[0m \u001b[0;32mdef\u001b[0m \u001b[0m_wrap_function\u001b[0m\u001b[0;34m(\u001b[0m\u001b[0msc\u001b[0m\u001b[0;34m,\u001b[0m \u001b[0mfunc\u001b[0m\u001b[0;34m,\u001b[0m \u001b[0mreturnType\u001b[0m\u001b[0;34m)\u001b[0m\u001b[0;34m:\u001b[0m\u001b[0;34m\u001b[0m\u001b[0;34m\u001b[0m\u001b[0m\n\u001b[1;32m     34\u001b[0m     \u001b[0mcommand\u001b[0m \u001b[0;34m=\u001b[0m \u001b[0;34m(\u001b[0m\u001b[0mfunc\u001b[0m\u001b[0;34m,\u001b[0m \u001b[0mreturnType\u001b[0m\u001b[0;34m)\u001b[0m\u001b[0;34m\u001b[0m\u001b[0;34m\u001b[0m\u001b[0m\n\u001b[0;32m---> 35\u001b[0;31m     \u001b[0mpickled_command\u001b[0m\u001b[0;34m,\u001b[0m \u001b[0mbroadcast_vars\u001b[0m\u001b[0;34m,\u001b[0m \u001b[0menv\u001b[0m\u001b[0;34m,\u001b[0m \u001b[0mincludes\u001b[0m \u001b[0;34m=\u001b[0m \u001b[0m_prepare_for_python_RDD\u001b[0m\u001b[0;34m(\u001b[0m\u001b[0msc\u001b[0m\u001b[0;34m,\u001b[0m \u001b[0mcommand\u001b[0m\u001b[0;34m)\u001b[0m\u001b[0;34m\u001b[0m\u001b[0;34m\u001b[0m\u001b[0m\n\u001b[0m\u001b[1;32m     36\u001b[0m     return sc._jvm.PythonFunction(bytearray(pickled_command), env, includes, sc.pythonExec,\n\u001b[1;32m     37\u001b[0m                                   sc.pythonVer, broadcast_vars, sc._javaAccumulator)\n",
      "\u001b[0;32m/opt/spark/python/pyspark/rdd.py\u001b[0m in \u001b[0;36m_prepare_for_python_RDD\u001b[0;34m(sc, command)\u001b[0m\n\u001b[1;32m   2418\u001b[0m     \u001b[0;31m# the serialized command will be compressed by broadcast\u001b[0m\u001b[0;34m\u001b[0m\u001b[0;34m\u001b[0m\u001b[0;34m\u001b[0m\u001b[0m\n\u001b[1;32m   2419\u001b[0m     \u001b[0mser\u001b[0m \u001b[0;34m=\u001b[0m \u001b[0mCloudPickleSerializer\u001b[0m\u001b[0;34m(\u001b[0m\u001b[0;34m)\u001b[0m\u001b[0;34m\u001b[0m\u001b[0;34m\u001b[0m\u001b[0m\n\u001b[0;32m-> 2420\u001b[0;31m     \u001b[0mpickled_command\u001b[0m \u001b[0;34m=\u001b[0m \u001b[0mser\u001b[0m\u001b[0;34m.\u001b[0m\u001b[0mdumps\u001b[0m\u001b[0;34m(\u001b[0m\u001b[0mcommand\u001b[0m\u001b[0;34m)\u001b[0m\u001b[0;34m\u001b[0m\u001b[0;34m\u001b[0m\u001b[0m\n\u001b[0m\u001b[1;32m   2421\u001b[0m     \u001b[0;32mif\u001b[0m \u001b[0mlen\u001b[0m\u001b[0;34m(\u001b[0m\u001b[0mpickled_command\u001b[0m\u001b[0;34m)\u001b[0m \u001b[0;34m>\u001b[0m \u001b[0;34m(\u001b[0m\u001b[0;36m1\u001b[0m \u001b[0;34m<<\u001b[0m \u001b[0;36m20\u001b[0m\u001b[0;34m)\u001b[0m\u001b[0;34m:\u001b[0m  \u001b[0;31m# 1M\u001b[0m\u001b[0;34m\u001b[0m\u001b[0;34m\u001b[0m\u001b[0m\n\u001b[1;32m   2422\u001b[0m         \u001b[0;31m# The broadcast will have same life cycle as created PythonRDD\u001b[0m\u001b[0;34m\u001b[0m\u001b[0;34m\u001b[0m\u001b[0;34m\u001b[0m\u001b[0m\n",
      "\u001b[0;32m/opt/spark/python/pyspark/serializers.py\u001b[0m in \u001b[0;36mdumps\u001b[0;34m(self, obj)\u001b[0m\n\u001b[1;32m    598\u001b[0m                 \u001b[0mmsg\u001b[0m \u001b[0;34m=\u001b[0m \u001b[0;34m\"Could not serialize object: %s: %s\"\u001b[0m \u001b[0;34m%\u001b[0m \u001b[0;34m(\u001b[0m\u001b[0me\u001b[0m\u001b[0;34m.\u001b[0m\u001b[0m__class__\u001b[0m\u001b[0;34m.\u001b[0m\u001b[0m__name__\u001b[0m\u001b[0;34m,\u001b[0m \u001b[0memsg\u001b[0m\u001b[0;34m)\u001b[0m\u001b[0;34m\u001b[0m\u001b[0;34m\u001b[0m\u001b[0m\n\u001b[1;32m    599\u001b[0m             \u001b[0mcloudpickle\u001b[0m\u001b[0;34m.\u001b[0m\u001b[0mprint_exec\u001b[0m\u001b[0;34m(\u001b[0m\u001b[0msys\u001b[0m\u001b[0;34m.\u001b[0m\u001b[0mstderr\u001b[0m\u001b[0;34m)\u001b[0m\u001b[0;34m\u001b[0m\u001b[0;34m\u001b[0m\u001b[0m\n\u001b[0;32m--> 600\u001b[0;31m             \u001b[0;32mraise\u001b[0m \u001b[0mpickle\u001b[0m\u001b[0;34m.\u001b[0m\u001b[0mPicklingError\u001b[0m\u001b[0;34m(\u001b[0m\u001b[0mmsg\u001b[0m\u001b[0;34m)\u001b[0m\u001b[0;34m\u001b[0m\u001b[0;34m\u001b[0m\u001b[0m\n\u001b[0m\u001b[1;32m    601\u001b[0m \u001b[0;34m\u001b[0m\u001b[0m\n\u001b[1;32m    602\u001b[0m \u001b[0;34m\u001b[0m\u001b[0m\n",
      "\u001b[0;31mPicklingError\u001b[0m: Could not serialize object: TypeError: can't pickle _thread.lock objects"
     ]
    }
   ],
   "source": [
    "df_geolocation2 = df_geolocation2.withColumn('address', general_f(reverse)(col('geolocation_lat'), col('geolocation_lng')))"
   ]
  },
  {
   "cell_type": "code",
   "execution_count": 71,
   "metadata": {},
   "outputs": [
    {
     "name": "stdout",
     "output_type": "stream",
     "text": [
      "root\n",
      " |-- geolocation_zip_code_prefix: integer (nullable = true)\n",
      " |-- geolocation_lat: double (nullable = true)\n",
      " |-- geolocation_lng: double (nullable = true)\n",
      " |-- geolocation_city: string (nullable = true)\n",
      " |-- geolocation_state: string (nullable = true)\n",
      " |-- address: string (nullable = true)\n",
      "\n"
     ]
    }
   ],
   "source": [
    "df_geolocation2.printSchema()"
   ]
  },
  {
   "cell_type": "code",
   "execution_count": 48,
   "metadata": {},
   "outputs": [
    {
     "name": "stdout",
     "output_type": "stream",
     "text": [
      "+---------------------------+-------------------+-------------------+----------------+-----------------+-------+\n",
      "|geolocation_zip_code_prefix|    geolocation_lat|    geolocation_lng|geolocation_city|geolocation_state|address|\n",
      "+---------------------------+-------------------+-------------------+----------------+-----------------+-------+\n",
      "|                       1037| -23.54562128115268| -46.63929204800168|       São Paulo|               SP|      1|\n",
      "|                       1046|-23.546081127035535| -46.64482029837157|       São Paulo|               SP|      1|\n",
      "|                       1046| -23.54612896641469| -46.64295148361138|       São Paulo|               SP|      1|\n",
      "|                       1041|  -23.5443921648681| -46.63949930627844|       São Paulo|               SP|      1|\n",
      "|                       1035|-23.541577961711493| -46.64160722329613|       São Paulo|               SP|      1|\n",
      "|                       1012|-23.547762303364266| -46.63536053788448|       São Paulo|               SP|      1|\n",
      "|                       1047|-23.546273112412678| -46.64122516971552|       São Paulo|               SP|      1|\n",
      "|                       1013|-23.546923208436723|  -46.6342636964915|       São Paulo|               SP|      1|\n",
      "|                       1029|-23.543769055769133| -46.63427784085132|       São Paulo|               SP|      1|\n",
      "|                       1011|-23.547639550320632| -46.63603162315495|       São Paulo|               SP|      1|\n",
      "|                       1013|-23.547325128224376| -46.63418378613892|       São Paulo|               SP|      1|\n",
      "|                       1032| -23.53841810407414|-46.634778375266734|       São Paulo|               SP|      1|\n",
      "|                       1014|-23.546435343326205| -46.63383023397196|       São Paulo|               SP|      1|\n",
      "|                       1012|-23.548945985189434| -46.63467113292871|       São Paulo|               SP|      1|\n",
      "|                       1037|-23.545187340816042| -46.63785524104107|       São Paulo|               SP|      1|\n",
      "|                       1046|-23.546081127035535| -46.64482029837157|       São Paulo|               SP|      1|\n",
      "|                       1039|-23.541883009983316| -46.63991946670314|       São Paulo|               SP|      1|\n",
      "|                       1024|-23.541389521053937|-46.629899087812184|       São Paulo|               SP|      1|\n",
      "|                       1009| -23.54693540437998| -46.63658792659698|       São Paulo|               SP|      1|\n",
      "|                       1046|-23.545884279214015|-46.643163191240035|       São Paulo|               SP|      1|\n",
      "+---------------------------+-------------------+-------------------+----------------+-----------------+-------+\n",
      "only showing top 20 rows\n",
      "\n"
     ]
    }
   ],
   "source": [
    "df_geolocation2.show()"
   ]
  },
  {
   "cell_type": "code",
   "execution_count": null,
   "metadata": {},
   "outputs": [],
   "source": []
  }
 ],
 "metadata": {
  "kernelspec": {
   "display_name": "PySpark",
   "language": "python",
   "name": "pyspark"
  },
  "language_info": {
   "codemirror_mode": {
    "name": "ipython",
    "version": 3
   },
   "file_extension": ".py",
   "mimetype": "text/x-python",
   "name": "python",
   "nbconvert_exporter": "python",
   "pygments_lexer": "ipython3",
   "version": "3.6.10"
  }
 },
 "nbformat": 4,
 "nbformat_minor": 2
}
